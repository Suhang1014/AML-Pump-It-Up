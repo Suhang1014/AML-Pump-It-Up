{
 "cells": [
  {
   "cell_type": "markdown",
   "metadata": {},
   "source": [
    "# DataCleaning by Daniel \n",
    "## In this ipynb, we will clean the data and create csv based on Su's document.\n",
    "## Based on Su's document, we will clean the dataset focusing on the features \"funder\", \"installer\"and 'scheme_management'. "
   ]
  },
  {
   "cell_type": "code",
   "execution_count": 1,
   "metadata": {},
   "outputs": [],
   "source": [
    "%matplotlib inline\n",
    "import numpy as np\n",
    "import pandas as pd\n",
    "import matplotlib.pyplot as plt\n",
    "import seaborn as sns\n",
    "sns.set(style = 'darkgrid')"
   ]
  },
  {
   "cell_type": "markdown",
   "metadata": {},
   "source": [
    "### 1.0 Load data"
   ]
  },
  {
   "cell_type": "code",
   "execution_count": 17,
   "metadata": {},
   "outputs": [
    {
     "data": {
      "text/plain": [
       "(14850, 40)"
      ]
     },
     "execution_count": 17,
     "metadata": {},
     "output_type": "execute_result"
    }
   ],
   "source": [
    "#load traning data\n",
    "train_values = pd.read_csv('data/training_set_values.csv')\n",
    "train_labels = pd.read_csv('data/training_set_labels.csv')\n",
    "# Merge these two datasets\n",
    "df_train = train_values.merge(train_labels, on='id', how='inner')\n",
    "# df_train.shape\n",
    "#Load test data\n",
    "df_test = pd.read_csv('data/test_set_values.csv')\n",
    "df_test.shape"
   ]
  },
  {
   "cell_type": "markdown",
   "metadata": {},
   "source": [
    "### 1.1 Check null value"
   ]
  },
  {
   "cell_type": "code",
   "execution_count": 3,
   "metadata": {
    "collapsed": true
   },
   "outputs": [
    {
     "data": {
      "text/plain": [
       "id                           0\n",
       "amount_tsh                   0\n",
       "date_recorded                0\n",
       "funder                    3635\n",
       "gps_height                   0\n",
       "installer                 3655\n",
       "longitude                    0\n",
       "latitude                     0\n",
       "wpt_name                     0\n",
       "num_private                  0\n",
       "basin                        0\n",
       "subvillage                 371\n",
       "region                       0\n",
       "region_code                  0\n",
       "district_code                0\n",
       "lga                          0\n",
       "ward                         0\n",
       "population                   0\n",
       "public_meeting            3334\n",
       "recorded_by                  0\n",
       "scheme_management         3877\n",
       "scheme_name              28166\n",
       "permit                    3056\n",
       "construction_year            0\n",
       "extraction_type              0\n",
       "extraction_type_group        0\n",
       "extraction_type_class        0\n",
       "management                   0\n",
       "management_group             0\n",
       "payment                      0\n",
       "payment_type                 0\n",
       "water_quality                0\n",
       "quality_group                0\n",
       "quantity                     0\n",
       "quantity_group               0\n",
       "source                       0\n",
       "source_type                  0\n",
       "source_class                 0\n",
       "waterpoint_type              0\n",
       "waterpoint_type_group        0\n",
       "status_group                 0\n",
       "dtype: int64"
      ]
     },
     "execution_count": 3,
     "metadata": {},
     "output_type": "execute_result"
    }
   ],
   "source": [
    "# List number of null values\n",
    "df_train.apply(lambda x: sum(x.isnull()))"
   ]
  },
  {
   "cell_type": "code",
   "execution_count": 4,
   "metadata": {},
   "outputs": [
    {
     "data": {
      "text/plain": [
       "(59400, 41)"
      ]
     },
     "execution_count": 4,
     "metadata": {},
     "output_type": "execute_result"
    }
   ],
   "source": [
    "df_train.shape"
   ]
  },
  {
   "cell_type": "markdown",
   "metadata": {},
   "source": [
    "### 1.2 Drop 10+6+2 redundant columns"
   ]
  },
  {
   "cell_type": "code",
   "execution_count": 18,
   "metadata": {},
   "outputs": [],
   "source": [
    "df_train = df_train.drop(columns = ['extraction_type','extraction_type_group','management','payment','quality_group','quantity_group','source_type','source','waterpoint_type'])\n",
    "df_test = df_test.drop(columns = ['extraction_type','extraction_type_group','management','payment','quality_group','quantity_group','source_type','source','waterpoint_type'])\n",
    "# There are too many null values in 'scheme name', so drop it\n",
    "df_train = df_train.drop(columns = ['scheme_name'])\n",
    "df_test = df_test.drop(columns = ['scheme_name'])\n",
    "# df_train.shape\n",
    "\n",
    "# drop wpt_name,num_private,subvillage,region_code,district_code,recorded_by\n",
    "\n",
    "df_train = df_train.drop(columns = ['wpt_name'])\n",
    "df_test = df_test.drop(columns = ['wpt_name'])\n",
    "df_train = df_train.drop(columns = ['num_private'])\n",
    "df_test = df_test.drop(columns = ['num_private'])\n",
    "df_train = df_train.drop(columns=['subvillage'])\n",
    "df_test = df_test.drop(columns=['subvillage'])\n",
    "df_train = df_train.drop(columns = ['region_code', 'district_code'])\n",
    "df_test = df_test.drop(columns = ['region_code', 'district_code'])\n",
    "df_train = df_train.drop(columns = ['recorded_by'])\n",
    "df_test = df_test.drop(columns = ['recorded_by'])\n",
    "\n",
    "# Drop other geographical columns: 'lga', 'ward' \n",
    "df_train = df_train.drop(columns=['lga','ward'])\n",
    "df_test = df_test.drop(columns=['lga','ward'])"
   ]
  },
  {
   "cell_type": "markdown",
   "metadata": {},
   "source": [
    "### 1.3 fill nan\n",
    "fill nan with 'unknown'"
   ]
  },
  {
   "cell_type": "code",
   "execution_count": 19,
   "metadata": {},
   "outputs": [],
   "source": [
    "# Attention: there are 3334 null values in this column, not too much, replace NA by unknow\n",
    "df_train['public_meeting'] = df_train['public_meeting'].fillna('unknown')\n",
    "df_test['public_meeting'] = df_test['public_meeting'].fillna('unknown')\n",
    "\n",
    "# Attention: 3056 NA, replace by unknown\n",
    "df_train['permit'] = df_train['permit'].fillna('unknown')\n",
    "df_test['permit'] = df_test['permit'].fillna('unknown')"
   ]
  },
  {
   "cell_type": "markdown",
   "metadata": {},
   "source": [
    "### 1.4 Categories 'construction_year'"
   ]
  },
  {
   "cell_type": "code",
   "execution_count": 20,
   "metadata": {},
   "outputs": [
    {
     "data": {
      "text/plain": [
       "array(['90s', '10s', '00s', '80s', 'unknown', '70s', '60s'], dtype=object)"
      ]
     },
     "execution_count": 20,
     "metadata": {},
     "output_type": "execute_result"
    }
   ],
   "source": [
    "# df_train['permit'].isnull().sum()\n",
    "def con_year_cleaning(df):\n",
    "    year = df['construction_year'] \n",
    "    if year >= 1960 and year < 1970:\n",
    "        return '60s'\n",
    "    elif year >= 1970 and year < 1980:\n",
    "        return '70s'\n",
    "    elif year >= 1980 and year < 1990:\n",
    "        return '80s'\n",
    "    elif year >= 1990 and year < 2000:\n",
    "        return '90s'\n",
    "    elif year >= 2000 and year < 2010:\n",
    "        return '00s'\n",
    "    elif year >= 2010:\n",
    "        return '10s'\n",
    "    else:\n",
    "        return 'unknown'\n",
    "df_train['construction_year'] = df_train.apply(lambda row: con_year_cleaning(row), axis=1)\n",
    "df_test['construction_year'] = df_test.apply(lambda row: con_year_cleaning(row), axis=1)\n",
    "df_train['construction_year'].unique()"
   ]
  },
  {
   "cell_type": "code",
   "execution_count": 21,
   "metadata": {},
   "outputs": [],
   "source": [
    "import re"
   ]
  },
  {
   "cell_type": "code",
   "execution_count": null,
   "metadata": {},
   "outputs": [],
   "source": []
  },
  {
   "cell_type": "code",
   "execution_count": 87,
   "metadata": {},
   "outputs": [
    {
     "data": {
      "text/plain": [
       "other         22861\n",
       "government    11748\n",
       "community      6317\n",
       "unknown        4412\n",
       "danida         3114\n",
       "hesawa         2202\n",
       "rwssp          1374\n",
       "kkkt           1287\n",
       "individual     1144\n",
       "unicef         1057\n",
       "tasaf           877\n",
       "dhv             829\n",
       "dwsp            811\n",
       "norad           765\n",
       "tcrs            602\n",
       "dtype: int64"
      ]
     },
     "execution_count": 87,
     "metadata": {},
     "output_type": "execute_result"
    }
   ],
   "source": [
    "# test for the manually categories the funder category\n",
    "# some like \"government/ community \" are categories as government\n",
    "# church has many \n",
    "# an idea: turn the 'nan' and '0' to be unknown \n",
    "# an idea: turn teh danida and danid as one value\n",
    "# an idea: keep the values that count>500\n",
    "\n",
    "def funder_cleaning(df):\n",
    "    data = str(df['funder']).lower() # turn into string first\n",
    "    pattern1 = 'gover.+'\n",
    "    pattern2 = 'commu.+'\n",
    "    pattern3 = 'priv.+'\n",
    "    pattern4 = 'repub.+' # republic\n",
    "    pattern5 = 'minis.+' # minist\n",
    "    pattern6 = 'world.+' # big name \n",
    "    pattern7 = 'chur.+' # church\n",
    "    pattern8 = 'coun.+' # council\n",
    "    pattern9 = 'wate.+' # water: big name \n",
    "    pattern10 = 'dani.+' # church\n",
    "    pattern7 = 'chur.+' # church\n",
    "    if(re.search(pattern1, data)):\n",
    "        return \"government\"\n",
    "#         return data\n",
    "    elif(re.search(pattern2, data)):\n",
    "        return \"community\"\n",
    "    elif(re.search(pattern3, data)):\n",
    "        return 'individual'\n",
    "    elif(re.search(pattern4, data)):\n",
    "        return \"government\" # republic\n",
    "    elif(re.search(pattern5, data)):\n",
    "        return \"government\" # ministry \n",
    "    elif(re.search(pattern6, data)):\n",
    "        return \"community\" # world bank, vision \n",
    "    elif(re.search(pattern7, data)):\n",
    "        return \"community\" # church \n",
    "    elif(re.search(pattern8, data)):\n",
    "        return \"government\" # council \n",
    "    elif(re.search(pattern9, data)):\n",
    "        return \"community\" # water as a big name \n",
    "#     elif(re.search(pattern10, data)):\n",
    "#         return data\n",
    "    elif(data=='nan' or data=='0'):\n",
    "        return \"unknown\" # danida as a top name \n",
    "    elif(data=='danida'):\n",
    "        return 'danida'\n",
    "    elif(data=='hesawa'):\n",
    "        return 'hesawa'\n",
    "    elif(data=='rwssp'):\n",
    "        return 'rwssp'\n",
    "    elif(data=='kkkt'):\n",
    "        return 'kkkt'\n",
    "    elif(data=='unicef'):\n",
    "        return 'unicef'\n",
    "    elif(data=='tasaf'):\n",
    "        return 'tasaf'\n",
    "    elif(data=='dhv'):\n",
    "        return 'dhv'\n",
    "    elif(data=='dwsp'):\n",
    "        return 'dwsp'\n",
    "    elif(data=='norad'):\n",
    "        return 'norad'\n",
    "    elif(data=='tcrs'):\n",
    "        return 'tcrs'\n",
    "    else:\n",
    "        return \"other\"\n",
    "#         return data\n",
    "# df_train['funder'] = df_train.apply(lambda row: funder_cleaning(row), axis=1)\n",
    "df_funder = df_train.apply(lambda row: funder_cleaning(row), axis=1)\n",
    "df_funder.value_counts()"
   ]
  },
  {
   "cell_type": "code",
   "execution_count": 80,
   "metadata": {},
   "outputs": [
    {
     "data": {
      "text/plain": [
       "other         20857\n",
       "dwe           17405\n",
       "community      5436\n",
       "government     4541\n",
       "unknown        4432\n",
       "danida         1678\n",
       "hesawa         1395\n",
       "rwe            1206\n",
       "kkkt            910\n",
       "tcrs            707\n",
       "ces             610\n",
       "individual      223\n",
       "dtype: int64"
      ]
     },
     "execution_count": 80,
     "metadata": {},
     "output_type": "execute_result"
    }
   ],
   "source": [
    "# based on the funder_cleaning \n",
    "# an idea: turn the 'nan' and '0' to be unknown \n",
    "# an idea: turn teh danida and danid as one value\n",
    "# an idea: keep the values that count>500\n",
    "def installer_cleaning(df):\n",
    "    data = str(df['installer']).lower()\n",
    "    pattern1 = 'gove.+'\n",
    "    pattern2 = 'comm.+'\n",
    "    pattern3 = 'priv.+'\n",
    "    pattern4 = 'repub.+' # republic\n",
    "    pattern5 = 'minis.+' # minist\n",
    "    pattern6 = 'world.+' # big name \n",
    "    pattern7 = 'chur.+' # church\n",
    "    pattern8 = 'coun.+' # council\n",
    "    pattern9 = 'wate.+' # water: big name \n",
    "    pattern10 = 'dani.+' # church\n",
    "    pattern7 = 'chur.+' # church\n",
    "    if(re.search(pattern1, data)):\n",
    "        return \"government\"\n",
    "#         return data\n",
    "    elif(re.search(pattern2, data)):\n",
    "        return \"community\"\n",
    "    elif(re.search(pattern3, data)):\n",
    "        return 'individual'\n",
    "    elif(re.search(pattern4, data)):\n",
    "        return \"government\" # republic\n",
    "    elif(re.search(pattern5, data)):\n",
    "        return \"government\" # ministry \n",
    "    elif(re.search(pattern6, data)):\n",
    "        return \"community\" # world bank, vision \n",
    "    elif(re.search(pattern7, data)):\n",
    "        return \"community\" # church \n",
    "    elif(re.search(pattern8, data)):\n",
    "        return \"government\" # council \n",
    "    elif(re.search(pattern9, data)):\n",
    "        return \"community\" # water as a big name \n",
    "    elif(re.search(pattern10, data)):\n",
    "        return \"danida\" # danida as a top name \n",
    "    elif(data=='nan' or data=='0'):\n",
    "        return \"unknown\" # danida as a top name \n",
    "    elif(data=='dwe'):\n",
    "        return 'dwe'\n",
    "    elif(data=='hesawa'):\n",
    "        return 'hesawa'\n",
    "    elif(data=='rwe'):\n",
    "        return 'rwe'\n",
    "    elif(data=='kkkt'):\n",
    "        return 'kkkt'\n",
    "    elif(data=='tcrs'):\n",
    "        return 'tcrs'\n",
    "    elif(data=='ces'):\n",
    "        return 'ces'\n",
    "#         return data\n",
    "    else:\n",
    "        return \"other\"\n",
    "#         return data\n",
    "# df_train['funder'] = df_train.apply(lambda row: funder_cleaning(row), axis=1)\n",
    "d_inst = df_train.apply(lambda row: installer_cleaning(row), axis=1)\n",
    "d_inst.value_counts()"
   ]
  },
  {
   "cell_type": "markdown",
   "metadata": {},
   "source": [
    "### 1.5 Key Part: Data cleaning for features: funder,installer,scheme_management.\n",
    "#### we still maintain top5 values using the lowercase of values and then set the other values as \"other\"."
   ]
  },
  {
   "cell_type": "code",
   "execution_count": 91,
   "metadata": {},
   "outputs": [
    {
     "data": {
      "text/plain": [
       "other         28417\n",
       "government    11748\n",
       "community      6317\n",
       "danida         3114\n",
       "hesawa         2202\n",
       "rwssp          1374\n",
       "kkkt           1287\n",
       "unicef         1057\n",
       "tasaf           877\n",
       "dhv             829\n",
       "dwsp            811\n",
       "norad           765\n",
       "tcrs            602\n",
       "Name: funder, dtype: int64"
      ]
     },
     "execution_count": 91,
     "metadata": {},
     "output_type": "execute_result"
    }
   ],
   "source": [
    "# d_fun = df_train.apply(lambda row: funder_cleaning(row), axis=1)\n",
    "df_train['funder'] = df_train.apply(lambda row: funder_cleaning(row), axis=1)\n",
    "df_test['funder'] = df_test.apply(lambda row: funder_cleaning(row), axis=1)\n",
    "df_train['funder'].value_counts()"
   ]
  },
  {
   "cell_type": "code",
   "execution_count": 90,
   "metadata": {
    "scrolled": true
   },
   "outputs": [
    {
     "data": {
      "text/plain": [
       "array(['other', 'community', 'dwe', 'danida', 'government', 'kkkt', 'rwe',\n",
       "       'hesawa', 'ces', 'tcrs'], dtype=object)"
      ]
     },
     "execution_count": 90,
     "metadata": {},
     "output_type": "execute_result"
    }
   ],
   "source": [
    "# d_inst = df_train.apply(lambda row: installer_cleaning(row), axis=1)\n",
    "# d_inst.value_counts()\n",
    "df_train['installer'] = df_train.apply(lambda row: installer_cleaning(row), axis=1)\n",
    "df_test['installer'] = df_test.apply(lambda row: installer_cleaning(row), axis=1)\n",
    "df_train['installer'].unique()"
   ]
  },
  {
   "cell_type": "code",
   "execution_count": 54,
   "metadata": {},
   "outputs": [
    {
     "data": {
      "text/plain": [
       "VWC                 36793\n",
       "WUG                  5206\n",
       "Water authority      3153\n",
       "WUA                  2883\n",
       "Water Board          2748\n",
       "Parastatal           1680\n",
       "Private operator     1063\n",
       "Company              1061\n",
       "Other                 766\n",
       "SWC                    97\n",
       "Trust                  72\n",
       "None                    1\n",
       "Name: scheme_management, dtype: int64"
      ]
     },
     "execution_count": 54,
     "metadata": {},
     "output_type": "execute_result"
    }
   ],
   "source": [
    "# 'scheme_management':One who operates the waterpoint.\n",
    "df_train['scheme_management'].value_counts()"
   ]
  },
  {
   "cell_type": "code",
   "execution_count": 12,
   "metadata": {},
   "outputs": [],
   "source": [
    "# Keep top 5\n",
    "def scheme_cleaning(df):\n",
    "    data = str(df['scheme_management']).lower()\n",
    "    if data == 'VWC'.lower():\n",
    "        return 'vwc'\n",
    "    elif data == 'WUG'.lower():\n",
    "        return 'wug'\n",
    "    elif data == 'Water authority'.lower():\n",
    "        return 'water_authority'\n",
    "    elif data == 'WUA'.lower():\n",
    "        return 'wua'\n",
    "    elif data == 'Water Board'.lower():\n",
    "        return 'water_board'\n",
    "    else:\n",
    "        return 'other'"
   ]
  },
  {
   "cell_type": "code",
   "execution_count": 13,
   "metadata": {},
   "outputs": [
    {
     "data": {
      "text/plain": [
       "vwc                36793\n",
       "other               8617\n",
       "wug                 5206\n",
       "water_authority     3153\n",
       "wua                 2883\n",
       "water_board         2748\n",
       "Name: scheme_management, dtype: int64"
      ]
     },
     "execution_count": 13,
     "metadata": {},
     "output_type": "execute_result"
    }
   ],
   "source": [
    "df_train['scheme_management'] = df_train.apply(lambda row: scheme_cleaning(row), axis=1)\n",
    "df_train['scheme_management'].value_counts()"
   ]
  },
  {
   "cell_type": "markdown",
   "metadata": {},
   "source": [
    "# Note: (Uncomplete)\n",
    "### 1.6 transform the time(mainly based on the date_recorded)\n",
    "### This part from Zii"
   ]
  },
  {
   "cell_type": "code",
   "execution_count": 77,
   "metadata": {},
   "outputs": [],
   "source": [
    "# just a try\n",
    "# Transform the string date into days since recorded\n",
    "# df_train['date_recorded'] = pd.to_datetime(df_train['date_recorded']) - pd.to_datetime(df_train['construction_year'])\n",
    "# df_train.rename(columns = {'date_recorded':'days_since_recorded'}, inplace=True)\n",
    "# df_test['date_recorded'] = pd.to_datetime(df_test['date_recorded']) - pd.to_datetime(df_test['construction_year'])\n",
    "# df_test.rename(columns = {'date_recorded':'days_since_recorded'}, inplace=True)\n",
    "# df_train['days_since_recorded'] = df_train['days_since_recorded'].astype('timedelta64[D]').astype(int)\n",
    "# df_test['days_since_recorded'] = df_test['days_since_recorded'].astype('timedelta64[D]').astype(int)"
   ]
  },
  {
   "cell_type": "code",
   "execution_count": 16,
   "metadata": {},
   "outputs": [
    {
     "data": {
      "text/html": [
       "<div>\n",
       "<style scoped>\n",
       "    .dataframe tbody tr th:only-of-type {\n",
       "        vertical-align: middle;\n",
       "    }\n",
       "\n",
       "    .dataframe tbody tr th {\n",
       "        vertical-align: top;\n",
       "    }\n",
       "\n",
       "    .dataframe thead th {\n",
       "        text-align: right;\n",
       "    }\n",
       "</style>\n",
       "<table border=\"1\" class=\"dataframe\">\n",
       "  <thead>\n",
       "    <tr style=\"text-align: right;\">\n",
       "      <th></th>\n",
       "      <th>id</th>\n",
       "      <th>amount_tsh</th>\n",
       "      <th>date_recorded</th>\n",
       "      <th>funder</th>\n",
       "      <th>gps_height</th>\n",
       "      <th>installer</th>\n",
       "      <th>longitude</th>\n",
       "      <th>latitude</th>\n",
       "      <th>basin</th>\n",
       "      <th>region</th>\n",
       "      <th>...</th>\n",
       "      <th>permit</th>\n",
       "      <th>construction_year</th>\n",
       "      <th>extraction_type_class</th>\n",
       "      <th>management_group</th>\n",
       "      <th>payment_type</th>\n",
       "      <th>water_quality</th>\n",
       "      <th>quantity</th>\n",
       "      <th>source_class</th>\n",
       "      <th>waterpoint_type_group</th>\n",
       "      <th>status_group</th>\n",
       "    </tr>\n",
       "  </thead>\n",
       "  <tbody>\n",
       "    <tr>\n",
       "      <th>0</th>\n",
       "      <td>69572</td>\n",
       "      <td>6000.0</td>\n",
       "      <td>2011-03-14</td>\n",
       "      <td>other</td>\n",
       "      <td>1390</td>\n",
       "      <td>Roman</td>\n",
       "      <td>34.938093</td>\n",
       "      <td>-9.856322</td>\n",
       "      <td>Lake Nyasa</td>\n",
       "      <td>Iringa</td>\n",
       "      <td>...</td>\n",
       "      <td>False</td>\n",
       "      <td>90s</td>\n",
       "      <td>gravity</td>\n",
       "      <td>user-group</td>\n",
       "      <td>annually</td>\n",
       "      <td>soft</td>\n",
       "      <td>enough</td>\n",
       "      <td>groundwater</td>\n",
       "      <td>communal standpipe</td>\n",
       "      <td>functional</td>\n",
       "    </tr>\n",
       "    <tr>\n",
       "      <th>1</th>\n",
       "      <td>8776</td>\n",
       "      <td>0.0</td>\n",
       "      <td>2013-03-06</td>\n",
       "      <td>other</td>\n",
       "      <td>1399</td>\n",
       "      <td>GRUMETI</td>\n",
       "      <td>34.698766</td>\n",
       "      <td>-2.147466</td>\n",
       "      <td>Lake Victoria</td>\n",
       "      <td>Mara</td>\n",
       "      <td>...</td>\n",
       "      <td>True</td>\n",
       "      <td>10s</td>\n",
       "      <td>gravity</td>\n",
       "      <td>user-group</td>\n",
       "      <td>never pay</td>\n",
       "      <td>soft</td>\n",
       "      <td>insufficient</td>\n",
       "      <td>surface</td>\n",
       "      <td>communal standpipe</td>\n",
       "      <td>functional</td>\n",
       "    </tr>\n",
       "    <tr>\n",
       "      <th>2</th>\n",
       "      <td>34310</td>\n",
       "      <td>25.0</td>\n",
       "      <td>2013-02-25</td>\n",
       "      <td>other</td>\n",
       "      <td>686</td>\n",
       "      <td>World vision</td>\n",
       "      <td>37.460664</td>\n",
       "      <td>-3.821329</td>\n",
       "      <td>Pangani</td>\n",
       "      <td>Manyara</td>\n",
       "      <td>...</td>\n",
       "      <td>True</td>\n",
       "      <td>00s</td>\n",
       "      <td>gravity</td>\n",
       "      <td>user-group</td>\n",
       "      <td>per bucket</td>\n",
       "      <td>soft</td>\n",
       "      <td>enough</td>\n",
       "      <td>surface</td>\n",
       "      <td>communal standpipe</td>\n",
       "      <td>functional</td>\n",
       "    </tr>\n",
       "    <tr>\n",
       "      <th>3</th>\n",
       "      <td>67743</td>\n",
       "      <td>0.0</td>\n",
       "      <td>2013-01-28</td>\n",
       "      <td>other</td>\n",
       "      <td>263</td>\n",
       "      <td>UNICEF</td>\n",
       "      <td>38.486161</td>\n",
       "      <td>-11.155298</td>\n",
       "      <td>Ruvuma / Southern Coast</td>\n",
       "      <td>Mtwara</td>\n",
       "      <td>...</td>\n",
       "      <td>True</td>\n",
       "      <td>80s</td>\n",
       "      <td>submersible</td>\n",
       "      <td>user-group</td>\n",
       "      <td>never pay</td>\n",
       "      <td>soft</td>\n",
       "      <td>dry</td>\n",
       "      <td>groundwater</td>\n",
       "      <td>communal standpipe</td>\n",
       "      <td>non functional</td>\n",
       "    </tr>\n",
       "    <tr>\n",
       "      <th>4</th>\n",
       "      <td>19728</td>\n",
       "      <td>0.0</td>\n",
       "      <td>2011-07-13</td>\n",
       "      <td>other</td>\n",
       "      <td>0</td>\n",
       "      <td>Artisan</td>\n",
       "      <td>31.130847</td>\n",
       "      <td>-1.825359</td>\n",
       "      <td>Lake Victoria</td>\n",
       "      <td>Kagera</td>\n",
       "      <td>...</td>\n",
       "      <td>True</td>\n",
       "      <td>unknown</td>\n",
       "      <td>gravity</td>\n",
       "      <td>other</td>\n",
       "      <td>never pay</td>\n",
       "      <td>soft</td>\n",
       "      <td>seasonal</td>\n",
       "      <td>surface</td>\n",
       "      <td>communal standpipe</td>\n",
       "      <td>functional</td>\n",
       "    </tr>\n",
       "  </tbody>\n",
       "</table>\n",
       "<p>5 rows × 23 columns</p>\n",
       "</div>"
      ],
      "text/plain": [
       "      id  amount_tsh date_recorded funder  gps_height     installer  \\\n",
       "0  69572      6000.0    2011-03-14  other        1390         Roman   \n",
       "1   8776         0.0    2013-03-06  other        1399       GRUMETI   \n",
       "2  34310        25.0    2013-02-25  other         686  World vision   \n",
       "3  67743         0.0    2013-01-28  other         263        UNICEF   \n",
       "4  19728         0.0    2011-07-13  other           0       Artisan   \n",
       "\n",
       "   longitude   latitude                    basin   region       ...        \\\n",
       "0  34.938093  -9.856322               Lake Nyasa   Iringa       ...         \n",
       "1  34.698766  -2.147466            Lake Victoria     Mara       ...         \n",
       "2  37.460664  -3.821329                  Pangani  Manyara       ...         \n",
       "3  38.486161 -11.155298  Ruvuma / Southern Coast   Mtwara       ...         \n",
       "4  31.130847  -1.825359            Lake Victoria   Kagera       ...         \n",
       "\n",
       "   permit construction_year extraction_type_class management_group  \\\n",
       "0   False               90s               gravity       user-group   \n",
       "1    True               10s               gravity       user-group   \n",
       "2    True               00s               gravity       user-group   \n",
       "3    True               80s           submersible       user-group   \n",
       "4    True           unknown               gravity            other   \n",
       "\n",
       "  payment_type water_quality      quantity source_class waterpoint_type_group  \\\n",
       "0     annually          soft        enough  groundwater    communal standpipe   \n",
       "1    never pay          soft  insufficient      surface    communal standpipe   \n",
       "2   per bucket          soft        enough      surface    communal standpipe   \n",
       "3    never pay          soft           dry  groundwater    communal standpipe   \n",
       "4    never pay          soft      seasonal      surface    communal standpipe   \n",
       "\n",
       "     status_group  \n",
       "0      functional  \n",
       "1      functional  \n",
       "2      functional  \n",
       "3  non functional  \n",
       "4      functional  \n",
       "\n",
       "[5 rows x 23 columns]"
      ]
     },
     "execution_count": 16,
     "metadata": {},
     "output_type": "execute_result"
    }
   ],
   "source": [
    "df_train.head()"
   ]
  },
  {
   "cell_type": "markdown",
   "metadata": {},
   "source": [
    "# Differ from Su's, I save the 'longitude', 'latitude' \n",
    "\n",
    "# After the record time and population , we can tocsv and get a csv file."
   ]
  },
  {
   "cell_type": "code",
   "execution_count": 78,
   "metadata": {},
   "outputs": [],
   "source": [
    "# to csv"
   ]
  },
  {
   "cell_type": "code",
   "execution_count": null,
   "metadata": {},
   "outputs": [],
   "source": [
    "# test for the "
   ]
  },
  {
   "cell_type": "code",
   "execution_count": null,
   "metadata": {},
   "outputs": [],
   "source": []
  }
 ],
 "metadata": {
  "kernelspec": {
   "display_name": "Python 3",
   "language": "python",
   "name": "python3"
  },
  "language_info": {
   "codemirror_mode": {
    "name": "ipython",
    "version": 3
   },
   "file_extension": ".py",
   "mimetype": "text/x-python",
   "name": "python",
   "nbconvert_exporter": "python",
   "pygments_lexer": "ipython3",
   "version": "3.7.2"
  }
 },
 "nbformat": 4,
 "nbformat_minor": 2
}
