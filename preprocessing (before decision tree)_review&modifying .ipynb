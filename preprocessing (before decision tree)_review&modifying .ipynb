{
 "cells": [
  {
   "cell_type": "code",
   "execution_count": 21,
   "metadata": {},
   "outputs": [],
   "source": [
    "%matplotlib inline\n",
    "import numpy as np\n",
    "import pandas as pd\n",
    "import matplotlib.pyplot as plt\n",
    "import seaborn as sns\n",
    "sns.set(style = 'darkgrid')"
   ]
  },
  {
   "cell_type": "code",
   "execution_count": 22,
   "metadata": {},
   "outputs": [],
   "source": [
    "train_values = pd.read_csv('data/training_set_values.csv')\n",
    "train_labels = pd.read_csv('data/training_set_labels.csv')"
   ]
  },
  {
   "cell_type": "code",
   "execution_count": 23,
   "metadata": {},
   "outputs": [
    {
     "data": {
      "text/plain": [
       "(59400, 41)"
      ]
     },
     "execution_count": 23,
     "metadata": {},
     "output_type": "execute_result"
    }
   ],
   "source": [
    "df_train = train_values.merge(train_labels, on='id', how='inner')\n",
    "df_train.shape"
   ]
  },
  {
   "cell_type": "code",
   "execution_count": 24,
   "metadata": {},
   "outputs": [
    {
     "data": {
      "text/plain": [
       "(14850, 40)"
      ]
     },
     "execution_count": 24,
     "metadata": {},
     "output_type": "execute_result"
    }
   ],
   "source": [
    "df_test = pd.read_csv('data/test_set_values.csv')\n",
    "df_test.shape"
   ]
  },
  {
   "cell_type": "code",
   "execution_count": 25,
   "metadata": {},
   "outputs": [
    {
     "data": {
      "text/plain": [
       "id                           0\n",
       "amount_tsh                   0\n",
       "date_recorded                0\n",
       "funder                    3635\n",
       "gps_height                   0\n",
       "installer                 3655\n",
       "longitude                    0\n",
       "latitude                     0\n",
       "wpt_name                     0\n",
       "num_private                  0\n",
       "basin                        0\n",
       "subvillage                 371\n",
       "region                       0\n",
       "region_code                  0\n",
       "district_code                0\n",
       "lga                          0\n",
       "ward                         0\n",
       "population                   0\n",
       "public_meeting            3334\n",
       "recorded_by                  0\n",
       "scheme_management         3877\n",
       "scheme_name              28166\n",
       "permit                    3056\n",
       "construction_year            0\n",
       "extraction_type              0\n",
       "extraction_type_group        0\n",
       "extraction_type_class        0\n",
       "management                   0\n",
       "management_group             0\n",
       "payment                      0\n",
       "payment_type                 0\n",
       "water_quality                0\n",
       "quality_group                0\n",
       "quantity                     0\n",
       "quantity_group               0\n",
       "source                       0\n",
       "source_type                  0\n",
       "source_class                 0\n",
       "waterpoint_type              0\n",
       "waterpoint_type_group        0\n",
       "status_group                 0\n",
       "dtype: int64"
      ]
     },
     "execution_count": 25,
     "metadata": {},
     "output_type": "execute_result"
    }
   ],
   "source": [
    "df_train.apply(lambda x: sum(x.isnull()))"
   ]
  },
  {
   "cell_type": "code",
   "execution_count": 26,
   "metadata": {},
   "outputs": [],
   "source": [
    "#longtitude temporarily droped\n",
    "#Temporarily keep subvillage, num_private date_recorded\n",
    "df_train = df_train.drop(columns = ['lga','ward','region_code', 'district_code','wpt_name','longitude', 'latitude','scheme_name','extraction_type','extraction_type_group','management','payment','quality_group','quantity_group','source_type','source','waterpoint_type'])\n",
    "df_test = df_test.drop(columns = ['lga','ward','region_code', 'district_code','wpt_name','longitude', 'latitude','scheme_name','extraction_type','extraction_type_group','management','payment','quality_group','quantity_group','source_type','source','waterpoint_type'])\n"
   ]
  },
  {
   "cell_type": "code",
   "execution_count": 27,
   "metadata": {},
   "outputs": [
    {
     "data": {
      "text/plain": [
       "Index(['id', 'amount_tsh', 'date_recorded', 'funder', 'gps_height',\n",
       "       'installer', 'num_private', 'basin', 'subvillage', 'region',\n",
       "       'population', 'public_meeting', 'recorded_by', 'scheme_management',\n",
       "       'permit', 'construction_year', 'extraction_type_class',\n",
       "       'management_group', 'payment_type', 'water_quality', 'quantity',\n",
       "       'source_class', 'waterpoint_type_group', 'status_group'],\n",
       "      dtype='object')"
      ]
     },
     "execution_count": 27,
     "metadata": {},
     "output_type": "execute_result"
    }
   ],
   "source": [
    "df_train.columns"
   ]
  },
  {
   "cell_type": "code",
   "execution_count": 50,
   "metadata": {},
   "outputs": [
    {
     "data": {
      "text/plain": [
       "(59400, 24)"
      ]
     },
     "execution_count": 50,
     "metadata": {},
     "output_type": "execute_result"
    }
   ],
   "source": [
    "df_train.shape"
   ]
  },
  {
   "cell_type": "code",
   "execution_count": 29,
   "metadata": {},
   "outputs": [
    {
     "data": {
      "text/plain": [
       "(14850, 23)"
      ]
     },
     "execution_count": 29,
     "metadata": {},
     "output_type": "execute_result"
    }
   ],
   "source": [
    "df_test.shape"
   ]
  },
  {
   "cell_type": "code",
   "execution_count": 30,
   "metadata": {},
   "outputs": [
    {
     "data": {
      "text/plain": [
       "id                          0\n",
       "amount_tsh                  0\n",
       "date_recorded               0\n",
       "funder                   3635\n",
       "gps_height                  0\n",
       "installer                3655\n",
       "num_private                 0\n",
       "basin                       0\n",
       "subvillage                371\n",
       "region                      0\n",
       "population                  0\n",
       "public_meeting           3334\n",
       "recorded_by                 0\n",
       "scheme_management        3877\n",
       "permit                   3056\n",
       "construction_year           0\n",
       "extraction_type_class       0\n",
       "management_group            0\n",
       "payment_type                0\n",
       "water_quality               0\n",
       "quantity                    0\n",
       "source_class                0\n",
       "waterpoint_type_group       0\n",
       "status_group                0\n",
       "dtype: int64"
      ]
     },
     "execution_count": 30,
     "metadata": {},
     "output_type": "execute_result"
    }
   ],
   "source": [
    "df_train.apply(lambda x: sum(x.isnull()))"
   ]
  },
  {
   "cell_type": "markdown",
   "metadata": {},
   "source": [
    "### From here, if in test dataset, the value of variables below is not belong to any known class, then set it to 'unknown'"
   ]
  },
  {
   "cell_type": "code",
   "execution_count": 31,
   "metadata": {},
   "outputs": [],
   "source": [
    "df_train['funder'] = df_train['funder'].fillna('unknown')\n",
    "df_test['funder'] = df_test['funder'].fillna('unknown')"
   ]
  },
  {
   "cell_type": "code",
   "execution_count": 32,
   "metadata": {},
   "outputs": [],
   "source": [
    "df_train['installer'] = df_train['installer'].fillna('unknown')\n",
    "df_test['installer'] = df_test['installer'].fillna('unknown')"
   ]
  },
  {
   "cell_type": "code",
   "execution_count": 33,
   "metadata": {},
   "outputs": [],
   "source": [
    "df_train['subvillage'] = df_train['subvillage'].fillna('unknown')\n",
    "df_test['subvillage'] = df_test['subvillage'].fillna('unknown')"
   ]
  },
  {
   "cell_type": "code",
   "execution_count": 34,
   "metadata": {},
   "outputs": [],
   "source": [
    "df_train['scheme_management'] = df_train['scheme_management'].fillna('unknown')\n",
    "df_test['scheme_management'] = df_test['scheme_management'].fillna('unknown')"
   ]
  },
  {
   "cell_type": "code",
   "execution_count": 35,
   "metadata": {},
   "outputs": [],
   "source": [
    "df_train['permit'] = df_train['permit'].fillna('unknown')\n",
    "df_test['permit'] = df_test['permit'].fillna('unknown')"
   ]
  },
  {
   "cell_type": "markdown",
   "metadata": {},
   "source": [
    "### convert 0 to nan"
   ]
  },
  {
   "cell_type": "code",
   "execution_count": 46,
   "metadata": {},
   "outputs": [],
   "source": [
    "df_train['construction_year'] = df_train['construction_year'].replace( {0:np.nan})\n",
    "df_test['construction_year'] = df_test['construction_year'].replace( {0:np.nan})"
   ]
  },
  {
   "cell_type": "markdown",
   "metadata": {},
   "source": [
    "calculate existing year of each well"
   ]
  },
  {
   "cell_type": "code",
   "execution_count": 55,
   "metadata": {},
   "outputs": [],
   "source": [
    "df_train['date_recorded'] = df_train['date_recorded'].map(lambda x: pd.to_datetime(x).year)-df_train['construction_year']\n",
    "df_train.rename(columns = {'date_recorded':'existing year'}, inplace=True)\n",
    "df_test['date_recorded'] = df_test['date_recorded'].map(lambda x: pd.to_datetime(x).year)-df_test['construction_year']\n",
    "df_test.rename(columns = {'date_recorded':'existing year'}, inplace=True)"
   ]
  },
  {
   "cell_type": "code",
   "execution_count": 57,
   "metadata": {},
   "outputs": [
    {
     "data": {
      "text/plain": [
       "0    12.0\n",
       "1     3.0\n",
       "2     4.0\n",
       "3    27.0\n",
       "4     NaN\n",
       "Name: existing year, dtype: float64"
      ]
     },
     "execution_count": 57,
     "metadata": {},
     "output_type": "execute_result"
    }
   ],
   "source": [
    "df_train['existing year'].head(5)"
   ]
  },
  {
   "cell_type": "code",
   "execution_count": 58,
   "metadata": {},
   "outputs": [],
   "source": [
    "df_train['existing year'] = df_train['existing year'].fillna('unknown')\n",
    "df_test['existing year'] = df_test['existing year'].fillna('unknown')"
   ]
  },
  {
   "cell_type": "markdown",
   "metadata": {},
   "source": [
    "### drop construction_year"
   ]
  },
  {
   "cell_type": "code",
   "execution_count": 60,
   "metadata": {},
   "outputs": [],
   "source": [
    "df_train = df_train.drop(columns = ['construction_year'])\n",
    "df_test = df_test.drop(columns = ['construction_year'])"
   ]
  },
  {
   "cell_type": "code",
   "execution_count": 61,
   "metadata": {},
   "outputs": [
    {
     "data": {
      "text/plain": [
       "(59400, 23)"
      ]
     },
     "execution_count": 61,
     "metadata": {},
     "output_type": "execute_result"
    }
   ],
   "source": [
    "df_train.shape"
   ]
  },
  {
   "cell_type": "code",
   "execution_count": 62,
   "metadata": {},
   "outputs": [
    {
     "data": {
      "text/plain": [
       "(14850, 22)"
      ]
     },
     "execution_count": 62,
     "metadata": {},
     "output_type": "execute_result"
    }
   ],
   "source": [
    "df_test.shape"
   ]
  },
  {
   "cell_type": "code",
   "execution_count": 63,
   "metadata": {},
   "outputs": [
    {
     "data": {
      "text/plain": [
       "id                          0\n",
       "amount_tsh                  0\n",
       "existing year               0\n",
       "funder                      0\n",
       "gps_height                  0\n",
       "installer                   0\n",
       "num_private                 0\n",
       "basin                       0\n",
       "subvillage                  0\n",
       "region                      0\n",
       "population                  0\n",
       "public_meeting           3334\n",
       "recorded_by                 0\n",
       "scheme_management           0\n",
       "permit                      0\n",
       "extraction_type_class       0\n",
       "management_group            0\n",
       "payment_type                0\n",
       "water_quality               0\n",
       "quantity                    0\n",
       "source_class                0\n",
       "waterpoint_type_group       0\n",
       "status_group                0\n",
       "dtype: int64"
      ]
     },
     "execution_count": 63,
     "metadata": {},
     "output_type": "execute_result"
    }
   ],
   "source": [
    "df_train.apply(lambda x: sum(x.isnull()))"
   ]
  },
  {
   "cell_type": "code",
   "execution_count": 66,
   "metadata": {},
   "outputs": [
    {
     "data": {
      "text/plain": [
       "0          enough\n",
       "1    insufficient\n",
       "2          enough\n",
       "3             dry\n",
       "4        seasonal\n",
       "5          enough\n",
       "6          enough\n",
       "7          enough\n",
       "8        seasonal\n",
       "9          enough\n",
       "Name: quantity, dtype: object"
      ]
     },
     "execution_count": 66,
     "metadata": {},
     "output_type": "execute_result"
    }
   ],
   "source": [
    "df_train['quantity'][:10]"
   ]
  },
  {
   "cell_type": "markdown",
   "metadata": {},
   "source": [
    "### test the relationship between 'quantity' and 'amount_tsh' and to see whether the 'amount_tsh' is decided by 'quantity' in some extent"
   ]
  },
  {
   "cell_type": "code",
   "execution_count": 73,
   "metadata": {},
   "outputs": [
    {
     "data": {
      "text/plain": [
       "0.00         41639\n",
       "500.00        3102\n",
       "50.00         2472\n",
       "1000.00       1488\n",
       "20.00         1463\n",
       "200.00        1220\n",
       "100.00         816\n",
       "10.00          806\n",
       "30.00          743\n",
       "2000.00        704\n",
       "250.00         569\n",
       "300.00         557\n",
       "5000.00        450\n",
       "5.00           376\n",
       "25.00          356\n",
       "3000.00        334\n",
       "1200.00        267\n",
       "1500.00        197\n",
       "6.00           190\n",
       "600.00         176\n",
       "4000.00        156\n",
       "2400.00        145\n",
       "2500.00        139\n",
       "6000.00        125\n",
       "7.00            69\n",
       "8000.00         61\n",
       "750.00          59\n",
       "40.00           59\n",
       "10000.00        57\n",
       "12000.00        51\n",
       "             ...  \n",
       "16000.00         2\n",
       "16300.00         2\n",
       "800.00           2\n",
       "11000.00         2\n",
       "590.00           2\n",
       "520.00           2\n",
       "26000.00         2\n",
       "13000.00         2\n",
       "9.00             1\n",
       "170000.00        1\n",
       "200000.00        1\n",
       "900.00           1\n",
       "0.25             1\n",
       "53.00            1\n",
       "350000.00        1\n",
       "306.00           1\n",
       "120000.00        1\n",
       "26.00            1\n",
       "59.00            1\n",
       "60000.00         1\n",
       "5400.00          1\n",
       "70000.00         1\n",
       "250000.00        1\n",
       "38000.00         1\n",
       "1400.00          1\n",
       "8500.00          1\n",
       "6300.00          1\n",
       "220.00           1\n",
       "138000.00        1\n",
       "12.00            1\n",
       "Name: amount_tsh, Length: 98, dtype: int64"
      ]
     },
     "execution_count": 73,
     "metadata": {},
     "output_type": "execute_result"
    }
   ],
   "source": [
    "df_train['amount_tsh'].value_counts()"
   ]
  },
  {
   "cell_type": "code",
   "execution_count": 74,
   "metadata": {},
   "outputs": [
    {
     "data": {
      "text/plain": [
       "count     59400.000000\n",
       "mean        317.650385\n",
       "std        2997.574558\n",
       "min           0.000000\n",
       "25%           0.000000\n",
       "50%           0.000000\n",
       "75%          20.000000\n",
       "max      350000.000000\n",
       "Name: amount_tsh, dtype: float64"
      ]
     },
     "execution_count": 74,
     "metadata": {},
     "output_type": "execute_result"
    }
   ],
   "source": [
    "df_train['amount_tsh'].describe()\n",
    "#so 'amount_tsh' is mainly below 20"
   ]
  },
  {
   "cell_type": "code",
   "execution_count": 72,
   "metadata": {},
   "outputs": [
    {
     "data": {
      "text/plain": [
       "enough          33186\n",
       "insufficient    15129\n",
       "dry              6246\n",
       "seasonal         4050\n",
       "unknown           789\n",
       "Name: quantity, dtype: int64"
      ]
     },
     "execution_count": 72,
     "metadata": {},
     "output_type": "execute_result"
    }
   ],
   "source": [
    "df_train['quantity'].value_counts()"
   ]
  },
  {
   "cell_type": "code",
   "execution_count": 89,
   "metadata": {},
   "outputs": [
    {
     "data": {
      "text/plain": [
       "enough          0.506809\n",
       "insufficient    0.262110\n",
       "dry             0.132472\n",
       "seasonal        0.081918\n",
       "unknown         0.016691\n",
       "Name: quantity, dtype: float64"
      ]
     },
     "execution_count": 89,
     "metadata": {},
     "output_type": "execute_result"
    }
   ],
   "source": [
    "df_train[df_train['amount_tsh']==0]['quantity'].value_counts(normalize=True)"
   ]
  },
  {
   "cell_type": "code",
   "execution_count": 98,
   "metadata": {},
   "outputs": [
    {
     "data": {
      "text/plain": [
       "enough          0.646379\n",
       "insufficient    0.272016\n",
       "seasonal        0.048963\n",
       "dry             0.027542\n",
       "unknown         0.005100\n",
       "Name: quantity, dtype: float64"
      ]
     },
     "execution_count": 98,
     "metadata": {},
     "output_type": "execute_result"
    }
   ],
   "source": [
    "df_train[(df_train['amount_tsh']<=20) & (df_train['amount_tsh']>0)]['quantity'].value_counts(normalize=True)"
   ]
  },
  {
   "cell_type": "code",
   "execution_count": 83,
   "metadata": {},
   "outputs": [
    {
     "data": {
      "text/plain": [
       "enough          0.687045\n",
       "insufficient    0.230432\n",
       "dry             0.043792\n",
       "seasonal        0.033401\n",
       "unknown         0.005331\n",
       "Name: quantity, dtype: float64"
      ]
     },
     "execution_count": 83,
     "metadata": {},
     "output_type": "execute_result"
    }
   ],
   "source": [
    "df_train[df_train['amount_tsh']>20]['quantity'].value_counts(normalize=True)"
   ]
  },
  {
   "cell_type": "markdown",
   "metadata": {},
   "source": [
    "### according to above, 'amount_tsh'>20 is in the similar percentage with 0<'amount_tsh'<=20(and there is a question that what df_train['amount_tsh']==0 describe, need to consider, and then to think about the figure below,why it is skew)"
   ]
  },
  {
   "cell_type": "code",
   "execution_count": 68,
   "metadata": {},
   "outputs": [
    {
     "data": {
      "text/plain": [
       "Text(0.5, 1.0, 'Amount of water available')"
      ]
     },
     "execution_count": 68,
     "metadata": {},
     "output_type": "execute_result"
    },
    {
     "data": {
      "image/png": "[encoded data removed]",
      "text/plain": [
       "<Figure size 720x576 with 1 Axes>"
      ]
     },
     "metadata": {},
     "output_type": "display_data"
    }
   ],
   "source": [
    "fig, ax = plt.subplots(figsize=(10, 8))\n",
    "ax = sns.distplot(df_train['amount_tsh'])\n",
    "# ax2 = ax.twinx()\n",
    "# sns.distplot(df_train['quantity'],ax=ax2)\n",
    "ax.set_title('Amount of water available')\n",
    "\n",
    "# ax = df.plot(x=\"date\", y=\"column1\", legend=False)\n",
    "# ax2 = ax.twinx()\n",
    "# df.plot(x=\"date\", y=\"column2\", ax=ax2, legend=False, color=\"r\")\n",
    "# ax.figure.legend()\n",
    "# plt.show()"
   ]
  },
  {
   "cell_type": "code",
   "execution_count": 114,
   "metadata": {},
   "outputs": [
    {
     "data": {
      "text/plain": [
       "Text(0.5, 1.0, 'Distribution of population')"
      ]
     },
     "execution_count": 114,
     "metadata": {},
     "output_type": "execute_result"
    },
    {
     "data": {
      "image/png": "[encoded data removed]",
      "text/plain": [
       "<Figure size 720x576 with 1 Axes>"
      ]
     },
     "metadata": {},
     "output_type": "display_data"
    }
   ],
   "source": [
    "fig, ax = plt.subplots(figsize=(10, 8))\n",
    "ax = sns.distplot(df_train['population'])\n",
    "ax.set_title('Distribution of population')# skewness may be caused by zero,try next"
   ]
  },
  {
   "cell_type": "code",
   "execution_count": 115,
   "metadata": {},
   "outputs": [],
   "source": [
    "df_train['population'] = df_train['population'].replace( {0:np.nan})#population cannot be 0 so it might be missing value"
   ]
  },
  {
   "cell_type": "code",
   "execution_count": 117,
   "metadata": {},
   "outputs": [
    {
     "data": {
      "text/plain": [
       "1.0       7025\n",
       "200.0     1940\n",
       "150.0     1892\n",
       "250.0     1681\n",
       "300.0     1476\n",
       "100.0     1146\n",
       "50.0      1139\n",
       "500.0     1009\n",
       "350.0      986\n",
       "120.0      916\n",
       "400.0      775\n",
       "60.0       706\n",
       "30.0       626\n",
       "40.0       552\n",
       "80.0       533\n",
       "450.0      499\n",
       "20.0       462\n",
       "600.0      438\n",
       "230.0      388\n",
       "75.0       289\n",
       "1000.0     278\n",
       "800.0      269\n",
       "90.0       265\n",
       "130.0      264\n",
       "25.0       255\n",
       "320.0      249\n",
       "35.0       245\n",
       "360.0      222\n",
       "140.0      215\n",
       "210.0      209\n",
       "          ... \n",
       "424.0        1\n",
       "1354.0       1\n",
       "561.0        1\n",
       "571.0        1\n",
       "141.0        1\n",
       "1114.0       1\n",
       "2670.0       1\n",
       "788.0        1\n",
       "722.0        1\n",
       "687.0        1\n",
       "759.0        1\n",
       "731.0        1\n",
       "3450.0       1\n",
       "2248.0       1\n",
       "2683.0       1\n",
       "2685.0       1\n",
       "171.0        1\n",
       "2430.0       1\n",
       "2992.0       1\n",
       "789.0        1\n",
       "3455.0       1\n",
       "3072.0       1\n",
       "2020.0       1\n",
       "966.0        1\n",
       "1203.0       1\n",
       "491.0        1\n",
       "807.0        1\n",
       "948.0        1\n",
       "1410.0       1\n",
       "419.0        1\n",
       "Name: population, Length: 1048, dtype: int64"
      ]
     },
     "execution_count": 117,
     "metadata": {},
     "output_type": "execute_result"
    }
   ],
   "source": [
    "df_train['population'].value_counts()"
   ]
  },
  {
   "cell_type": "code",
   "execution_count": 116,
   "metadata": {},
   "outputs": [
    {
     "data": {
      "text/plain": [
       "[<matplotlib.lines.Line2D at 0x1a21ebff98>]"
      ]
     },
     "execution_count": 116,
     "metadata": {},
     "output_type": "execute_result"
    },
    {
     "data": {
      "image/png": "[encoded data removed]",
      "text/plain": [
       "<Figure size 432x288 with 1 Axes>"
      ]
     },
     "metadata": {},
     "output_type": "display_data"
    }
   ],
   "source": [
    "plt.plot(df_train['population'].value_counts())#still skew (need some other methods) also means '0' perhaps not mean NaN"
   ]
  },
  {
   "cell_type": "code",
   "execution_count": 118,
   "metadata": {},
   "outputs": [],
   "source": [
    "df_train['population'] = df_train['population'].replace( {np.nan:np.zeros})\n",
    "df_test['population'] = df_test['population'].replace( {np.nan:np.zeros})"
   ]
  },
  {
   "cell_type": "code",
   "execution_count": 120,
   "metadata": {},
   "outputs": [
    {
     "data": {
      "text/plain": [
       "id                          0\n",
       "amount_tsh                  0\n",
       "existing year               0\n",
       "funder                      0\n",
       "gps_height                  0\n",
       "installer                   0\n",
       "num_private                 0\n",
       "basin                       0\n",
       "subvillage                  0\n",
       "region                      0\n",
       "population                  0\n",
       "public_meeting           3334\n",
       "recorded_by                 0\n",
       "scheme_management           0\n",
       "permit                      0\n",
       "extraction_type_class       0\n",
       "management_group            0\n",
       "payment_type                0\n",
       "water_quality               0\n",
       "quantity                    0\n",
       "source_class                0\n",
       "waterpoint_type_group       0\n",
       "status_group                0\n",
       "dtype: int64"
      ]
     },
     "execution_count": 120,
     "metadata": {},
     "output_type": "execute_result"
    }
   ],
   "source": [
    "df_train.apply(lambda x: sum(x.isnull()))\n"
   ]
  },
  {
   "cell_type": "code",
   "execution_count": 121,
   "metadata": {},
   "outputs": [
    {
     "data": {
      "text/plain": [
       "id                         0\n",
       "amount_tsh                 0\n",
       "existing year              0\n",
       "funder                     0\n",
       "gps_height                 0\n",
       "installer                  0\n",
       "num_private                0\n",
       "basin                      0\n",
       "subvillage                 0\n",
       "region                     0\n",
       "population                 0\n",
       "public_meeting           821\n",
       "recorded_by                0\n",
       "scheme_management          0\n",
       "permit                     0\n",
       "extraction_type_class      0\n",
       "management_group           0\n",
       "payment_type               0\n",
       "water_quality              0\n",
       "quantity                   0\n",
       "source_class               0\n",
       "waterpoint_type_group      0\n",
       "dtype: int64"
      ]
     },
     "execution_count": 121,
     "metadata": {},
     "output_type": "execute_result"
    }
   ],
   "source": [
    "df_test.apply(lambda x: sum(x.isnull()))"
   ]
  },
  {
   "cell_type": "markdown",
   "metadata": {},
   "source": [
    "### have no idea what 'public meeting' is"
   ]
  },
  {
   "cell_type": "code",
   "execution_count": 123,
   "metadata": {},
   "outputs": [],
   "source": [
    "df_train['public_meeting'] = df_train['public_meeting'].fillna('unknown')\n",
    "df_test['public_meeting'] = df_test['public_meeting'].fillna('unknown')"
   ]
  },
  {
   "cell_type": "code",
   "execution_count": 124,
   "metadata": {},
   "outputs": [],
   "source": [
    "df_train.to_csv('data/trainset_clean1.csv', index=False)\n",
    "df_test.to_csv('data/trainset_clean1.csv', index=False)"
   ]
  },
  {
   "cell_type": "code",
   "execution_count": null,
   "metadata": {},
   "outputs": [],
   "source": []
  }
 ],
 "metadata": {
  "kernelspec": {
   "display_name": "Python 3",
   "language": "python",
   "name": "python3"
  },
  "language_info": {
   "codemirror_mode": {
    "name": "ipython",
    "version": 3
   },
   "file_extension": ".py",
   "mimetype": "text/x-python",
   "name": "python",
   "nbconvert_exporter": "python",
   "pygments_lexer": "ipython3",
   "version": "3.6.7"
  }
 },
 "nbformat": 4,
 "nbformat_minor": 2
}
