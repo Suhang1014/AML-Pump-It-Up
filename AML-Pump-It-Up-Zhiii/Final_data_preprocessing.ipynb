{
 "cells": [
  {
   "cell_type": "code",
   "execution_count": 54,
   "metadata": {},
   "outputs": [],
   "source": [
    "%matplotlib inline\n",
    "import numpy as np\n",
    "import pandas as pd\n",
    "import matplotlib.pyplot as plt\n",
    "import seaborn as sns\n",
    "sns.set(style = 'darkgrid')"
   ]
  },
  {
   "cell_type": "code",
   "execution_count": 55,
   "metadata": {},
   "outputs": [],
   "source": [
    "train_values = pd.read_csv('data/training_set_values.csv')\n",
    "train_labels = pd.read_csv('data/training_set_labels.csv')"
   ]
  },
  {
   "cell_type": "code",
   "execution_count": 56,
   "metadata": {},
   "outputs": [
    {
     "data": {
      "text/plain": [
       "(59400, 41)"
      ]
     },
     "execution_count": 56,
     "metadata": {},
     "output_type": "execute_result"
    }
   ],
   "source": [
    "df_train = train_values.merge(train_labels, on='id', how='inner')\n",
    "df_train.shape"
   ]
  },
  {
   "cell_type": "code",
   "execution_count": 57,
   "metadata": {},
   "outputs": [
    {
     "data": {
      "text/plain": [
       "(14850, 40)"
      ]
     },
     "execution_count": 57,
     "metadata": {},
     "output_type": "execute_result"
    }
   ],
   "source": [
    "df_test = pd.read_csv('data/test_set_values.csv')\n",
    "df_test.shape"
   ]
  },
  {
   "cell_type": "code",
   "execution_count": 58,
   "metadata": {},
   "outputs": [
    {
     "data": {
      "text/plain": [
       "id                           0\n",
       "amount_tsh                   0\n",
       "date_recorded                0\n",
       "funder                    3635\n",
       "gps_height                   0\n",
       "installer                 3655\n",
       "longitude                    0\n",
       "latitude                     0\n",
       "wpt_name                     0\n",
       "num_private                  0\n",
       "basin                        0\n",
       "subvillage                 371\n",
       "region                       0\n",
       "region_code                  0\n",
       "district_code                0\n",
       "lga                          0\n",
       "ward                         0\n",
       "population                   0\n",
       "public_meeting            3334\n",
       "recorded_by                  0\n",
       "scheme_management         3877\n",
       "scheme_name              28166\n",
       "permit                    3056\n",
       "construction_year            0\n",
       "extraction_type              0\n",
       "extraction_type_group        0\n",
       "extraction_type_class        0\n",
       "management                   0\n",
       "management_group             0\n",
       "payment                      0\n",
       "payment_type                 0\n",
       "water_quality                0\n",
       "quality_group                0\n",
       "quantity                     0\n",
       "quantity_group               0\n",
       "source                       0\n",
       "source_type                  0\n",
       "source_class                 0\n",
       "waterpoint_type              0\n",
       "waterpoint_type_group        0\n",
       "status_group                 0\n",
       "dtype: int64"
      ]
     },
     "execution_count": 58,
     "metadata": {},
     "output_type": "execute_result"
    }
   ],
   "source": [
    "df_train.apply(lambda x: sum(x.isnull()))"
   ]
  },
  {
   "cell_type": "code",
   "execution_count": 59,
   "metadata": {},
   "outputs": [],
   "source": [
    "#longtitude temporarily droped\n",
    "#Temporarily keep subvillage, num_private date_recorded\n",
    "df_train = df_train.drop(columns = ['lga','ward','region_code', 'district_code','wpt_name','scheme_name','extraction_type','extraction_type_group','management','payment','quality_group','quantity_group','source_type','source','waterpoint_type'])\n",
    "df_test = df_test.drop(columns = ['lga','ward','region_code', 'district_code','wpt_name','scheme_name','extraction_type','extraction_type_group','management','payment','quality_group','quantity_group','source_type','source','waterpoint_type'])\n"
   ]
  },
  {
   "cell_type": "code",
   "execution_count": 60,
   "metadata": {},
   "outputs": [
    {
     "data": {
      "text/plain": [
       "Index(['id', 'amount_tsh', 'date_recorded', 'funder', 'gps_height',\n",
       "       'installer', 'longitude', 'latitude', 'num_private', 'basin',\n",
       "       'subvillage', 'region', 'population', 'public_meeting', 'recorded_by',\n",
       "       'scheme_management', 'permit', 'construction_year',\n",
       "       'extraction_type_class', 'management_group', 'payment_type',\n",
       "       'water_quality', 'quantity', 'source_class', 'waterpoint_type_group',\n",
       "       'status_group'],\n",
       "      dtype='object')"
      ]
     },
     "execution_count": 60,
     "metadata": {},
     "output_type": "execute_result"
    }
   ],
   "source": [
    "df_train.columns"
   ]
  },
  {
   "cell_type": "code",
   "execution_count": 61,
   "metadata": {},
   "outputs": [
    {
     "data": {
      "text/plain": [
       "(59400, 26)"
      ]
     },
     "execution_count": 61,
     "metadata": {},
     "output_type": "execute_result"
    }
   ],
   "source": [
    "df_train.shape"
   ]
  },
  {
   "cell_type": "code",
   "execution_count": 62,
   "metadata": {},
   "outputs": [
    {
     "data": {
      "text/plain": [
       "(14850, 25)"
      ]
     },
     "execution_count": 62,
     "metadata": {},
     "output_type": "execute_result"
    }
   ],
   "source": [
    "df_test.shape"
   ]
  },
  {
   "cell_type": "code",
   "execution_count": 63,
   "metadata": {},
   "outputs": [
    {
     "data": {
      "text/plain": [
       "id                          0\n",
       "amount_tsh                  0\n",
       "date_recorded               0\n",
       "funder                   3635\n",
       "gps_height                  0\n",
       "installer                3655\n",
       "longitude                   0\n",
       "latitude                    0\n",
       "num_private                 0\n",
       "basin                       0\n",
       "subvillage                371\n",
       "region                      0\n",
       "population                  0\n",
       "public_meeting           3334\n",
       "recorded_by                 0\n",
       "scheme_management        3877\n",
       "permit                   3056\n",
       "construction_year           0\n",
       "extraction_type_class       0\n",
       "management_group            0\n",
       "payment_type                0\n",
       "water_quality               0\n",
       "quantity                    0\n",
       "source_class                0\n",
       "waterpoint_type_group       0\n",
       "status_group                0\n",
       "dtype: int64"
      ]
     },
     "execution_count": 63,
     "metadata": {},
     "output_type": "execute_result"
    }
   ],
   "source": [
    "df_train.apply(lambda x: sum(x.isnull()))"
   ]
  },
  {
   "cell_type": "markdown",
   "metadata": {},
   "source": [
    "### From here, if in test dataset, the value of variables below is not belong to any known class, then set it to 'unknown'"
   ]
  },
  {
   "cell_type": "code",
   "execution_count": 64,
   "metadata": {},
   "outputs": [],
   "source": [
    "df_train['funder'] = df_train['funder'].fillna('unknown')\n",
    "df_test['funder'] = df_test['funder'].fillna('unknown')"
   ]
  },
  {
   "cell_type": "code",
   "execution_count": 65,
   "metadata": {},
   "outputs": [],
   "source": [
    "df_train['installer'] = df_train['installer'].fillna('unknown')\n",
    "df_test['installer'] = df_test['installer'].fillna('unknown')"
   ]
  },
  {
   "cell_type": "code",
   "execution_count": 66,
   "metadata": {},
   "outputs": [],
   "source": [
    "df_train['subvillage'] = df_train['subvillage'].fillna('unknown')\n",
    "df_test['subvillage'] = df_test['subvillage'].fillna('unknown')"
   ]
  },
  {
   "cell_type": "code",
   "execution_count": 67,
   "metadata": {},
   "outputs": [],
   "source": [
    "df_train['scheme_management'] = df_train['scheme_management'].fillna('unknown')\n",
    "df_test['scheme_management'] = df_test['scheme_management'].fillna('unknown')"
   ]
  },
  {
   "cell_type": "code",
   "execution_count": 68,
   "metadata": {},
   "outputs": [],
   "source": [
    "df_train['permit'] = df_train['permit'].fillna('unknown')\n",
    "df_test['permit'] = df_test['permit'].fillna('unknown')"
   ]
  },
  {
   "cell_type": "markdown",
   "metadata": {},
   "source": [
    "### convert 0 to nan"
   ]
  },
  {
   "cell_type": "code",
   "execution_count": 69,
   "metadata": {},
   "outputs": [],
   "source": [
    "df_train['construction_year'] = df_train['construction_year'].replace( {0:np.nan})\n",
    "df_test['construction_year'] = df_test['construction_year'].replace( {0:np.nan})"
   ]
  },
  {
   "cell_type": "markdown",
   "metadata": {},
   "source": [
    "calculate existing year of each well"
   ]
  },
  {
   "cell_type": "code",
   "execution_count": 70,
   "metadata": {},
   "outputs": [],
   "source": [
    "df_train['date_recorded'] = df_train['date_recorded'].map(lambda x: pd.to_datetime(x).year)-df_train['construction_year']\n",
    "df_train.rename(columns = {'date_recorded':'existing year'}, inplace=True)\n",
    "df_test['date_recorded'] = df_test['date_recorded'].map(lambda x: pd.to_datetime(x).year)-df_test['construction_year']\n",
    "df_test.rename(columns = {'date_recorded':'existing year'}, inplace=True)"
   ]
  },
  {
   "cell_type": "code",
   "execution_count": 71,
   "metadata": {},
   "outputs": [
    {
     "data": {
      "text/plain": [
       "0    12.0\n",
       "1     3.0\n",
       "2     4.0\n",
       "3    27.0\n",
       "4     NaN\n",
       "Name: existing year, dtype: float64"
      ]
     },
     "execution_count": 71,
     "metadata": {},
     "output_type": "execute_result"
    }
   ],
   "source": [
    "df_train['existing year'].head(5)"
   ]
  },
  {
   "cell_type": "code",
   "execution_count": 72,
   "metadata": {},
   "outputs": [],
   "source": [
    "df_train['existing year'] = df_train['existing year'].fillna('unknown')\n",
    "df_test['existing year'] = df_test['existing year'].fillna('unknown')"
   ]
  },
  {
   "cell_type": "markdown",
   "metadata": {},
   "source": [
    "### drop construction_year"
   ]
  },
  {
   "cell_type": "code",
   "execution_count": 73,
   "metadata": {},
   "outputs": [],
   "source": [
    "df_train = df_train.drop(columns = ['construction_year'])\n",
    "df_test = df_test.drop(columns = ['construction_year'])"
   ]
  },
  {
   "cell_type": "code",
   "execution_count": 74,
   "metadata": {},
   "outputs": [
    {
     "data": {
      "text/plain": [
       "(59400, 25)"
      ]
     },
     "execution_count": 74,
     "metadata": {},
     "output_type": "execute_result"
    }
   ],
   "source": [
    "df_train.shape"
   ]
  },
  {
   "cell_type": "code",
   "execution_count": 75,
   "metadata": {},
   "outputs": [
    {
     "data": {
      "text/plain": [
       "(14850, 24)"
      ]
     },
     "execution_count": 75,
     "metadata": {},
     "output_type": "execute_result"
    }
   ],
   "source": [
    "df_test.shape"
   ]
  },
  {
   "cell_type": "code",
   "execution_count": 76,
   "metadata": {},
   "outputs": [
    {
     "data": {
      "text/plain": [
       "id                          0\n",
       "amount_tsh                  0\n",
       "existing year               0\n",
       "funder                      0\n",
       "gps_height                  0\n",
       "installer                   0\n",
       "longitude                   0\n",
       "latitude                    0\n",
       "num_private                 0\n",
       "basin                       0\n",
       "subvillage                  0\n",
       "region                      0\n",
       "population                  0\n",
       "public_meeting           3334\n",
       "recorded_by                 0\n",
       "scheme_management           0\n",
       "permit                      0\n",
       "extraction_type_class       0\n",
       "management_group            0\n",
       "payment_type                0\n",
       "water_quality               0\n",
       "quantity                    0\n",
       "source_class                0\n",
       "waterpoint_type_group       0\n",
       "status_group                0\n",
       "dtype: int64"
      ]
     },
     "execution_count": 76,
     "metadata": {},
     "output_type": "execute_result"
    }
   ],
   "source": [
    "df_train.apply(lambda x: sum(x.isnull()))"
   ]
  },
  {
   "cell_type": "code",
   "execution_count": 77,
   "metadata": {},
   "outputs": [
    {
     "data": {
      "text/plain": [
       "0          enough\n",
       "1    insufficient\n",
       "2          enough\n",
       "3             dry\n",
       "4        seasonal\n",
       "5          enough\n",
       "6          enough\n",
       "7          enough\n",
       "8        seasonal\n",
       "9          enough\n",
       "Name: quantity, dtype: object"
      ]
     },
     "execution_count": 77,
     "metadata": {},
     "output_type": "execute_result"
    }
   ],
   "source": [
    "df_train['quantity'][:10]"
   ]
  },
  {
   "cell_type": "markdown",
   "metadata": {},
   "source": [
    "### test the relationship between 'quantity' and 'amount_tsh' and to see whether the 'amount_tsh' is decided by 'quantity' in some extent"
   ]
  },
  {
   "cell_type": "code",
   "execution_count": 78,
   "metadata": {},
   "outputs": [
    {
     "data": {
      "text/plain": [
       "0.00         41639\n",
       "500.00        3102\n",
       "50.00         2472\n",
       "1000.00       1488\n",
       "20.00         1463\n",
       "200.00        1220\n",
       "100.00         816\n",
       "10.00          806\n",
       "30.00          743\n",
       "2000.00        704\n",
       "250.00         569\n",
       "300.00         557\n",
       "5000.00        450\n",
       "5.00           376\n",
       "25.00          356\n",
       "3000.00        334\n",
       "1200.00        267\n",
       "1500.00        197\n",
       "6.00           190\n",
       "600.00         176\n",
       "4000.00        156\n",
       "2400.00        145\n",
       "2500.00        139\n",
       "6000.00        125\n",
       "7.00            69\n",
       "8000.00         61\n",
       "750.00          59\n",
       "40.00           59\n",
       "10000.00        57\n",
       "12000.00        51\n",
       "             ...  \n",
       "16000.00         2\n",
       "16300.00         2\n",
       "800.00           2\n",
       "11000.00         2\n",
       "590.00           2\n",
       "520.00           2\n",
       "26000.00         2\n",
       "13000.00         2\n",
       "9.00             1\n",
       "170000.00        1\n",
       "200000.00        1\n",
       "900.00           1\n",
       "0.25             1\n",
       "53.00            1\n",
       "350000.00        1\n",
       "306.00           1\n",
       "120000.00        1\n",
       "26.00            1\n",
       "59.00            1\n",
       "60000.00         1\n",
       "5400.00          1\n",
       "70000.00         1\n",
       "250000.00        1\n",
       "38000.00         1\n",
       "1400.00          1\n",
       "8500.00          1\n",
       "6300.00          1\n",
       "220.00           1\n",
       "138000.00        1\n",
       "12.00            1\n",
       "Name: amount_tsh, Length: 98, dtype: int64"
      ]
     },
     "execution_count": 78,
     "metadata": {},
     "output_type": "execute_result"
    }
   ],
   "source": [
    "df_train['amount_tsh'].value_counts()"
   ]
  },
  {
   "cell_type": "code",
   "execution_count": 79,
   "metadata": {},
   "outputs": [
    {
     "data": {
      "text/plain": [
       "count     59400.000000\n",
       "mean        317.650385\n",
       "std        2997.574558\n",
       "min           0.000000\n",
       "25%           0.000000\n",
       "50%           0.000000\n",
       "75%          20.000000\n",
       "max      350000.000000\n",
       "Name: amount_tsh, dtype: float64"
      ]
     },
     "execution_count": 79,
     "metadata": {},
     "output_type": "execute_result"
    }
   ],
   "source": [
    "df_train['amount_tsh'].describe()\n",
    "#so 'amount_tsh' is mainly below 20"
   ]
  },
  {
   "cell_type": "code",
   "execution_count": 80,
   "metadata": {},
   "outputs": [
    {
     "data": {
      "text/plain": [
       "enough          33186\n",
       "insufficient    15129\n",
       "dry              6246\n",
       "seasonal         4050\n",
       "unknown           789\n",
       "Name: quantity, dtype: int64"
      ]
     },
     "execution_count": 80,
     "metadata": {},
     "output_type": "execute_result"
    }
   ],
   "source": [
    "df_train['quantity'].value_counts()"
   ]
  },
  {
   "cell_type": "code",
   "execution_count": 81,
   "metadata": {},
   "outputs": [
    {
     "data": {
      "text/plain": [
       "enough          0.506809\n",
       "insufficient    0.262110\n",
       "dry             0.132472\n",
       "seasonal        0.081918\n",
       "unknown         0.016691\n",
       "Name: quantity, dtype: float64"
      ]
     },
     "execution_count": 81,
     "metadata": {},
     "output_type": "execute_result"
    }
   ],
   "source": [
    "df_train[df_train['amount_tsh']==0]['quantity'].value_counts(normalize=True)"
   ]
  },
  {
   "cell_type": "code",
   "execution_count": 82,
   "metadata": {},
   "outputs": [
    {
     "data": {
      "text/plain": [
       "enough          0.646379\n",
       "insufficient    0.272016\n",
       "seasonal        0.048963\n",
       "dry             0.027542\n",
       "unknown         0.005100\n",
       "Name: quantity, dtype: float64"
      ]
     },
     "execution_count": 82,
     "metadata": {},
     "output_type": "execute_result"
    }
   ],
   "source": [
    "df_train[(df_train['amount_tsh']<=20) & (df_train['amount_tsh']>0)]['quantity'].value_counts(normalize=True)"
   ]
  },
  {
   "cell_type": "code",
   "execution_count": 83,
   "metadata": {},
   "outputs": [
    {
     "data": {
      "text/plain": [
       "enough          0.687045\n",
       "insufficient    0.230432\n",
       "dry             0.043792\n",
       "seasonal        0.033401\n",
       "unknown         0.005331\n",
       "Name: quantity, dtype: float64"
      ]
     },
     "execution_count": 83,
     "metadata": {},
     "output_type": "execute_result"
    }
   ],
   "source": [
    "df_train[df_train['amount_tsh']>20]['quantity'].value_counts(normalize=True)"
   ]
  },
  {
   "cell_type": "markdown",
   "metadata": {},
   "source": [
    "### according to above, 'amount_tsh'>20 is in the similar percentage with 0<'amount_tsh'<=20(then to think about the figure below,why it is skew) Therefore, there are 2 conclusions. 1. 'amount_tsh' represents overall amount of water not per person. 2. 'quantity' is for per person. Using 'quantity' is more reasonable. "
   ]
  },
  {
   "cell_type": "code",
   "execution_count": 84,
   "metadata": {},
   "outputs": [],
   "source": [
    "df_train = df_train.drop(columns = ['amount_tsh'])\n",
    "df_test = df_test.drop(columns = ['amount_tsh'])"
   ]
  },
  {
   "cell_type": "markdown",
   "metadata": {},
   "source": [
    "#### so many funders and installers. therefore convert them into few clusters( only keep the clusters corresponding to larger number)."
   ]
  },
  {
   "cell_type": "code",
   "execution_count": 85,
   "metadata": {
    "scrolled": true
   },
   "outputs": [
    {
     "data": {
      "text/plain": [
       "Government Of Tanzania         9084\n",
       "unknown                        3635\n",
       "Danida                         3114\n",
       "Hesawa                         2202\n",
       "Rwssp                          1374\n",
       "World Bank                     1349\n",
       "Kkkt                           1287\n",
       "World Vision                   1246\n",
       "Unicef                         1057\n",
       "Tasaf                           877\n",
       "District Council                843\n",
       "Dhv                             829\n",
       "Private Individual              826\n",
       "Dwsp                            811\n",
       "0                               777\n",
       "Norad                           765\n",
       "Germany Republi                 610\n",
       "Tcrs                            602\n",
       "Ministry Of Water               590\n",
       "Water                           583\n",
       "Dwe                             484\n",
       "Netherlands                     470\n",
       "Hifab                           450\n",
       "Adb                             448\n",
       "Lga                             442\n",
       "Amref                           425\n",
       "Fini Water                      393\n",
       "Oxfam                           359\n",
       "Wateraid                        333\n",
       "Rc Church                       321\n",
       "                               ... \n",
       "Private Individul                 1\n",
       "Padep(mifugo)                     1\n",
       "Serian                            1\n",
       "Wards                             1\n",
       "Dom                               1\n",
       "Totaland Care                     1\n",
       "Noeli Mahobokela                  1\n",
       "Gurdians                          1\n",
       "Ilo/undp                          1\n",
       "Runda                             1\n",
       "Tanload                           1\n",
       "Opec                              1\n",
       "Municipal Council                 1\n",
       "Abc-ihushi Development Cent       1\n",
       "Afroz Ismail                      1\n",
       "Kilimarondo Parish                1\n",
       "Mwingereza                        1\n",
       "Dwsdp                             1\n",
       "Chai Wazir                        1\n",
       "Ilaramataki                       1\n",
       "Cvs Miss                          1\n",
       "Lusajo                            1\n",
       "Matogoro                          1\n",
       "Mwita Lucas                       1\n",
       "Mzee Lesilali                     1\n",
       "Sophia Wazir                      1\n",
       "Marumbo Community                 1\n",
       "Rajab Seleman                     1\n",
       "Bakwata                           1\n",
       "Taipo                             1\n",
       "Name: funder, Length: 1898, dtype: int64"
      ]
     },
     "execution_count": 85,
     "metadata": {},
     "output_type": "execute_result"
    }
   ],
   "source": [
    "df_train['funder'].value_counts()"
   ]
  },
  {
   "cell_type": "code",
   "execution_count": 86,
   "metadata": {
    "scrolled": true
   },
   "outputs": [
    {
     "data": {
      "text/plain": [
       "DWE                           17402\n",
       "unknown                        3656\n",
       "Government                     1825\n",
       "RWE                            1206\n",
       "Commu                          1060\n",
       "DANIDA                         1050\n",
       "KKKT                            898\n",
       "Hesawa                          840\n",
       "0                               777\n",
       "TCRS                            707\n",
       "Central government              622\n",
       "CES                             610\n",
       "Community                       553\n",
       "DANID                           552\n",
       "District Council                551\n",
       "HESAWA                          539\n",
       "World vision                    408\n",
       "LGA                             408\n",
       "WEDECO                          397\n",
       "TASAF                           396\n",
       "District council                392\n",
       "Gover                           383\n",
       "AMREF                           329\n",
       "TWESA                           316\n",
       "WU                              301\n",
       "Dmdd                            287\n",
       "ACRA                            278\n",
       "World Vision                    270\n",
       "SEMA                            249\n",
       "DW                              246\n",
       "                              ...  \n",
       "Hamisi Fidia                      1\n",
       "RWI                               1\n",
       "Matogoro                          1\n",
       "Te                                1\n",
       "BGSS                              1\n",
       "COCU                              1\n",
       "Matyenye                          1\n",
       "Private company                   1\n",
       "DWE/TASSAF                        1\n",
       "H4CCP                             1\n",
       "ISSAC MOLLEl                      1\n",
       "Friedkin conservation fund        1\n",
       "MASWI DRILLING CO. LTD            1\n",
       "MAJI TECH                         1\n",
       "world vision                      1\n",
       "Alex moyela                       1\n",
       "Mu                                1\n",
       "Boni                              1\n",
       "AIC KI                            1\n",
       "Mwanamisi Ally                    1\n",
       "MOSQUE                            1\n",
       "Usambala sisters                  1\n",
       "Red cross                         1\n",
       "Makusa                            1\n",
       "Mara inter product                1\n",
       "JUINE CO                          1\n",
       "Juma                              1\n",
       "Mzee Waziri Tajari                1\n",
       "IN                                1\n",
       "JI                                1\n",
       "Name: installer, Length: 2145, dtype: int64"
      ]
     },
     "execution_count": 86,
     "metadata": {},
     "output_type": "execute_result"
    }
   ],
   "source": [
    "df_train['installer'].value_counts()"
   ]
  },
  {
   "cell_type": "code",
   "execution_count": 87,
   "metadata": {
    "scrolled": true
   },
   "outputs": [
    {
     "data": {
      "text/plain": [
       "Government Of Tanzania            4254\n",
       "Hesawa                            1296\n",
       "Rwssp                              914\n",
       "Dhv                                678\n",
       "Danida                             626\n",
       "Dwsp                               616\n",
       "Unicef                             562\n",
       "Netherlands                        463\n",
       "Dwe                                450\n",
       "Adb                                368\n",
       "Tasaf                              281\n",
       "Rural Water Supply And Sanitat     266\n",
       "Ces(gmbh)                          260\n",
       "Ministry Of Water                  232\n",
       "District Council                   213\n",
       "Isf                                178\n",
       "World Vision                       175\n",
       "Rudep                              172\n",
       "Norad                              167\n",
       "Ces (gmbh)                         165\n",
       "Mission                            160\n",
       "World Bank                         152\n",
       "Mkinga Distric Coun                149\n",
       "Concern World Wide                 145\n",
       "Water                              137\n",
       "Snv                                119\n",
       "Oxfam                              109\n",
       "Wsdp                               106\n",
       "Ded                                104\n",
       "No                                  98\n",
       "                                  ... \n",
       "Dom                                  1\n",
       "Lutheran                             1\n",
       "Canada Aid                           1\n",
       "Makombo                              1\n",
       "Kaaya                                1\n",
       "District Medical                     1\n",
       "Natherland                           1\n",
       "Cdft                                 1\n",
       "Rodri                                1\n",
       "Dwarf                                1\n",
       "Hesawa And Concern World Wide        1\n",
       "Ras                                  1\n",
       "Hiap                                 1\n",
       "Mwanaisha Mwidadi                    1\n",
       "Plan                                 1\n",
       "Mwinjuma Mzee                        1\n",
       "Ilo/undp                             1\n",
       "Town Council                         1\n",
       "Rssp                                 1\n",
       "Mashaka                              1\n",
       "Tabea                                1\n",
       "Pwagu                                1\n",
       "Village Contributio                  1\n",
       "Semaki                               1\n",
       "Resolute Mininggolden Pride          1\n",
       "Villlage Contributi                  1\n",
       "Lgcd                                 1\n",
       "Rudep /dwe                           1\n",
       "Bakari Chimkube                      1\n",
       "Pag Church                           1\n",
       "Name: funder, Length: 432, dtype: int64"
      ]
     },
     "execution_count": 87,
     "metadata": {},
     "output_type": "execute_result"
    }
   ],
   "source": [
    "df_train[df_train['installer']=='DWE']['funder'].value_counts()"
   ]
  },
  {
   "cell_type": "markdown",
   "metadata": {},
   "source": [
    "### from above, 'funder' could be regarded as the clusters of the 'installer'. delete 'funder' only keep 'installer' Besides, some installer names are equal to funder names"
   ]
  },
  {
   "cell_type": "code",
   "execution_count": 88,
   "metadata": {},
   "outputs": [],
   "source": [
    "df_train = df_train.drop(columns = ['funder'])\n",
    "df_test = df_test.drop(columns = ['funder'])"
   ]
  },
  {
   "cell_type": "code",
   "execution_count": 89,
   "metadata": {},
   "outputs": [
    {
     "data": {
      "text/plain": [
       "other         24512\n",
       "dwe           17405\n",
       "community      5436\n",
       "government     4541\n",
       "danida         1678\n",
       "hesawa         1395\n",
       "rwe            1206\n",
       "kkkt            910\n",
       "unknown         777\n",
       "tcrs            707\n",
       "ces             610\n",
       "individual      223\n",
       "dtype: int64"
      ]
     },
     "execution_count": 89,
     "metadata": {},
     "output_type": "execute_result"
    }
   ],
   "source": [
    "import re\n",
    "def installer_cleaning(df):\n",
    "    data = str(df['installer']).lower()\n",
    "    pattern1 = 'gove.+'\n",
    "    pattern2 = 'comm.+'\n",
    "    pattern3 = 'priv.+'\n",
    "    pattern4 = 'repub.+' # republic\n",
    "    pattern5 = 'minis.+' # minist\n",
    "    pattern6 = 'world.+' # big name \n",
    "    pattern7 = 'chur.+' # church\n",
    "    pattern8 = 'coun.+' # council\n",
    "    pattern9 = 'wate.+' # water: big name \n",
    "    pattern10 = 'dani.+' # church\n",
    "    pattern7 = 'chur.+' # church\n",
    "    if(re.search(pattern1, data)):\n",
    "        return \"government\"\n",
    "#         return data\n",
    "    elif(re.search(pattern2, data)):\n",
    "        return \"community\"\n",
    "    elif(re.search(pattern3, data)):\n",
    "        return 'individual'\n",
    "    elif(re.search(pattern4, data)):\n",
    "        return \"government\" # republic\n",
    "    elif(re.search(pattern5, data)):\n",
    "        return \"government\" # ministry \n",
    "    elif(re.search(pattern6, data)):\n",
    "        return \"community\" # world bank, vision \n",
    "    elif(re.search(pattern7, data)):\n",
    "        return \"community\" # church \n",
    "    elif(re.search(pattern8, data)):\n",
    "        return \"government\" # council \n",
    "    elif(re.search(pattern9, data)):\n",
    "        return \"community\" # water as a big name \n",
    "    elif(re.search(pattern10, data)):\n",
    "        return \"danida\" # danida as a top name \n",
    "    elif(data=='nan' or data=='0'):\n",
    "        return \"unknown\" # danida as a top name \n",
    "    elif(data=='dwe'):\n",
    "        return 'dwe'\n",
    "    elif(data=='hesawa'):\n",
    "        return 'hesawa'\n",
    "    elif(data=='rwe'):\n",
    "        return 'rwe'\n",
    "    elif(data=='kkkt'):\n",
    "        return 'kkkt'\n",
    "    elif(data=='tcrs'):\n",
    "        return 'tcrs'\n",
    "    elif(data=='ces'):\n",
    "        return 'ces'\n",
    "#         return data\n",
    "    else:\n",
    "        return \"other\"\n",
    "#         return data\n",
    "# df_train['funder'] = df_train.apply(lambda row: funder_cleaning(row), axis=1)\n",
    "d_inst = df_train.apply(lambda row: installer_cleaning(row), axis=1)\n",
    "d_inst.value_counts()"
   ]
  },
  {
   "cell_type": "code",
   "execution_count": 90,
   "metadata": {},
   "outputs": [],
   "source": [
    "df_train['installer']=d_inst\n",
    "df_test['installer'] = df_test.apply(lambda row: installer_cleaning(row), axis=1)"
   ]
  },
  {
   "cell_type": "code",
   "execution_count": 91,
   "metadata": {},
   "outputs": [
    {
     "data": {
      "text/plain": [
       "Text(0.5, 1.0, 'Distribution of population')"
      ]
     },
     "execution_count": 91,
     "metadata": {},
     "output_type": "execute_result"
    },
    {
     "data": {
      "image/png": "[encoded data removed]",
      "text/plain": [
       "<Figure size 720x576 with 1 Axes>"
      ]
     },
     "metadata": {},
     "output_type": "display_data"
    }
   ],
   "source": [
    "fig, ax = plt.subplots(figsize=(10, 8))\n",
    "ax = sns.distplot(df_train['population'])\n",
    "ax.set_title('Distribution of population')# skewness may be caused by zero,try next"
   ]
  },
  {
   "cell_type": "code",
   "execution_count": 92,
   "metadata": {},
   "outputs": [],
   "source": [
    "df_train['population'] = df_train['population'].replace( {0:np.nan})#population cannot be 0 so it might be missing value"
   ]
  },
  {
   "cell_type": "code",
   "execution_count": 93,
   "metadata": {},
   "outputs": [
    {
     "data": {
      "text/plain": [
       "1.0      7025\n",
       "200.0    1940\n",
       "150.0    1892\n",
       "250.0    1681\n",
       "300.0    1476\n",
       "100.0    1146\n",
       "50.0     1139\n",
       "500.0    1009\n",
       "350.0     986\n",
       "120.0     916\n",
       "Name: population, dtype: int64"
      ]
     },
     "execution_count": 93,
     "metadata": {},
     "output_type": "execute_result"
    }
   ],
   "source": [
    "df_train['population'].value_counts().head(10)"
   ]
  },
  {
   "cell_type": "code",
   "execution_count": 116,
   "metadata": {},
   "outputs": [
    {
     "data": {
      "text/plain": [
       "[<matplotlib.lines.Line2D at 0x1a21ebff98>]"
      ]
     },
     "execution_count": 116,
     "metadata": {},
     "output_type": "execute_result"
    },
    {
     "data": {
      "image/png": "[encoded data removed]",
      "text/plain": [
       "<Figure size 432x288 with 1 Axes>"
      ]
     },
     "metadata": {},
     "output_type": "display_data"
    }
   ],
   "source": [
    "# plt.plot(df_train['population'].value_counts())#still skew (need some other methods) also means '0' perhaps not mean NaN"
   ]
  },
  {
   "cell_type": "code",
   "execution_count": 94,
   "metadata": {},
   "outputs": [],
   "source": [
    "df_train['population'] = df_train['population'].replace( {np.nan:np.zeros})\n",
    "df_test['population'] = df_test['population'].replace( {np.nan:np.zeros})"
   ]
  },
  {
   "cell_type": "code",
   "execution_count": 95,
   "metadata": {},
   "outputs": [
    {
     "data": {
      "text/plain": [
       "id                          0\n",
       "existing year               0\n",
       "gps_height                  0\n",
       "installer                   0\n",
       "longitude                   0\n",
       "latitude                    0\n",
       "num_private                 0\n",
       "basin                       0\n",
       "subvillage                  0\n",
       "region                      0\n",
       "population                  0\n",
       "public_meeting           3334\n",
       "recorded_by                 0\n",
       "scheme_management           0\n",
       "permit                      0\n",
       "extraction_type_class       0\n",
       "management_group            0\n",
       "payment_type                0\n",
       "water_quality               0\n",
       "quantity                    0\n",
       "source_class                0\n",
       "waterpoint_type_group       0\n",
       "status_group                0\n",
       "dtype: int64"
      ]
     },
     "execution_count": 95,
     "metadata": {},
     "output_type": "execute_result"
    }
   ],
   "source": [
    "df_train.apply(lambda x: sum(x.isnull()))\n"
   ]
  },
  {
   "cell_type": "code",
   "execution_count": 96,
   "metadata": {},
   "outputs": [
    {
     "data": {
      "text/plain": [
       "id                         0\n",
       "existing year              0\n",
       "gps_height                 0\n",
       "installer                  0\n",
       "longitude                  0\n",
       "latitude                   0\n",
       "num_private                0\n",
       "basin                      0\n",
       "subvillage                 0\n",
       "region                     0\n",
       "population                 0\n",
       "public_meeting           821\n",
       "recorded_by                0\n",
       "scheme_management          0\n",
       "permit                     0\n",
       "extraction_type_class      0\n",
       "management_group           0\n",
       "payment_type               0\n",
       "water_quality              0\n",
       "quantity                   0\n",
       "source_class               0\n",
       "waterpoint_type_group      0\n",
       "dtype: int64"
      ]
     },
     "execution_count": 96,
     "metadata": {},
     "output_type": "execute_result"
    }
   ],
   "source": [
    "df_test.apply(lambda x: sum(x.isnull()))"
   ]
  },
  {
   "cell_type": "markdown",
   "metadata": {},
   "source": [
    "### have no idea what 'public meeting' is"
   ]
  },
  {
   "cell_type": "code",
   "execution_count": 97,
   "metadata": {},
   "outputs": [],
   "source": [
    "df_train['public_meeting'] = df_train['public_meeting'].fillna('unknown')\n",
    "df_test['public_meeting'] = df_test['public_meeting'].fillna('unknown')"
   ]
  },
  {
   "cell_type": "markdown",
   "metadata": {},
   "source": [
    "#### longtitude and latitude is enough for location"
   ]
  },
  {
   "cell_type": "code",
   "execution_count": null,
   "metadata": {},
   "outputs": [],
   "source": [
    "df_train = df_train.drop(columns = ['subvillage'])\n",
    "df_test = df_test.drop(columns = ['subvillage'])"
   ]
  },
  {
   "cell_type": "code",
   "execution_count": 103,
   "metadata": {},
   "outputs": [],
   "source": [
    "df_train = df_train.drop(columns = ['recorded_by'])#not useful\n",
    "df_test = df_test.drop(columns = ['recorded_by'])"
   ]
  },
  {
   "cell_type": "code",
   "execution_count": 105,
   "metadata": {},
   "outputs": [],
   "source": [
    "df_train.to_csv('data/trainset_clean1.csv', index=False)\n",
    "df_test.to_csv('data/testset_clean1.csv', index=False)"
   ]
  },
  {
   "cell_type": "code",
   "execution_count": 111,
   "metadata": {},
   "outputs": [
    {
     "data": {
      "text/plain": [
       "Index(['id', 'existing year', 'gps_height', 'installer', 'longitude',\n",
       "       'latitude', 'num_private', 'basin', 'region', 'population',\n",
       "       'public_meeting', 'scheme_management', 'permit',\n",
       "       'extraction_type_class', 'management_group', 'payment_type',\n",
       "       'water_quality', 'quantity', 'source_class', 'waterpoint_type_group',\n",
       "       'status_group'],\n",
       "      dtype='object')"
      ]
     },
     "execution_count": 111,
     "metadata": {},
     "output_type": "execute_result"
    }
   ],
   "source": [
    "df_train.columns"
   ]
  },
  {
   "cell_type": "code",
   "execution_count": 112,
   "metadata": {},
   "outputs": [],
   "source": [
    "dummy_cols = ['installer', 'basin', 'region', 'public_meeting',\n",
    "       'scheme_management', 'permit',\n",
    "       'extraction_type_class', 'management_group', 'payment_type',\n",
    "       'water_quality', 'quantity', 'source_class', 'waterpoint_type_group']"
   ]
  },
  {
   "cell_type": "code",
   "execution_count": 113,
   "metadata": {},
   "outputs": [],
   "source": [
    "df_train_dummy = pd.get_dummies(df_train, columns = dummy_cols)\n",
    "df_test_dummy = pd.get_dummies(df_test, columns = dummy_cols)"
   ]
  },
  {
   "cell_type": "code",
   "execution_count": 114,
   "metadata": {},
   "outputs": [
    {
     "data": {
      "text/html": [
       "<div>\n",
       "<style scoped>\n",
       "    .dataframe tbody tr th:only-of-type {\n",
       "        vertical-align: middle;\n",
       "    }\n",
       "\n",
       "    .dataframe tbody tr th {\n",
       "        vertical-align: top;\n",
       "    }\n",
       "\n",
       "    .dataframe thead th {\n",
       "        text-align: right;\n",
       "    }\n",
       "</style>\n",
       "<table border=\"1\" class=\"dataframe\">\n",
       "  <thead>\n",
       "    <tr style=\"text-align: right;\">\n",
       "      <th></th>\n",
       "      <th>id</th>\n",
       "      <th>existing year</th>\n",
       "      <th>gps_height</th>\n",
       "      <th>longitude</th>\n",
       "      <th>latitude</th>\n",
       "      <th>num_private</th>\n",
       "      <th>population</th>\n",
       "      <th>status_group</th>\n",
       "      <th>installer_ces</th>\n",
       "      <th>installer_community</th>\n",
       "      <th>...</th>\n",
       "      <th>quantity_unknown</th>\n",
       "      <th>source_class_groundwater</th>\n",
       "      <th>source_class_surface</th>\n",
       "      <th>source_class_unknown</th>\n",
       "      <th>waterpoint_type_group_cattle trough</th>\n",
       "      <th>waterpoint_type_group_communal standpipe</th>\n",
       "      <th>waterpoint_type_group_dam</th>\n",
       "      <th>waterpoint_type_group_hand pump</th>\n",
       "      <th>waterpoint_type_group_improved spring</th>\n",
       "      <th>waterpoint_type_group_other</th>\n",
       "    </tr>\n",
       "  </thead>\n",
       "  <tbody>\n",
       "    <tr>\n",
       "      <th>0</th>\n",
       "      <td>69572</td>\n",
       "      <td>12</td>\n",
       "      <td>1390</td>\n",
       "      <td>34.938093</td>\n",
       "      <td>-9.856322</td>\n",
       "      <td>0</td>\n",
       "      <td>109</td>\n",
       "      <td>functional</td>\n",
       "      <td>0</td>\n",
       "      <td>0</td>\n",
       "      <td>...</td>\n",
       "      <td>0</td>\n",
       "      <td>1</td>\n",
       "      <td>0</td>\n",
       "      <td>0</td>\n",
       "      <td>0</td>\n",
       "      <td>1</td>\n",
       "      <td>0</td>\n",
       "      <td>0</td>\n",
       "      <td>0</td>\n",
       "      <td>0</td>\n",
       "    </tr>\n",
       "    <tr>\n",
       "      <th>1</th>\n",
       "      <td>8776</td>\n",
       "      <td>3</td>\n",
       "      <td>1399</td>\n",
       "      <td>34.698766</td>\n",
       "      <td>-2.147466</td>\n",
       "      <td>0</td>\n",
       "      <td>280</td>\n",
       "      <td>functional</td>\n",
       "      <td>0</td>\n",
       "      <td>0</td>\n",
       "      <td>...</td>\n",
       "      <td>0</td>\n",
       "      <td>0</td>\n",
       "      <td>1</td>\n",
       "      <td>0</td>\n",
       "      <td>0</td>\n",
       "      <td>1</td>\n",
       "      <td>0</td>\n",
       "      <td>0</td>\n",
       "      <td>0</td>\n",
       "      <td>0</td>\n",
       "    </tr>\n",
       "    <tr>\n",
       "      <th>2</th>\n",
       "      <td>34310</td>\n",
       "      <td>4</td>\n",
       "      <td>686</td>\n",
       "      <td>37.460664</td>\n",
       "      <td>-3.821329</td>\n",
       "      <td>0</td>\n",
       "      <td>250</td>\n",
       "      <td>functional</td>\n",
       "      <td>0</td>\n",
       "      <td>1</td>\n",
       "      <td>...</td>\n",
       "      <td>0</td>\n",
       "      <td>0</td>\n",
       "      <td>1</td>\n",
       "      <td>0</td>\n",
       "      <td>0</td>\n",
       "      <td>1</td>\n",
       "      <td>0</td>\n",
       "      <td>0</td>\n",
       "      <td>0</td>\n",
       "      <td>0</td>\n",
       "    </tr>\n",
       "    <tr>\n",
       "      <th>3</th>\n",
       "      <td>67743</td>\n",
       "      <td>27</td>\n",
       "      <td>263</td>\n",
       "      <td>38.486161</td>\n",
       "      <td>-11.155298</td>\n",
       "      <td>0</td>\n",
       "      <td>58</td>\n",
       "      <td>non functional</td>\n",
       "      <td>0</td>\n",
       "      <td>0</td>\n",
       "      <td>...</td>\n",
       "      <td>0</td>\n",
       "      <td>1</td>\n",
       "      <td>0</td>\n",
       "      <td>0</td>\n",
       "      <td>0</td>\n",
       "      <td>1</td>\n",
       "      <td>0</td>\n",
       "      <td>0</td>\n",
       "      <td>0</td>\n",
       "      <td>0</td>\n",
       "    </tr>\n",
       "    <tr>\n",
       "      <th>4</th>\n",
       "      <td>19728</td>\n",
       "      <td>unknown</td>\n",
       "      <td>0</td>\n",
       "      <td>31.130847</td>\n",
       "      <td>-1.825359</td>\n",
       "      <td>0</td>\n",
       "      <td>&lt;built-in function zeros&gt;</td>\n",
       "      <td>functional</td>\n",
       "      <td>0</td>\n",
       "      <td>0</td>\n",
       "      <td>...</td>\n",
       "      <td>0</td>\n",
       "      <td>0</td>\n",
       "      <td>1</td>\n",
       "      <td>0</td>\n",
       "      <td>0</td>\n",
       "      <td>1</td>\n",
       "      <td>0</td>\n",
       "      <td>0</td>\n",
       "      <td>0</td>\n",
       "      <td>0</td>\n",
       "    </tr>\n",
       "  </tbody>\n",
       "</table>\n",
       "<p>5 rows × 110 columns</p>\n",
       "</div>"
      ],
      "text/plain": [
       "      id existing year  gps_height  longitude   latitude  num_private  \\\n",
       "0  69572            12        1390  34.938093  -9.856322            0   \n",
       "1   8776             3        1399  34.698766  -2.147466            0   \n",
       "2  34310             4         686  37.460664  -3.821329            0   \n",
       "3  67743            27         263  38.486161 -11.155298            0   \n",
       "4  19728       unknown           0  31.130847  -1.825359            0   \n",
       "\n",
       "                  population    status_group  installer_ces  \\\n",
       "0                        109      functional              0   \n",
       "1                        280      functional              0   \n",
       "2                        250      functional              0   \n",
       "3                         58  non functional              0   \n",
       "4  <built-in function zeros>      functional              0   \n",
       "\n",
       "   installer_community             ...               quantity_unknown  \\\n",
       "0                    0             ...                              0   \n",
       "1                    0             ...                              0   \n",
       "2                    1             ...                              0   \n",
       "3                    0             ...                              0   \n",
       "4                    0             ...                              0   \n",
       "\n",
       "   source_class_groundwater  source_class_surface  source_class_unknown  \\\n",
       "0                         1                     0                     0   \n",
       "1                         0                     1                     0   \n",
       "2                         0                     1                     0   \n",
       "3                         1                     0                     0   \n",
       "4                         0                     1                     0   \n",
       "\n",
       "   waterpoint_type_group_cattle trough  \\\n",
       "0                                    0   \n",
       "1                                    0   \n",
       "2                                    0   \n",
       "3                                    0   \n",
       "4                                    0   \n",
       "\n",
       "   waterpoint_type_group_communal standpipe  waterpoint_type_group_dam  \\\n",
       "0                                         1                          0   \n",
       "1                                         1                          0   \n",
       "2                                         1                          0   \n",
       "3                                         1                          0   \n",
       "4                                         1                          0   \n",
       "\n",
       "   waterpoint_type_group_hand pump  waterpoint_type_group_improved spring  \\\n",
       "0                                0                                      0   \n",
       "1                                0                                      0   \n",
       "2                                0                                      0   \n",
       "3                                0                                      0   \n",
       "4                                0                                      0   \n",
       "\n",
       "   waterpoint_type_group_other  \n",
       "0                            0  \n",
       "1                            0  \n",
       "2                            0  \n",
       "3                            0  \n",
       "4                            0  \n",
       "\n",
       "[5 rows x 110 columns]"
      ]
     },
     "execution_count": 114,
     "metadata": {},
     "output_type": "execute_result"
    }
   ],
   "source": [
    "df_train_dummy.head()"
   ]
  },
  {
   "cell_type": "code",
   "execution_count": 115,
   "metadata": {},
   "outputs": [],
   "source": [
    "df_train_dummy.to_csv('data/trainset_clean_dummy.csv', index=False)\n",
    "df_test_dummy.to_csv('data/testset_clean_dummy.csv', index=False)"
   ]
  },
  {
   "cell_type": "code",
   "execution_count": null,
   "metadata": {},
   "outputs": [],
   "source": []
  }
 ],
 "metadata": {
  "kernelspec": {
   "display_name": "Python 3",
   "language": "python",
   "name": "python3"
  },
  "language_info": {
   "codemirror_mode": {
    "name": "ipython",
    "version": 3
   },
   "file_extension": ".py",
   "mimetype": "text/x-python",
   "name": "python",
   "nbconvert_exporter": "python",
   "pygments_lexer": "ipython3",
   "version": "3.6.7"
  }
 },
 "nbformat": 4,
 "nbformat_minor": 2
}
