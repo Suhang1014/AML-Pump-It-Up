{
 "cells": [
  {
   "cell_type": "code",
   "execution_count": 2,
   "metadata": {},
   "outputs": [
    {
     "name": "stderr",
     "output_type": "stream",
     "text": [
      "D:\\ProgramData\\Anaconda3\\lib\\site-packages\\sklearn\\ensemble\\weight_boosting.py:29: DeprecationWarning: numpy.core.umath_tests is an internal NumPy module and should not be imported. It will be removed in a future NumPy release.\n",
      "  from numpy.core.umath_tests import inner1d\n",
      "D:\\ProgramData\\Anaconda3\\lib\\site-packages\\sklearn\\cross_validation.py:41: DeprecationWarning: This module was deprecated in version 0.18 in favor of the model_selection module into which all the refactored classes and functions are moved. Also note that the interface of the new CV iterators are different from that of this module. This module will be removed in 0.20.\n",
      "  \"This module will be removed in 0.20.\", DeprecationWarning)\n"
     ]
    }
   ],
   "source": [
    "import numpy as np\n",
    "import pandas as pd\n",
    "import matplotlib.pyplot as plt\n",
    "from sklearn.tree import DecisionTreeClassifier\n",
    "from sklearn.ensemble import RandomForestClassifier\n",
    "from sklearn.ensemble import ExtraTreesClassifier\n",
    "from sklearn.cross_validation import train_test_split"
   ]
  },
  {
   "cell_type": "code",
   "execution_count": 3,
   "metadata": {},
   "outputs": [],
   "source": [
    "df_train=pd.read_csv('new_data/trainset_clean_dummy.csv')"
   ]
  },
  {
   "cell_type": "code",
   "execution_count": 4,
   "metadata": {},
   "outputs": [
    {
     "data": {
      "text/plain": [
       "(59400, 110)"
      ]
     },
     "execution_count": 4,
     "metadata": {},
     "output_type": "execute_result"
    }
   ],
   "source": [
    "df_train.shape"
   ]
  },
  {
   "cell_type": "code",
   "execution_count": 5,
   "metadata": {},
   "outputs": [
    {
     "name": "stdout",
     "output_type": "stream",
     "text": [
      "<class 'pandas.core.frame.DataFrame'>\n",
      "RangeIndex: 59400 entries, 0 to 59399\n",
      "Columns: 110 entries, id to waterpoint_type_group_other\n",
      "dtypes: float64(2), int64(105), object(3)\n",
      "memory usage: 49.9+ MB\n"
     ]
    }
   ],
   "source": [
    "df_train.info()"
   ]
  },
  {
   "cell_type": "code",
   "execution_count": 6,
   "metadata": {},
   "outputs": [
    {
     "name": "stdout",
     "output_type": "stream",
     "text": [
      "Index(['id', 'existing year', 'gps_height', 'longitude', 'latitude',\n",
      "       'num_private', 'population', 'status_group', 'installer_ces',\n",
      "       'installer_community',\n",
      "       ...\n",
      "       'quantity_unknown', 'source_class_groundwater', 'source_class_surface',\n",
      "       'source_class_unknown', 'waterpoint_type_group_cattle trough',\n",
      "       'waterpoint_type_group_communal standpipe', 'waterpoint_type_group_dam',\n",
      "       'waterpoint_type_group_hand pump',\n",
      "       'waterpoint_type_group_improved spring', 'waterpoint_type_group_other'],\n",
      "      dtype='object', length=110)\n"
     ]
    }
   ],
   "source": [
    "print(df_train.columns)"
   ]
  },
  {
   "cell_type": "code",
   "execution_count": 7,
   "metadata": {},
   "outputs": [
    {
     "name": "stdout",
     "output_type": "stream",
     "text": [
      "id                                            int64\n",
      "existing year                                object\n",
      "gps_height                                    int64\n",
      "longitude                                   float64\n",
      "latitude                                    float64\n",
      "num_private                                   int64\n",
      "population                                   object\n",
      "status_group                                 object\n",
      "installer_ces                                 int64\n",
      "installer_community                           int64\n",
      "installer_danida                              int64\n",
      "installer_dwe                                 int64\n",
      "installer_government                          int64\n",
      "installer_hesawa                              int64\n",
      "installer_individual                          int64\n",
      "installer_kkkt                                int64\n",
      "installer_other                               int64\n",
      "installer_rwe                                 int64\n",
      "installer_tcrs                                int64\n",
      "installer_unknown                             int64\n",
      "basin_Internal                                int64\n",
      "basin_Lake Nyasa                              int64\n",
      "basin_Lake Rukwa                              int64\n",
      "basin_Lake Tanganyika                         int64\n",
      "basin_Lake Victoria                           int64\n",
      "basin_Pangani                                 int64\n",
      "basin_Rufiji                                  int64\n",
      "basin_Ruvuma / Southern Coast                 int64\n",
      "basin_Wami / Ruvu                             int64\n",
      "region_Arusha                                 int64\n",
      "                                             ...   \n",
      "management_group_user-group                   int64\n",
      "payment_type_annually                         int64\n",
      "payment_type_monthly                          int64\n",
      "payment_type_never pay                        int64\n",
      "payment_type_on failure                       int64\n",
      "payment_type_other                            int64\n",
      "payment_type_per bucket                       int64\n",
      "payment_type_unknown                          int64\n",
      "water_quality_coloured                        int64\n",
      "water_quality_fluoride                        int64\n",
      "water_quality_fluoride abandoned              int64\n",
      "water_quality_milky                           int64\n",
      "water_quality_salty                           int64\n",
      "water_quality_salty abandoned                 int64\n",
      "water_quality_soft                            int64\n",
      "water_quality_unknown                         int64\n",
      "quantity_dry                                  int64\n",
      "quantity_enough                               int64\n",
      "quantity_insufficient                         int64\n",
      "quantity_seasonal                             int64\n",
      "quantity_unknown                              int64\n",
      "source_class_groundwater                      int64\n",
      "source_class_surface                          int64\n",
      "source_class_unknown                          int64\n",
      "waterpoint_type_group_cattle trough           int64\n",
      "waterpoint_type_group_communal standpipe      int64\n",
      "waterpoint_type_group_dam                     int64\n",
      "waterpoint_type_group_hand pump               int64\n",
      "waterpoint_type_group_improved spring         int64\n",
      "waterpoint_type_group_other                   int64\n",
      "Length: 110, dtype: object\n"
     ]
    }
   ],
   "source": [
    "print(df_train.dtypes)"
   ]
  },
  {
   "cell_type": "code",
   "execution_count": 8,
   "metadata": {},
   "outputs": [
    {
     "data": {
      "text/plain": [
       "functional                 32259\n",
       "non functional             22824\n",
       "functional needs repair     4317\n",
       "Name: status_group, dtype: int64"
      ]
     },
     "execution_count": 8,
     "metadata": {},
     "output_type": "execute_result"
    }
   ],
   "source": [
    "df_train['status_group'].value_counts()"
   ]
  },
  {
   "cell_type": "code",
   "execution_count": 9,
   "metadata": {},
   "outputs": [
    {
     "data": {
      "text/plain": [
       "unknown    20709\n",
       "3.0         2740\n",
       "1.0         2303\n",
       "2.0         2129\n",
       "5.0         1980\n",
       "Name: existing year, dtype: int64"
      ]
     },
     "execution_count": 9,
     "metadata": {},
     "output_type": "execute_result"
    }
   ],
   "source": [
    "df_train['existing year'].value_counts()[:5]"
   ]
  },
  {
   "cell_type": "code",
   "execution_count": 10,
   "metadata": {},
   "outputs": [],
   "source": [
    "df_train['existing year'] = df_train['existing year'].replace({'unknown':0})"
   ]
  },
  {
   "cell_type": "code",
   "execution_count": 11,
   "metadata": {},
   "outputs": [
    {
     "data": {
      "text/plain": [
       "0      20709\n",
       "3.0     2740\n",
       "1.0     2303\n",
       "2.0     2129\n",
       "5.0     1980\n",
       "Name: existing year, dtype: int64"
      ]
     },
     "execution_count": 11,
     "metadata": {},
     "output_type": "execute_result"
    }
   ],
   "source": [
    "df_train['existing year'].value_counts()[:5]"
   ]
  },
  {
   "cell_type": "code",
   "execution_count": 12,
   "metadata": {},
   "outputs": [],
   "source": [
    "# df_train[['existing year','population']] = df_train[['existing year','population']].apply(pd.to_numeric)"
   ]
  },
  {
   "cell_type": "code",
   "execution_count": 13,
   "metadata": {},
   "outputs": [],
   "source": [
    "df_train['existing year'] = df_train['existing year'].apply(pd.to_numeric)"
   ]
  },
  {
   "cell_type": "code",
   "execution_count": 14,
   "metadata": {},
   "outputs": [
    {
     "name": "stdout",
     "output_type": "stream",
     "text": [
      "float64\n"
     ]
    }
   ],
   "source": [
    "print(df_train['existing year'].dtypes)"
   ]
  },
  {
   "cell_type": "code",
   "execution_count": 15,
   "metadata": {},
   "outputs": [
    {
     "data": {
      "text/plain": [
       "<built-in function zeros>    21381\n",
       "1.0                           7025\n",
       "200.0                         1940\n",
       "150.0                         1892\n",
       "250.0                         1681\n",
       "Name: population, dtype: int64"
      ]
     },
     "execution_count": 15,
     "metadata": {},
     "output_type": "execute_result"
    }
   ],
   "source": [
    "df_train['population'].value_counts()[:5]"
   ]
  },
  {
   "cell_type": "code",
   "execution_count": 16,
   "metadata": {},
   "outputs": [],
   "source": [
    "df_train['population']=df_train['population'].replace({'<built-in function zeros>':0.0})"
   ]
  },
  {
   "cell_type": "code",
   "execution_count": 17,
   "metadata": {},
   "outputs": [
    {
     "data": {
      "text/plain": [
       "0.0      21381\n",
       "1.0       7025\n",
       "200.0     1940\n",
       "150.0     1892\n",
       "250.0     1681\n",
       "Name: population, dtype: int64"
      ]
     },
     "execution_count": 17,
     "metadata": {},
     "output_type": "execute_result"
    }
   ],
   "source": [
    "df_train['population'].value_counts()[:5]"
   ]
  },
  {
   "cell_type": "code",
   "execution_count": 18,
   "metadata": {},
   "outputs": [],
   "source": [
    "# df_train['population'] = df_train['population'].astype(float)\n",
    "df_train['population'] = df_train['population'].apply(pd.to_numeric,errors='ignore')"
   ]
  },
  {
   "cell_type": "code",
   "execution_count": 19,
   "metadata": {},
   "outputs": [],
   "source": [
    "# df_train['population'].value_counts()[:5]"
   ]
  },
  {
   "cell_type": "code",
   "execution_count": 20,
   "metadata": {},
   "outputs": [
    {
     "name": "stdout",
     "output_type": "stream",
     "text": [
      "float64\n"
     ]
    }
   ],
   "source": [
    "print(df_train['population'].dtypes)"
   ]
  },
  {
   "cell_type": "code",
   "execution_count": 21,
   "metadata": {},
   "outputs": [
    {
     "name": "stdout",
     "output_type": "stream",
     "text": [
      "<class 'pandas.core.frame.DataFrame'>\n",
      "RangeIndex: 59400 entries, 0 to 59399\n",
      "Columns: 110 entries, id to waterpoint_type_group_other\n",
      "dtypes: float64(4), int64(105), object(1)\n",
      "memory usage: 49.9+ MB\n"
     ]
    }
   ],
   "source": [
    "df_train.info()"
   ]
  },
  {
   "cell_type": "code",
   "execution_count": 22,
   "metadata": {},
   "outputs": [],
   "source": [
    "# print(df_train.apply(lambda x: sum(x.isnull())))"
   ]
  },
  {
   "cell_type": "markdown",
   "metadata": {},
   "source": [
    "### Split training datasets to training and validation sets "
   ]
  },
  {
   "cell_type": "code",
   "execution_count": 23,
   "metadata": {},
   "outputs": [
    {
     "name": "stdout",
     "output_type": "stream",
     "text": [
      "53460 5940\n"
     ]
    }
   ],
   "source": [
    "X_train, X_test, y_train, y_test = train_test_split(df_train.loc[:, df_train.columns != 'status_group'], df_train['status_group'], test_size=0.1, random_state=10)\n",
    "print(len(X_train), len(X_test))"
   ]
  },
  {
   "cell_type": "code",
   "execution_count": 24,
   "metadata": {},
   "outputs": [
    {
     "data": {
      "text/html": [
       "<div>\n",
       "<style scoped>\n",
       "    .dataframe tbody tr th:only-of-type {\n",
       "        vertical-align: middle;\n",
       "    }\n",
       "\n",
       "    .dataframe tbody tr th {\n",
       "        vertical-align: top;\n",
       "    }\n",
       "\n",
       "    .dataframe thead th {\n",
       "        text-align: right;\n",
       "    }\n",
       "</style>\n",
       "<table border=\"1\" class=\"dataframe\">\n",
       "  <thead>\n",
       "    <tr style=\"text-align: right;\">\n",
       "      <th></th>\n",
       "      <th>id</th>\n",
       "      <th>existing year</th>\n",
       "      <th>gps_height</th>\n",
       "      <th>longitude</th>\n",
       "      <th>latitude</th>\n",
       "      <th>num_private</th>\n",
       "      <th>population</th>\n",
       "      <th>installer_ces</th>\n",
       "      <th>installer_community</th>\n",
       "      <th>installer_danida</th>\n",
       "      <th>...</th>\n",
       "      <th>quantity_unknown</th>\n",
       "      <th>source_class_groundwater</th>\n",
       "      <th>source_class_surface</th>\n",
       "      <th>source_class_unknown</th>\n",
       "      <th>waterpoint_type_group_cattle trough</th>\n",
       "      <th>waterpoint_type_group_communal standpipe</th>\n",
       "      <th>waterpoint_type_group_dam</th>\n",
       "      <th>waterpoint_type_group_hand pump</th>\n",
       "      <th>waterpoint_type_group_improved spring</th>\n",
       "      <th>waterpoint_type_group_other</th>\n",
       "    </tr>\n",
       "  </thead>\n",
       "  <tbody>\n",
       "    <tr>\n",
       "      <th>6191</th>\n",
       "      <td>32154</td>\n",
       "      <td>25.0</td>\n",
       "      <td>147</td>\n",
       "      <td>37.798787</td>\n",
       "      <td>-7.378011</td>\n",
       "      <td>0</td>\n",
       "      <td>2000.0</td>\n",
       "      <td>0</td>\n",
       "      <td>0</td>\n",
       "      <td>0</td>\n",
       "      <td>...</td>\n",
       "      <td>0</td>\n",
       "      <td>1</td>\n",
       "      <td>0</td>\n",
       "      <td>0</td>\n",
       "      <td>0</td>\n",
       "      <td>0</td>\n",
       "      <td>0</td>\n",
       "      <td>1</td>\n",
       "      <td>0</td>\n",
       "      <td>0</td>\n",
       "    </tr>\n",
       "    <tr>\n",
       "      <th>7705</th>\n",
       "      <td>6131</td>\n",
       "      <td>0.0</td>\n",
       "      <td>0</td>\n",
       "      <td>36.361102</td>\n",
       "      <td>-6.125086</td>\n",
       "      <td>0</td>\n",
       "      <td>0.0</td>\n",
       "      <td>0</td>\n",
       "      <td>0</td>\n",
       "      <td>0</td>\n",
       "      <td>...</td>\n",
       "      <td>0</td>\n",
       "      <td>1</td>\n",
       "      <td>0</td>\n",
       "      <td>0</td>\n",
       "      <td>0</td>\n",
       "      <td>1</td>\n",
       "      <td>0</td>\n",
       "      <td>0</td>\n",
       "      <td>0</td>\n",
       "      <td>0</td>\n",
       "    </tr>\n",
       "    <tr>\n",
       "      <th>24710</th>\n",
       "      <td>34216</td>\n",
       "      <td>2.0</td>\n",
       "      <td>1806</td>\n",
       "      <td>35.581231</td>\n",
       "      <td>-3.757245</td>\n",
       "      <td>0</td>\n",
       "      <td>255.0</td>\n",
       "      <td>0</td>\n",
       "      <td>0</td>\n",
       "      <td>0</td>\n",
       "      <td>...</td>\n",
       "      <td>0</td>\n",
       "      <td>1</td>\n",
       "      <td>0</td>\n",
       "      <td>0</td>\n",
       "      <td>0</td>\n",
       "      <td>0</td>\n",
       "      <td>0</td>\n",
       "      <td>1</td>\n",
       "      <td>0</td>\n",
       "      <td>0</td>\n",
       "    </tr>\n",
       "    <tr>\n",
       "      <th>1464</th>\n",
       "      <td>2744</td>\n",
       "      <td>2.0</td>\n",
       "      <td>1269</td>\n",
       "      <td>37.886287</td>\n",
       "      <td>-4.390882</td>\n",
       "      <td>0</td>\n",
       "      <td>80.0</td>\n",
       "      <td>0</td>\n",
       "      <td>0</td>\n",
       "      <td>0</td>\n",
       "      <td>...</td>\n",
       "      <td>0</td>\n",
       "      <td>1</td>\n",
       "      <td>0</td>\n",
       "      <td>0</td>\n",
       "      <td>0</td>\n",
       "      <td>1</td>\n",
       "      <td>0</td>\n",
       "      <td>0</td>\n",
       "      <td>0</td>\n",
       "      <td>0</td>\n",
       "    </tr>\n",
       "    <tr>\n",
       "      <th>44355</th>\n",
       "      <td>36293</td>\n",
       "      <td>0.0</td>\n",
       "      <td>0</td>\n",
       "      <td>33.412691</td>\n",
       "      <td>-2.986055</td>\n",
       "      <td>0</td>\n",
       "      <td>0.0</td>\n",
       "      <td>0</td>\n",
       "      <td>0</td>\n",
       "      <td>0</td>\n",
       "      <td>...</td>\n",
       "      <td>0</td>\n",
       "      <td>1</td>\n",
       "      <td>0</td>\n",
       "      <td>0</td>\n",
       "      <td>0</td>\n",
       "      <td>0</td>\n",
       "      <td>0</td>\n",
       "      <td>1</td>\n",
       "      <td>0</td>\n",
       "      <td>0</td>\n",
       "    </tr>\n",
       "  </tbody>\n",
       "</table>\n",
       "<p>5 rows × 109 columns</p>\n",
       "</div>"
      ],
      "text/plain": [
       "          id  existing year  gps_height  longitude  latitude  num_private  \\\n",
       "6191   32154           25.0         147  37.798787 -7.378011            0   \n",
       "7705    6131            0.0           0  36.361102 -6.125086            0   \n",
       "24710  34216            2.0        1806  35.581231 -3.757245            0   \n",
       "1464    2744            2.0        1269  37.886287 -4.390882            0   \n",
       "44355  36293            0.0           0  33.412691 -2.986055            0   \n",
       "\n",
       "       population  installer_ces  installer_community  installer_danida  \\\n",
       "6191       2000.0              0                    0                 0   \n",
       "7705          0.0              0                    0                 0   \n",
       "24710       255.0              0                    0                 0   \n",
       "1464         80.0              0                    0                 0   \n",
       "44355         0.0              0                    0                 0   \n",
       "\n",
       "                  ...               quantity_unknown  \\\n",
       "6191              ...                              0   \n",
       "7705              ...                              0   \n",
       "24710             ...                              0   \n",
       "1464              ...                              0   \n",
       "44355             ...                              0   \n",
       "\n",
       "       source_class_groundwater  source_class_surface  source_class_unknown  \\\n",
       "6191                          1                     0                     0   \n",
       "7705                          1                     0                     0   \n",
       "24710                         1                     0                     0   \n",
       "1464                          1                     0                     0   \n",
       "44355                         1                     0                     0   \n",
       "\n",
       "       waterpoint_type_group_cattle trough  \\\n",
       "6191                                     0   \n",
       "7705                                     0   \n",
       "24710                                    0   \n",
       "1464                                     0   \n",
       "44355                                    0   \n",
       "\n",
       "       waterpoint_type_group_communal standpipe  waterpoint_type_group_dam  \\\n",
       "6191                                          0                          0   \n",
       "7705                                          1                          0   \n",
       "24710                                         0                          0   \n",
       "1464                                          1                          0   \n",
       "44355                                         0                          0   \n",
       "\n",
       "       waterpoint_type_group_hand pump  waterpoint_type_group_improved spring  \\\n",
       "6191                                 1                                      0   \n",
       "7705                                 0                                      0   \n",
       "24710                                1                                      0   \n",
       "1464                                 0                                      0   \n",
       "44355                                1                                      0   \n",
       "\n",
       "       waterpoint_type_group_other  \n",
       "6191                             0  \n",
       "7705                             0  \n",
       "24710                            0  \n",
       "1464                             0  \n",
       "44355                            0  \n",
       "\n",
       "[5 rows x 109 columns]"
      ]
     },
     "execution_count": 24,
     "metadata": {},
     "output_type": "execute_result"
    }
   ],
   "source": [
    "X_train[:5]"
   ]
  },
  {
   "cell_type": "code",
   "execution_count": 25,
   "metadata": {},
   "outputs": [
    {
     "data": {
      "text/plain": [
       "6191     functional\n",
       "7705     functional\n",
       "24710    functional\n",
       "1464     functional\n",
       "44355    functional\n",
       "Name: status_group, dtype: object"
      ]
     },
     "execution_count": 25,
     "metadata": {},
     "output_type": "execute_result"
    }
   ],
   "source": [
    "y_train[:5]"
   ]
  },
  {
   "cell_type": "markdown",
   "metadata": {},
   "source": [
    "### Random Forest"
   ]
  },
  {
   "cell_type": "markdown",
   "metadata": {},
   "source": [
    "- Train and Score models"
   ]
  },
  {
   "cell_type": "code",
   "execution_count": 209,
   "metadata": {},
   "outputs": [
    {
     "data": {
      "text/plain": [
       "id               20.000000\n",
       "existing year    -2.000000\n",
       "gps_height      -55.000000\n",
       "longitude         0.000000\n",
       "latitude        -11.564324\n",
       "dtype: float64"
      ]
     },
     "execution_count": 209,
     "metadata": {},
     "output_type": "execute_result"
    }
   ],
   "source": [
    "X_test.min()[:5]"
   ]
  },
  {
   "cell_type": "code",
   "execution_count": 210,
   "metadata": {},
   "outputs": [
    {
     "data": {
      "text/plain": [
       "id               7.422700e+04\n",
       "existing year    5.300000e+01\n",
       "gps_height       2.585000e+03\n",
       "longitude        4.032340e+01\n",
       "latitude        -2.000000e-08\n",
       "dtype: float64"
      ]
     },
     "execution_count": 210,
     "metadata": {},
     "output_type": "execute_result"
    }
   ],
   "source": [
    "X_test.max()[:5]"
   ]
  },
  {
   "cell_type": "code",
   "execution_count": 211,
   "metadata": {},
   "outputs": [
    {
     "data": {
      "text/html": [
       "<div>\n",
       "<style scoped>\n",
       "    .dataframe tbody tr th:only-of-type {\n",
       "        vertical-align: middle;\n",
       "    }\n",
       "\n",
       "    .dataframe tbody tr th {\n",
       "        vertical-align: top;\n",
       "    }\n",
       "\n",
       "    .dataframe thead th {\n",
       "        text-align: right;\n",
       "    }\n",
       "</style>\n",
       "<table border=\"1\" class=\"dataframe\">\n",
       "  <thead>\n",
       "    <tr style=\"text-align: right;\">\n",
       "      <th></th>\n",
       "      <th>id</th>\n",
       "      <th>existing year</th>\n",
       "      <th>gps_height</th>\n",
       "      <th>longitude</th>\n",
       "      <th>latitude</th>\n",
       "      <th>num_private</th>\n",
       "      <th>population</th>\n",
       "      <th>installer_ces</th>\n",
       "      <th>installer_community</th>\n",
       "      <th>installer_danida</th>\n",
       "      <th>...</th>\n",
       "      <th>quantity_unknown</th>\n",
       "      <th>source_class_groundwater</th>\n",
       "      <th>source_class_surface</th>\n",
       "      <th>source_class_unknown</th>\n",
       "      <th>waterpoint_type_group_cattle trough</th>\n",
       "      <th>waterpoint_type_group_communal standpipe</th>\n",
       "      <th>waterpoint_type_group_dam</th>\n",
       "      <th>waterpoint_type_group_hand pump</th>\n",
       "      <th>waterpoint_type_group_improved spring</th>\n",
       "      <th>waterpoint_type_group_other</th>\n",
       "    </tr>\n",
       "  </thead>\n",
       "  <tbody>\n",
       "    <tr>\n",
       "      <th>6191</th>\n",
       "      <td>32154.0</td>\n",
       "      <td>32.0</td>\n",
       "      <td>237.0</td>\n",
       "      <td>37.798787</td>\n",
       "      <td>4.271429</td>\n",
       "      <td>0.0</td>\n",
       "      <td>2000.0</td>\n",
       "      <td>0.0</td>\n",
       "      <td>0.0</td>\n",
       "      <td>0.0</td>\n",
       "      <td>...</td>\n",
       "      <td>0.0</td>\n",
       "      <td>1.0</td>\n",
       "      <td>0.0</td>\n",
       "      <td>0.0</td>\n",
       "      <td>0.0</td>\n",
       "      <td>0.0</td>\n",
       "      <td>0.0</td>\n",
       "      <td>1.0</td>\n",
       "      <td>0.0</td>\n",
       "      <td>0.0</td>\n",
       "    </tr>\n",
       "    <tr>\n",
       "      <th>7705</th>\n",
       "      <td>6131.0</td>\n",
       "      <td>7.0</td>\n",
       "      <td>90.0</td>\n",
       "      <td>36.361102</td>\n",
       "      <td>5.524355</td>\n",
       "      <td>0.0</td>\n",
       "      <td>0.0</td>\n",
       "      <td>0.0</td>\n",
       "      <td>0.0</td>\n",
       "      <td>0.0</td>\n",
       "      <td>...</td>\n",
       "      <td>0.0</td>\n",
       "      <td>1.0</td>\n",
       "      <td>0.0</td>\n",
       "      <td>0.0</td>\n",
       "      <td>0.0</td>\n",
       "      <td>1.0</td>\n",
       "      <td>0.0</td>\n",
       "      <td>0.0</td>\n",
       "      <td>0.0</td>\n",
       "      <td>0.0</td>\n",
       "    </tr>\n",
       "    <tr>\n",
       "      <th>24710</th>\n",
       "      <td>34216.0</td>\n",
       "      <td>9.0</td>\n",
       "      <td>1896.0</td>\n",
       "      <td>35.581231</td>\n",
       "      <td>7.892195</td>\n",
       "      <td>0.0</td>\n",
       "      <td>255.0</td>\n",
       "      <td>0.0</td>\n",
       "      <td>0.0</td>\n",
       "      <td>0.0</td>\n",
       "      <td>...</td>\n",
       "      <td>0.0</td>\n",
       "      <td>1.0</td>\n",
       "      <td>0.0</td>\n",
       "      <td>0.0</td>\n",
       "      <td>0.0</td>\n",
       "      <td>0.0</td>\n",
       "      <td>0.0</td>\n",
       "      <td>1.0</td>\n",
       "      <td>0.0</td>\n",
       "      <td>0.0</td>\n",
       "    </tr>\n",
       "    <tr>\n",
       "      <th>1464</th>\n",
       "      <td>2744.0</td>\n",
       "      <td>9.0</td>\n",
       "      <td>1359.0</td>\n",
       "      <td>37.886287</td>\n",
       "      <td>7.258558</td>\n",
       "      <td>0.0</td>\n",
       "      <td>80.0</td>\n",
       "      <td>0.0</td>\n",
       "      <td>0.0</td>\n",
       "      <td>0.0</td>\n",
       "      <td>...</td>\n",
       "      <td>0.0</td>\n",
       "      <td>1.0</td>\n",
       "      <td>0.0</td>\n",
       "      <td>0.0</td>\n",
       "      <td>0.0</td>\n",
       "      <td>1.0</td>\n",
       "      <td>0.0</td>\n",
       "      <td>0.0</td>\n",
       "      <td>0.0</td>\n",
       "      <td>0.0</td>\n",
       "    </tr>\n",
       "    <tr>\n",
       "      <th>44355</th>\n",
       "      <td>36293.0</td>\n",
       "      <td>7.0</td>\n",
       "      <td>90.0</td>\n",
       "      <td>33.412691</td>\n",
       "      <td>8.663386</td>\n",
       "      <td>0.0</td>\n",
       "      <td>0.0</td>\n",
       "      <td>0.0</td>\n",
       "      <td>0.0</td>\n",
       "      <td>0.0</td>\n",
       "      <td>...</td>\n",
       "      <td>0.0</td>\n",
       "      <td>1.0</td>\n",
       "      <td>0.0</td>\n",
       "      <td>0.0</td>\n",
       "      <td>0.0</td>\n",
       "      <td>0.0</td>\n",
       "      <td>0.0</td>\n",
       "      <td>1.0</td>\n",
       "      <td>0.0</td>\n",
       "      <td>0.0</td>\n",
       "    </tr>\n",
       "  </tbody>\n",
       "</table>\n",
       "<p>5 rows × 109 columns</p>\n",
       "</div>"
      ],
      "text/plain": [
       "            id  existing year  gps_height  longitude  latitude  num_private  \\\n",
       "6191   32154.0           32.0       237.0  37.798787  4.271429          0.0   \n",
       "7705    6131.0            7.0        90.0  36.361102  5.524355          0.0   \n",
       "24710  34216.0            9.0      1896.0  35.581231  7.892195          0.0   \n",
       "1464    2744.0            9.0      1359.0  37.886287  7.258558          0.0   \n",
       "44355  36293.0            7.0        90.0  33.412691  8.663386          0.0   \n",
       "\n",
       "       population  installer_ces  installer_community  installer_danida  \\\n",
       "6191       2000.0            0.0                  0.0               0.0   \n",
       "7705          0.0            0.0                  0.0               0.0   \n",
       "24710       255.0            0.0                  0.0               0.0   \n",
       "1464         80.0            0.0                  0.0               0.0   \n",
       "44355         0.0            0.0                  0.0               0.0   \n",
       "\n",
       "                  ...               quantity_unknown  \\\n",
       "6191              ...                            0.0   \n",
       "7705              ...                            0.0   \n",
       "24710             ...                            0.0   \n",
       "1464              ...                            0.0   \n",
       "44355             ...                            0.0   \n",
       "\n",
       "       source_class_groundwater  source_class_surface  source_class_unknown  \\\n",
       "6191                        1.0                   0.0                   0.0   \n",
       "7705                        1.0                   0.0                   0.0   \n",
       "24710                       1.0                   0.0                   0.0   \n",
       "1464                        1.0                   0.0                   0.0   \n",
       "44355                       1.0                   0.0                   0.0   \n",
       "\n",
       "       waterpoint_type_group_cattle trough  \\\n",
       "6191                                   0.0   \n",
       "7705                                   0.0   \n",
       "24710                                  0.0   \n",
       "1464                                   0.0   \n",
       "44355                                  0.0   \n",
       "\n",
       "       waterpoint_type_group_communal standpipe  waterpoint_type_group_dam  \\\n",
       "6191                                        0.0                        0.0   \n",
       "7705                                        1.0                        0.0   \n",
       "24710                                       0.0                        0.0   \n",
       "1464                                        1.0                        0.0   \n",
       "44355                                       0.0                        0.0   \n",
       "\n",
       "       waterpoint_type_group_hand pump  waterpoint_type_group_improved spring  \\\n",
       "6191                               1.0                                    0.0   \n",
       "7705                               0.0                                    0.0   \n",
       "24710                              1.0                                    0.0   \n",
       "1464                               0.0                                    0.0   \n",
       "44355                              1.0                                    0.0   \n",
       "\n",
       "       waterpoint_type_group_other  \n",
       "6191                           0.0  \n",
       "7705                           0.0  \n",
       "24710                          0.0  \n",
       "1464                           0.0  \n",
       "44355                          0.0  \n",
       "\n",
       "[5 rows x 109 columns]"
      ]
     },
     "execution_count": 211,
     "metadata": {},
     "output_type": "execute_result"
    }
   ],
   "source": [
    "(X_train - X_train.min())[:5]"
   ]
  },
  {
   "cell_type": "code",
   "execution_count": 180,
   "metadata": {},
   "outputs": [],
   "source": [
    "# Nomilisation\n",
    "# X_test=(X_test - X_test.min())/(X_test.max() - X_test.min())\n",
    "# X_train=(X_train - X_train.min())/(X_train.max() - X_train.min())"
   ]
  },
  {
   "cell_type": "code",
   "execution_count": 31,
   "metadata": {},
   "outputs": [],
   "source": [
    "modelRFC = RandomForestClassifier(n_estimators=1000,min_samples_split=10,max_features=10,criterion='gini')"
   ]
  },
  {
   "cell_type": "code",
   "execution_count": 33,
   "metadata": {},
   "outputs": [
    {
     "data": {
      "text/plain": [
       "RandomForestClassifier(bootstrap=True, class_weight=None, criterion='gini',\n",
       "            max_depth=None, max_features=10, max_leaf_nodes=None,\n",
       "            min_impurity_decrease=0.0, min_impurity_split=None,\n",
       "            min_samples_leaf=1, min_samples_split=10,\n",
       "            min_weight_fraction_leaf=0.0, n_estimators=1000, n_jobs=1,\n",
       "            oob_score=False, random_state=None, verbose=0,\n",
       "            warm_start=False)"
      ]
     },
     "execution_count": 33,
     "metadata": {},
     "output_type": "execute_result"
    }
   ],
   "source": [
    "modelRFC.fit(X_train, y_train)"
   ]
  },
  {
   "cell_type": "code",
   "execution_count": 35,
   "metadata": {},
   "outputs": [],
   "source": [
    "scoreRFC= modelRFC.score(X_test,y_test)"
   ]
  },
  {
   "cell_type": "code",
   "execution_count": 37,
   "metadata": {},
   "outputs": [
    {
     "data": {
      "text/plain": [
       "0.8151515151515152"
      ]
     },
     "execution_count": 37,
     "metadata": {},
     "output_type": "execute_result"
    }
   ],
   "source": [
    "scoreRFC"
   ]
  },
  {
   "cell_type": "code",
   "execution_count": 26,
   "metadata": {},
   "outputs": [
    {
     "data": {
      "text/plain": [
       "DecisionTreeClassifier(class_weight=None, criterion='gini', max_depth=None,\n",
       "            max_features=None, max_leaf_nodes=None,\n",
       "            min_impurity_decrease=0.0, min_impurity_split=None,\n",
       "            min_samples_leaf=1, min_samples_split=2,\n",
       "            min_weight_fraction_leaf=0.0, presort=False, random_state=None,\n",
       "            splitter='best')"
      ]
     },
     "execution_count": 26,
     "metadata": {},
     "output_type": "execute_result"
    }
   ],
   "source": [
    "modelDTC = DecisionTreeClassifier()\n",
    "modelDTC.fit(X_train, y_train)"
   ]
  },
  {
   "cell_type": "code",
   "execution_count": 27,
   "metadata": {},
   "outputs": [],
   "source": [
    "scoreDTC= modelDTC.score(X_test,y_test)"
   ]
  },
  {
   "cell_type": "code",
   "execution_count": 32,
   "metadata": {},
   "outputs": [
    {
     "data": {
      "text/plain": [
       "ExtraTreesClassifier(bootstrap=False, class_weight=None, criterion='gini',\n",
       "           max_depth=None, max_features=10, max_leaf_nodes=None,\n",
       "           min_impurity_decrease=0.0, min_impurity_split=None,\n",
       "           min_samples_leaf=1, min_samples_split=10,\n",
       "           min_weight_fraction_leaf=0.0, n_estimators=1000, n_jobs=1,\n",
       "           oob_score=False, random_state=None, verbose=0, warm_start=False)"
      ]
     },
     "execution_count": 32,
     "metadata": {},
     "output_type": "execute_result"
    }
   ],
   "source": [
    "modelETC = ExtraTreesClassifier(n_estimators=1000,min_samples_split=10,max_features=10)\n",
    "modelETC.fit(X_train, y_train)"
   ]
  },
  {
   "cell_type": "code",
   "execution_count": 29,
   "metadata": {},
   "outputs": [],
   "source": [
    "scoreETC= modelETC.score(X_test,y_test)"
   ]
  },
  {
   "cell_type": "code",
   "execution_count": 36,
   "metadata": {},
   "outputs": [
    {
     "name": "stdout",
     "output_type": "stream",
     "text": [
      "Random Forest 0.8151515151515152\n",
      "Decision Tree 0.7395622895622895\n",
      "Extra Trees Classifiers 0.8057239057239057\n"
     ]
    }
   ],
   "source": [
    "print('Random Forest' ,scoreRFC)\n",
    "print('Decision Tree', scoreDTC)\n",
    "print('Extra Trees Classifiers', scoreETC)"
   ]
  },
  {
   "cell_type": "markdown",
   "metadata": {},
   "source": [
    "- Fit Model"
   ]
  },
  {
   "cell_type": "code",
   "execution_count": 38,
   "metadata": {},
   "outputs": [],
   "source": [
    "df_test=pd.read_csv('new_data/testset_clean_dummy.csv')"
   ]
  },
  {
   "cell_type": "code",
   "execution_count": 39,
   "metadata": {},
   "outputs": [
    {
     "data": {
      "text/plain": [
       "(14850, 108)"
      ]
     },
     "execution_count": 39,
     "metadata": {},
     "output_type": "execute_result"
    }
   ],
   "source": [
    "df_test.shape"
   ]
  },
  {
   "cell_type": "code",
   "execution_count": 44,
   "metadata": {},
   "outputs": [
    {
     "data": {
      "text/html": [
       "<div>\n",
       "<style scoped>\n",
       "    .dataframe tbody tr th:only-of-type {\n",
       "        vertical-align: middle;\n",
       "    }\n",
       "\n",
       "    .dataframe tbody tr th {\n",
       "        vertical-align: top;\n",
       "    }\n",
       "\n",
       "    .dataframe thead th {\n",
       "        text-align: right;\n",
       "    }\n",
       "</style>\n",
       "<table border=\"1\" class=\"dataframe\">\n",
       "  <thead>\n",
       "    <tr style=\"text-align: right;\">\n",
       "      <th></th>\n",
       "      <th>id</th>\n",
       "      <th>existing year</th>\n",
       "      <th>gps_height</th>\n",
       "      <th>longitude</th>\n",
       "      <th>latitude</th>\n",
       "      <th>num_private</th>\n",
       "      <th>population</th>\n",
       "      <th>installer_ces</th>\n",
       "      <th>installer_community</th>\n",
       "      <th>installer_danida</th>\n",
       "      <th>...</th>\n",
       "      <th>quantity_unknown</th>\n",
       "      <th>source_class_groundwater</th>\n",
       "      <th>source_class_surface</th>\n",
       "      <th>source_class_unknown</th>\n",
       "      <th>waterpoint_type_group_cattle trough</th>\n",
       "      <th>waterpoint_type_group_communal standpipe</th>\n",
       "      <th>waterpoint_type_group_dam</th>\n",
       "      <th>waterpoint_type_group_hand pump</th>\n",
       "      <th>waterpoint_type_group_improved spring</th>\n",
       "      <th>waterpoint_type_group_other</th>\n",
       "    </tr>\n",
       "  </thead>\n",
       "  <tbody>\n",
       "    <tr>\n",
       "      <th>0</th>\n",
       "      <td>50785</td>\n",
       "      <td>1.0</td>\n",
       "      <td>1996</td>\n",
       "      <td>35.290799</td>\n",
       "      <td>-4.059696</td>\n",
       "      <td>0</td>\n",
       "      <td>321</td>\n",
       "      <td>0</td>\n",
       "      <td>0</td>\n",
       "      <td>0</td>\n",
       "      <td>...</td>\n",
       "      <td>0</td>\n",
       "      <td>0</td>\n",
       "      <td>1</td>\n",
       "      <td>0</td>\n",
       "      <td>0</td>\n",
       "      <td>0</td>\n",
       "      <td>0</td>\n",
       "      <td>0</td>\n",
       "      <td>0</td>\n",
       "      <td>1</td>\n",
       "    </tr>\n",
       "    <tr>\n",
       "      <th>1</th>\n",
       "      <td>51630</td>\n",
       "      <td>13.0</td>\n",
       "      <td>1569</td>\n",
       "      <td>36.656709</td>\n",
       "      <td>-3.309214</td>\n",
       "      <td>0</td>\n",
       "      <td>300</td>\n",
       "      <td>0</td>\n",
       "      <td>0</td>\n",
       "      <td>0</td>\n",
       "      <td>...</td>\n",
       "      <td>0</td>\n",
       "      <td>1</td>\n",
       "      <td>0</td>\n",
       "      <td>0</td>\n",
       "      <td>0</td>\n",
       "      <td>1</td>\n",
       "      <td>0</td>\n",
       "      <td>0</td>\n",
       "      <td>0</td>\n",
       "      <td>0</td>\n",
       "    </tr>\n",
       "    <tr>\n",
       "      <th>2</th>\n",
       "      <td>17168</td>\n",
       "      <td>3.0</td>\n",
       "      <td>1567</td>\n",
       "      <td>34.767863</td>\n",
       "      <td>-5.004344</td>\n",
       "      <td>0</td>\n",
       "      <td>500</td>\n",
       "      <td>0</td>\n",
       "      <td>0</td>\n",
       "      <td>0</td>\n",
       "      <td>...</td>\n",
       "      <td>0</td>\n",
       "      <td>0</td>\n",
       "      <td>1</td>\n",
       "      <td>0</td>\n",
       "      <td>0</td>\n",
       "      <td>0</td>\n",
       "      <td>0</td>\n",
       "      <td>0</td>\n",
       "      <td>0</td>\n",
       "      <td>1</td>\n",
       "    </tr>\n",
       "    <tr>\n",
       "      <th>3</th>\n",
       "      <td>45559</td>\n",
       "      <td>26.0</td>\n",
       "      <td>267</td>\n",
       "      <td>38.058046</td>\n",
       "      <td>-9.418672</td>\n",
       "      <td>0</td>\n",
       "      <td>250</td>\n",
       "      <td>0</td>\n",
       "      <td>1</td>\n",
       "      <td>0</td>\n",
       "      <td>...</td>\n",
       "      <td>0</td>\n",
       "      <td>1</td>\n",
       "      <td>0</td>\n",
       "      <td>0</td>\n",
       "      <td>0</td>\n",
       "      <td>0</td>\n",
       "      <td>0</td>\n",
       "      <td>0</td>\n",
       "      <td>0</td>\n",
       "      <td>1</td>\n",
       "    </tr>\n",
       "    <tr>\n",
       "      <th>4</th>\n",
       "      <td>49871</td>\n",
       "      <td>13.0</td>\n",
       "      <td>1260</td>\n",
       "      <td>35.006123</td>\n",
       "      <td>-10.950412</td>\n",
       "      <td>0</td>\n",
       "      <td>60</td>\n",
       "      <td>0</td>\n",
       "      <td>0</td>\n",
       "      <td>0</td>\n",
       "      <td>...</td>\n",
       "      <td>0</td>\n",
       "      <td>1</td>\n",
       "      <td>0</td>\n",
       "      <td>0</td>\n",
       "      <td>0</td>\n",
       "      <td>1</td>\n",
       "      <td>0</td>\n",
       "      <td>0</td>\n",
       "      <td>0</td>\n",
       "      <td>0</td>\n",
       "    </tr>\n",
       "  </tbody>\n",
       "</table>\n",
       "<p>5 rows × 108 columns</p>\n",
       "</div>"
      ],
      "text/plain": [
       "      id  existing year  gps_height  longitude   latitude  num_private  \\\n",
       "0  50785            1.0        1996  35.290799  -4.059696            0   \n",
       "1  51630           13.0        1569  36.656709  -3.309214            0   \n",
       "2  17168            3.0        1567  34.767863  -5.004344            0   \n",
       "3  45559           26.0         267  38.058046  -9.418672            0   \n",
       "4  49871           13.0        1260  35.006123 -10.950412            0   \n",
       "\n",
       "   population  installer_ces  installer_community  installer_danida  \\\n",
       "0         321              0                    0                 0   \n",
       "1         300              0                    0                 0   \n",
       "2         500              0                    0                 0   \n",
       "3         250              0                    1                 0   \n",
       "4          60              0                    0                 0   \n",
       "\n",
       "              ...               quantity_unknown  source_class_groundwater  \\\n",
       "0             ...                              0                         0   \n",
       "1             ...                              0                         1   \n",
       "2             ...                              0                         0   \n",
       "3             ...                              0                         1   \n",
       "4             ...                              0                         1   \n",
       "\n",
       "   source_class_surface  source_class_unknown  \\\n",
       "0                     1                     0   \n",
       "1                     0                     0   \n",
       "2                     1                     0   \n",
       "3                     0                     0   \n",
       "4                     0                     0   \n",
       "\n",
       "   waterpoint_type_group_cattle trough  \\\n",
       "0                                    0   \n",
       "1                                    0   \n",
       "2                                    0   \n",
       "3                                    0   \n",
       "4                                    0   \n",
       "\n",
       "   waterpoint_type_group_communal standpipe  waterpoint_type_group_dam  \\\n",
       "0                                         0                          0   \n",
       "1                                         1                          0   \n",
       "2                                         0                          0   \n",
       "3                                         0                          0   \n",
       "4                                         1                          0   \n",
       "\n",
       "   waterpoint_type_group_hand pump  waterpoint_type_group_improved spring  \\\n",
       "0                                0                                      0   \n",
       "1                                0                                      0   \n",
       "2                                0                                      0   \n",
       "3                                0                                      0   \n",
       "4                                0                                      0   \n",
       "\n",
       "   waterpoint_type_group_other  \n",
       "0                            1  \n",
       "1                            0  \n",
       "2                            1  \n",
       "3                            1  \n",
       "4                            0  \n",
       "\n",
       "[5 rows x 108 columns]"
      ]
     },
     "execution_count": 44,
     "metadata": {},
     "output_type": "execute_result"
    }
   ],
   "source": [
    "df_test.head(5)"
   ]
  },
  {
   "cell_type": "code",
   "execution_count": 40,
   "metadata": {},
   "outputs": [
    {
     "data": {
      "text/plain": [
       "id                                            int64\n",
       "existing year                                object\n",
       "gps_height                                    int64\n",
       "longitude                                   float64\n",
       "latitude                                    float64\n",
       "num_private                                   int64\n",
       "population                                    int64\n",
       "installer_ces                                 int64\n",
       "installer_community                           int64\n",
       "installer_danida                              int64\n",
       "installer_dwe                                 int64\n",
       "installer_government                          int64\n",
       "installer_hesawa                              int64\n",
       "installer_individual                          int64\n",
       "installer_kkkt                                int64\n",
       "installer_other                               int64\n",
       "installer_rwe                                 int64\n",
       "installer_tcrs                                int64\n",
       "installer_unknown                             int64\n",
       "basin_Internal                                int64\n",
       "basin_Lake Nyasa                              int64\n",
       "basin_Lake Rukwa                              int64\n",
       "basin_Lake Tanganyika                         int64\n",
       "basin_Lake Victoria                           int64\n",
       "basin_Pangani                                 int64\n",
       "basin_Rufiji                                  int64\n",
       "basin_Ruvuma / Southern Coast                 int64\n",
       "basin_Wami / Ruvu                             int64\n",
       "region_Arusha                                 int64\n",
       "region_Dar es Salaam                          int64\n",
       "                                             ...   \n",
       "management_group_user-group                   int64\n",
       "payment_type_annually                         int64\n",
       "payment_type_monthly                          int64\n",
       "payment_type_never pay                        int64\n",
       "payment_type_on failure                       int64\n",
       "payment_type_other                            int64\n",
       "payment_type_per bucket                       int64\n",
       "payment_type_unknown                          int64\n",
       "water_quality_coloured                        int64\n",
       "water_quality_fluoride                        int64\n",
       "water_quality_fluoride abandoned              int64\n",
       "water_quality_milky                           int64\n",
       "water_quality_salty                           int64\n",
       "water_quality_salty abandoned                 int64\n",
       "water_quality_soft                            int64\n",
       "water_quality_unknown                         int64\n",
       "quantity_dry                                  int64\n",
       "quantity_enough                               int64\n",
       "quantity_insufficient                         int64\n",
       "quantity_seasonal                             int64\n",
       "quantity_unknown                              int64\n",
       "source_class_groundwater                      int64\n",
       "source_class_surface                          int64\n",
       "source_class_unknown                          int64\n",
       "waterpoint_type_group_cattle trough           int64\n",
       "waterpoint_type_group_communal standpipe      int64\n",
       "waterpoint_type_group_dam                     int64\n",
       "waterpoint_type_group_hand pump               int64\n",
       "waterpoint_type_group_improved spring         int64\n",
       "waterpoint_type_group_other                   int64\n",
       "Length: 108, dtype: object"
      ]
     },
     "execution_count": 40,
     "metadata": {},
     "output_type": "execute_result"
    }
   ],
   "source": [
    "df_test.dtypes"
   ]
  },
  {
   "cell_type": "code",
   "execution_count": 50,
   "metadata": {},
   "outputs": [],
   "source": [
    "df_test['status_group']=1.0"
   ]
  },
  {
   "cell_type": "code",
   "execution_count": 51,
   "metadata": {},
   "outputs": [
    {
     "data": {
      "text/plain": [
       "id                                            int64\n",
       "existing year                               float64\n",
       "gps_height                                    int64\n",
       "longitude                                   float64\n",
       "latitude                                    float64\n",
       "num_private                                   int64\n",
       "population                                    int64\n",
       "installer_ces                                 int64\n",
       "installer_community                           int64\n",
       "installer_danida                              int64\n",
       "installer_dwe                                 int64\n",
       "installer_government                          int64\n",
       "installer_hesawa                              int64\n",
       "installer_individual                          int64\n",
       "installer_kkkt                                int64\n",
       "installer_other                               int64\n",
       "installer_rwe                                 int64\n",
       "installer_tcrs                                int64\n",
       "installer_unknown                             int64\n",
       "basin_Internal                                int64\n",
       "basin_Lake Nyasa                              int64\n",
       "basin_Lake Rukwa                              int64\n",
       "basin_Lake Tanganyika                         int64\n",
       "basin_Lake Victoria                           int64\n",
       "basin_Pangani                                 int64\n",
       "basin_Rufiji                                  int64\n",
       "basin_Ruvuma / Southern Coast                 int64\n",
       "basin_Wami / Ruvu                             int64\n",
       "region_Arusha                                 int64\n",
       "region_Dar es Salaam                          int64\n",
       "                                             ...   \n",
       "payment_type_annually                         int64\n",
       "payment_type_monthly                          int64\n",
       "payment_type_never pay                        int64\n",
       "payment_type_on failure                       int64\n",
       "payment_type_other                            int64\n",
       "payment_type_per bucket                       int64\n",
       "payment_type_unknown                          int64\n",
       "water_quality_coloured                        int64\n",
       "water_quality_fluoride                        int64\n",
       "water_quality_fluoride abandoned              int64\n",
       "water_quality_milky                           int64\n",
       "water_quality_salty                           int64\n",
       "water_quality_salty abandoned                 int64\n",
       "water_quality_soft                            int64\n",
       "water_quality_unknown                         int64\n",
       "quantity_dry                                  int64\n",
       "quantity_enough                               int64\n",
       "quantity_insufficient                         int64\n",
       "quantity_seasonal                             int64\n",
       "quantity_unknown                              int64\n",
       "source_class_groundwater                      int64\n",
       "source_class_surface                          int64\n",
       "source_class_unknown                          int64\n",
       "waterpoint_type_group_cattle trough           int64\n",
       "waterpoint_type_group_communal standpipe      int64\n",
       "waterpoint_type_group_dam                     int64\n",
       "waterpoint_type_group_hand pump               int64\n",
       "waterpoint_type_group_improved spring         int64\n",
       "waterpoint_type_group_other                   int64\n",
       "status_group                                float64\n",
       "Length: 109, dtype: object"
      ]
     },
     "execution_count": 51,
     "metadata": {},
     "output_type": "execute_result"
    }
   ],
   "source": [
    "df_test.dtypes"
   ]
  },
  {
   "cell_type": "code",
   "execution_count": 41,
   "metadata": {},
   "outputs": [],
   "source": [
    "df_test['existing year'] = df_test['existing year'].replace({'unknown':0})\n",
    "df_test['existing year'] = df_test['existing year'].apply(pd.to_numeric)"
   ]
  },
  {
   "cell_type": "code",
   "execution_count": 42,
   "metadata": {},
   "outputs": [
    {
     "data": {
      "text/plain": [
       "dtype('float64')"
      ]
     },
     "execution_count": 42,
     "metadata": {},
     "output_type": "execute_result"
    }
   ],
   "source": [
    "df_test['existing year'].dtypes"
   ]
  },
  {
   "cell_type": "code",
   "execution_count": 52,
   "metadata": {},
   "outputs": [],
   "source": [
    "predict=modelRFC.predict(df_test)"
   ]
  },
  {
   "cell_type": "code",
   "execution_count": 53,
   "metadata": {},
   "outputs": [
    {
     "data": {
      "text/plain": [
       "array(['non functional', 'non functional', 'functional', 'non functional',\n",
       "       'non functional'], dtype=object)"
      ]
     },
     "execution_count": 53,
     "metadata": {},
     "output_type": "execute_result"
    }
   ],
   "source": [
    "predict[:5]"
   ]
  },
  {
   "cell_type": "code",
   "execution_count": 54,
   "metadata": {},
   "outputs": [],
   "source": [
    "df_test['status_group']=predict"
   ]
  },
  {
   "cell_type": "code",
   "execution_count": 55,
   "metadata": {},
   "outputs": [
    {
     "data": {
      "text/html": [
       "<div>\n",
       "<style scoped>\n",
       "    .dataframe tbody tr th:only-of-type {\n",
       "        vertical-align: middle;\n",
       "    }\n",
       "\n",
       "    .dataframe tbody tr th {\n",
       "        vertical-align: top;\n",
       "    }\n",
       "\n",
       "    .dataframe thead th {\n",
       "        text-align: right;\n",
       "    }\n",
       "</style>\n",
       "<table border=\"1\" class=\"dataframe\">\n",
       "  <thead>\n",
       "    <tr style=\"text-align: right;\">\n",
       "      <th></th>\n",
       "      <th>id</th>\n",
       "      <th>status_group</th>\n",
       "    </tr>\n",
       "  </thead>\n",
       "  <tbody>\n",
       "    <tr>\n",
       "      <th>0</th>\n",
       "      <td>50785</td>\n",
       "      <td>non functional</td>\n",
       "    </tr>\n",
       "    <tr>\n",
       "      <th>1</th>\n",
       "      <td>51630</td>\n",
       "      <td>non functional</td>\n",
       "    </tr>\n",
       "    <tr>\n",
       "      <th>2</th>\n",
       "      <td>17168</td>\n",
       "      <td>functional</td>\n",
       "    </tr>\n",
       "    <tr>\n",
       "      <th>3</th>\n",
       "      <td>45559</td>\n",
       "      <td>non functional</td>\n",
       "    </tr>\n",
       "    <tr>\n",
       "      <th>4</th>\n",
       "      <td>49871</td>\n",
       "      <td>non functional</td>\n",
       "    </tr>\n",
       "  </tbody>\n",
       "</table>\n",
       "</div>"
      ],
      "text/plain": [
       "      id    status_group\n",
       "0  50785  non functional\n",
       "1  51630  non functional\n",
       "2  17168      functional\n",
       "3  45559  non functional\n",
       "4  49871  non functional"
      ]
     },
     "execution_count": 55,
     "metadata": {},
     "output_type": "execute_result"
    }
   ],
   "source": [
    "df_test[['id','status_group']].head()"
   ]
  },
  {
   "cell_type": "code",
   "execution_count": 56,
   "metadata": {},
   "outputs": [],
   "source": [
    "df_test[['id','status_group']].to_csv('outputRFC.csv',index=False)"
   ]
  },
  {
   "cell_type": "code",
   "execution_count": null,
   "metadata": {},
   "outputs": [],
   "source": []
  }
 ],
 "metadata": {
  "kernelspec": {
   "display_name": "Python 3",
   "language": "python",
   "name": "python3"
  },
  "language_info": {
   "codemirror_mode": {
    "name": "ipython",
    "version": 3
   },
   "file_extension": ".py",
   "mimetype": "text/x-python",
   "name": "python",
   "nbconvert_exporter": "python",
   "pygments_lexer": "ipython3",
   "version": "3.7.3"
  }
 },
 "nbformat": 4,
 "nbformat_minor": 2
}
