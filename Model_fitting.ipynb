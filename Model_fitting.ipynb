{
 "cells": [
  {
   "cell_type": "code",
   "execution_count": 1,
   "metadata": {},
   "outputs": [
    {
     "name": "stderr",
     "output_type": "stream",
     "text": [
      "D:\\ProgramData\\Anaconda3\\lib\\site-packages\\sklearn\\ensemble\\weight_boosting.py:29: DeprecationWarning: numpy.core.umath_tests is an internal NumPy module and should not be imported. It will be removed in a future NumPy release.\n",
      "  from numpy.core.umath_tests import inner1d\n",
      "D:\\ProgramData\\Anaconda3\\lib\\site-packages\\sklearn\\cross_validation.py:41: DeprecationWarning: This module was deprecated in version 0.18 in favor of the model_selection module into which all the refactored classes and functions are moved. Also note that the interface of the new CV iterators are different from that of this module. This module will be removed in 0.20.\n",
      "  \"This module will be removed in 0.20.\", DeprecationWarning)\n"
     ]
    }
   ],
   "source": [
    "import numpy as np\n",
    "import pandas as pd\n",
    "import matplotlib.pyplot as plt\n",
    "import datetime\n",
    "import time\n",
    "from sklearn.tree import DecisionTreeClassifier\n",
    "from sklearn.ensemble import RandomForestClassifier\n",
    "from sklearn.ensemble import ExtraTreesClassifier\n",
    "from sklearn.cross_validation import train_test_split"
   ]
  },
  {
   "cell_type": "code",
   "execution_count": 2,
   "metadata": {},
   "outputs": [],
   "source": [
    "df_train=pd.read_csv('new_data/trainset_clean_dummy.csv')"
   ]
  },
  {
   "cell_type": "code",
   "execution_count": 3,
   "metadata": {},
   "outputs": [
    {
     "data": {
      "text/plain": [
       "(59400, 109)"
      ]
     },
     "execution_count": 3,
     "metadata": {},
     "output_type": "execute_result"
    }
   ],
   "source": [
    "df_train.shape"
   ]
  },
  {
   "cell_type": "code",
   "execution_count": 4,
   "metadata": {},
   "outputs": [
    {
     "name": "stdout",
     "output_type": "stream",
     "text": [
      "<class 'pandas.core.frame.DataFrame'>\n",
      "RangeIndex: 59400 entries, 0 to 59399\n",
      "Columns: 109 entries, id to waterpoint_type_group_other\n",
      "dtypes: float64(2), int64(104), object(3)\n",
      "memory usage: 49.4+ MB\n"
     ]
    }
   ],
   "source": [
    "df_train.info()"
   ]
  },
  {
   "cell_type": "code",
   "execution_count": 5,
   "metadata": {},
   "outputs": [
    {
     "name": "stdout",
     "output_type": "stream",
     "text": [
      "Index(['id', 'existing year', 'gps_height', 'longitude', 'latitude',\n",
      "       'num_private', 'population', 'status_group', 'installer_ces',\n",
      "       'installer_community',\n",
      "       ...\n",
      "       'quantity_unknown', 'source_class_groundwater', 'source_class_surface',\n",
      "       'source_class_unknown', 'waterpoint_type_group_cattle trough',\n",
      "       'waterpoint_type_group_communal standpipe', 'waterpoint_type_group_dam',\n",
      "       'waterpoint_type_group_hand pump',\n",
      "       'waterpoint_type_group_improved spring', 'waterpoint_type_group_other'],\n",
      "      dtype='object', length=109)\n"
     ]
    }
   ],
   "source": [
    "print(df_train.columns)"
   ]
  },
  {
   "cell_type": "code",
   "execution_count": 6,
   "metadata": {},
   "outputs": [],
   "source": [
    "# print(df_train.dtypes)"
   ]
  },
  {
   "cell_type": "code",
   "execution_count": 7,
   "metadata": {},
   "outputs": [
    {
     "data": {
      "text/plain": [
       "functional                 32259\n",
       "non functional             22824\n",
       "functional needs repair     4317\n",
       "Name: status_group, dtype: int64"
      ]
     },
     "execution_count": 7,
     "metadata": {},
     "output_type": "execute_result"
    }
   ],
   "source": [
    "df_train['status_group'].value_counts()"
   ]
  },
  {
   "cell_type": "code",
   "execution_count": 8,
   "metadata": {},
   "outputs": [
    {
     "data": {
      "text/plain": [
       "unknown    20709\n",
       "3           2740\n",
       "1           2303\n",
       "2           2129\n",
       "5           1980\n",
       "Name: existing year, dtype: int64"
      ]
     },
     "execution_count": 8,
     "metadata": {},
     "output_type": "execute_result"
    }
   ],
   "source": [
    "df_train['existing year'].value_counts()[:5]"
   ]
  },
  {
   "cell_type": "code",
   "execution_count": 9,
   "metadata": {},
   "outputs": [],
   "source": [
    "df_train['existing year'] = df_train['existing year'].replace({'unknown':0})"
   ]
  },
  {
   "cell_type": "code",
   "execution_count": 10,
   "metadata": {},
   "outputs": [
    {
     "data": {
      "text/plain": [
       "0    20709\n",
       "3     2740\n",
       "1     2303\n",
       "2     2129\n",
       "5     1980\n",
       "Name: existing year, dtype: int64"
      ]
     },
     "execution_count": 10,
     "metadata": {},
     "output_type": "execute_result"
    }
   ],
   "source": [
    "df_train['existing year'].value_counts()[:5]"
   ]
  },
  {
   "cell_type": "code",
   "execution_count": 11,
   "metadata": {},
   "outputs": [],
   "source": [
    "# df_train[['existing year','population']] = df_train[['existing year','population']].apply(pd.to_numeric)"
   ]
  },
  {
   "cell_type": "code",
   "execution_count": 12,
   "metadata": {},
   "outputs": [],
   "source": [
    "df_train['existing year'] = df_train['existing year'].apply(pd.to_numeric)"
   ]
  },
  {
   "cell_type": "code",
   "execution_count": 13,
   "metadata": {},
   "outputs": [
    {
     "name": "stdout",
     "output_type": "stream",
     "text": [
      "int64\n"
     ]
    }
   ],
   "source": [
    "print(df_train['existing year'].dtypes)"
   ]
  },
  {
   "cell_type": "code",
   "execution_count": 14,
   "metadata": {},
   "outputs": [
    {
     "data": {
      "text/plain": [
       "<built-in function zeros>    21381\n",
       "1                             7025\n",
       "200                           1940\n",
       "150                           1892\n",
       "250                           1681\n",
       "Name: population, dtype: int64"
      ]
     },
     "execution_count": 14,
     "metadata": {},
     "output_type": "execute_result"
    }
   ],
   "source": [
    "df_train['population'].value_counts()[:5]"
   ]
  },
  {
   "cell_type": "code",
   "execution_count": 15,
   "metadata": {},
   "outputs": [],
   "source": [
    "df_train['population']=df_train['population'].replace({'<built-in function zeros>':0.0})"
   ]
  },
  {
   "cell_type": "code",
   "execution_count": 16,
   "metadata": {},
   "outputs": [
    {
     "data": {
      "text/plain": [
       "0.0    21381\n",
       "1       7025\n",
       "200     1940\n",
       "150     1892\n",
       "250     1681\n",
       "Name: population, dtype: int64"
      ]
     },
     "execution_count": 16,
     "metadata": {},
     "output_type": "execute_result"
    }
   ],
   "source": [
    "df_train['population'].value_counts()[:5]"
   ]
  },
  {
   "cell_type": "code",
   "execution_count": 17,
   "metadata": {},
   "outputs": [
    {
     "name": "stdout",
     "output_type": "stream",
     "text": [
      "object\n"
     ]
    }
   ],
   "source": [
    "print(df_train['population'].dtypes)"
   ]
  },
  {
   "cell_type": "code",
   "execution_count": 18,
   "metadata": {},
   "outputs": [],
   "source": [
    "# df_train['population'] = df_train['population'].astype(float)\n",
    "df_train['population'] = df_train['population'].apply(pd.to_numeric,errors='ignore')"
   ]
  },
  {
   "cell_type": "code",
   "execution_count": 19,
   "metadata": {},
   "outputs": [],
   "source": [
    "# df_train['population'].value_counts()[:5]"
   ]
  },
  {
   "cell_type": "code",
   "execution_count": 20,
   "metadata": {},
   "outputs": [
    {
     "name": "stdout",
     "output_type": "stream",
     "text": [
      "float64\n"
     ]
    }
   ],
   "source": [
    "print(df_train['population'].dtypes)"
   ]
  },
  {
   "cell_type": "code",
   "execution_count": 21,
   "metadata": {},
   "outputs": [
    {
     "name": "stdout",
     "output_type": "stream",
     "text": [
      "<class 'pandas.core.frame.DataFrame'>\n",
      "RangeIndex: 59400 entries, 0 to 59399\n",
      "Columns: 109 entries, id to waterpoint_type_group_other\n",
      "dtypes: float64(3), int64(105), object(1)\n",
      "memory usage: 49.4+ MB\n"
     ]
    }
   ],
   "source": [
    "df_train.info()"
   ]
  },
  {
   "cell_type": "code",
   "execution_count": 22,
   "metadata": {},
   "outputs": [],
   "source": [
    "# print(df_train.apply(lambda x: sum(x.isnull())))"
   ]
  },
  {
   "cell_type": "markdown",
   "metadata": {},
   "source": [
    "### Split training datasets to training and validation sets "
   ]
  },
  {
   "cell_type": "code",
   "execution_count": 40,
   "metadata": {},
   "outputs": [
    {
     "name": "stdout",
     "output_type": "stream",
     "text": [
      "53460 5940\n"
     ]
    }
   ],
   "source": [
    "X_train, X_test, y_train, y_test = train_test_split(df_train.loc[:, df_train.columns != 'status_group'], df_train['status_group'], test_size=0.1, random_state=10)\n",
    "print(len(X_train), len(X_test))"
   ]
  },
  {
   "cell_type": "code",
   "execution_count": 41,
   "metadata": {},
   "outputs": [
    {
     "data": {
      "text/html": [
       "<div>\n",
       "<style scoped>\n",
       "    .dataframe tbody tr th:only-of-type {\n",
       "        vertical-align: middle;\n",
       "    }\n",
       "\n",
       "    .dataframe tbody tr th {\n",
       "        vertical-align: top;\n",
       "    }\n",
       "\n",
       "    .dataframe thead th {\n",
       "        text-align: right;\n",
       "    }\n",
       "</style>\n",
       "<table border=\"1\" class=\"dataframe\">\n",
       "  <thead>\n",
       "    <tr style=\"text-align: right;\">\n",
       "      <th></th>\n",
       "      <th>id</th>\n",
       "      <th>existing year</th>\n",
       "      <th>gps_height</th>\n",
       "      <th>longitude</th>\n",
       "      <th>latitude</th>\n",
       "      <th>num_private</th>\n",
       "      <th>population</th>\n",
       "      <th>installer_ces</th>\n",
       "      <th>installer_community</th>\n",
       "      <th>installer_danida</th>\n",
       "      <th>...</th>\n",
       "      <th>quantity_unknown</th>\n",
       "      <th>source_class_groundwater</th>\n",
       "      <th>source_class_surface</th>\n",
       "      <th>source_class_unknown</th>\n",
       "      <th>waterpoint_type_group_cattle trough</th>\n",
       "      <th>waterpoint_type_group_communal standpipe</th>\n",
       "      <th>waterpoint_type_group_dam</th>\n",
       "      <th>waterpoint_type_group_hand pump</th>\n",
       "      <th>waterpoint_type_group_improved spring</th>\n",
       "      <th>waterpoint_type_group_other</th>\n",
       "    </tr>\n",
       "  </thead>\n",
       "  <tbody>\n",
       "    <tr>\n",
       "      <th>6191</th>\n",
       "      <td>32154</td>\n",
       "      <td>25</td>\n",
       "      <td>147</td>\n",
       "      <td>37.798787</td>\n",
       "      <td>-7.378011</td>\n",
       "      <td>0</td>\n",
       "      <td>2000.0</td>\n",
       "      <td>0</td>\n",
       "      <td>0</td>\n",
       "      <td>0</td>\n",
       "      <td>...</td>\n",
       "      <td>0</td>\n",
       "      <td>1</td>\n",
       "      <td>0</td>\n",
       "      <td>0</td>\n",
       "      <td>0</td>\n",
       "      <td>0</td>\n",
       "      <td>0</td>\n",
       "      <td>1</td>\n",
       "      <td>0</td>\n",
       "      <td>0</td>\n",
       "    </tr>\n",
       "    <tr>\n",
       "      <th>7705</th>\n",
       "      <td>6131</td>\n",
       "      <td>0</td>\n",
       "      <td>0</td>\n",
       "      <td>36.361102</td>\n",
       "      <td>-6.125086</td>\n",
       "      <td>0</td>\n",
       "      <td>0.0</td>\n",
       "      <td>0</td>\n",
       "      <td>0</td>\n",
       "      <td>0</td>\n",
       "      <td>...</td>\n",
       "      <td>0</td>\n",
       "      <td>1</td>\n",
       "      <td>0</td>\n",
       "      <td>0</td>\n",
       "      <td>0</td>\n",
       "      <td>1</td>\n",
       "      <td>0</td>\n",
       "      <td>0</td>\n",
       "      <td>0</td>\n",
       "      <td>0</td>\n",
       "    </tr>\n",
       "    <tr>\n",
       "      <th>24710</th>\n",
       "      <td>34216</td>\n",
       "      <td>2</td>\n",
       "      <td>1806</td>\n",
       "      <td>35.581231</td>\n",
       "      <td>-3.757245</td>\n",
       "      <td>0</td>\n",
       "      <td>255.0</td>\n",
       "      <td>0</td>\n",
       "      <td>0</td>\n",
       "      <td>0</td>\n",
       "      <td>...</td>\n",
       "      <td>0</td>\n",
       "      <td>1</td>\n",
       "      <td>0</td>\n",
       "      <td>0</td>\n",
       "      <td>0</td>\n",
       "      <td>0</td>\n",
       "      <td>0</td>\n",
       "      <td>1</td>\n",
       "      <td>0</td>\n",
       "      <td>0</td>\n",
       "    </tr>\n",
       "    <tr>\n",
       "      <th>1464</th>\n",
       "      <td>2744</td>\n",
       "      <td>2</td>\n",
       "      <td>1269</td>\n",
       "      <td>37.886287</td>\n",
       "      <td>-4.390882</td>\n",
       "      <td>0</td>\n",
       "      <td>80.0</td>\n",
       "      <td>0</td>\n",
       "      <td>0</td>\n",
       "      <td>0</td>\n",
       "      <td>...</td>\n",
       "      <td>0</td>\n",
       "      <td>1</td>\n",
       "      <td>0</td>\n",
       "      <td>0</td>\n",
       "      <td>0</td>\n",
       "      <td>1</td>\n",
       "      <td>0</td>\n",
       "      <td>0</td>\n",
       "      <td>0</td>\n",
       "      <td>0</td>\n",
       "    </tr>\n",
       "    <tr>\n",
       "      <th>44355</th>\n",
       "      <td>36293</td>\n",
       "      <td>0</td>\n",
       "      <td>0</td>\n",
       "      <td>33.412691</td>\n",
       "      <td>-2.986055</td>\n",
       "      <td>0</td>\n",
       "      <td>0.0</td>\n",
       "      <td>0</td>\n",
       "      <td>0</td>\n",
       "      <td>0</td>\n",
       "      <td>...</td>\n",
       "      <td>0</td>\n",
       "      <td>1</td>\n",
       "      <td>0</td>\n",
       "      <td>0</td>\n",
       "      <td>0</td>\n",
       "      <td>0</td>\n",
       "      <td>0</td>\n",
       "      <td>1</td>\n",
       "      <td>0</td>\n",
       "      <td>0</td>\n",
       "    </tr>\n",
       "  </tbody>\n",
       "</table>\n",
       "<p>5 rows × 108 columns</p>\n",
       "</div>"
      ],
      "text/plain": [
       "          id  existing year  gps_height  longitude  latitude  num_private  \\\n",
       "6191   32154             25         147  37.798787 -7.378011            0   \n",
       "7705    6131              0           0  36.361102 -6.125086            0   \n",
       "24710  34216              2        1806  35.581231 -3.757245            0   \n",
       "1464    2744              2        1269  37.886287 -4.390882            0   \n",
       "44355  36293              0           0  33.412691 -2.986055            0   \n",
       "\n",
       "       population  installer_ces  installer_community  installer_danida  \\\n",
       "6191       2000.0              0                    0                 0   \n",
       "7705          0.0              0                    0                 0   \n",
       "24710       255.0              0                    0                 0   \n",
       "1464         80.0              0                    0                 0   \n",
       "44355         0.0              0                    0                 0   \n",
       "\n",
       "                  ...               quantity_unknown  \\\n",
       "6191              ...                              0   \n",
       "7705              ...                              0   \n",
       "24710             ...                              0   \n",
       "1464              ...                              0   \n",
       "44355             ...                              0   \n",
       "\n",
       "       source_class_groundwater  source_class_surface  source_class_unknown  \\\n",
       "6191                          1                     0                     0   \n",
       "7705                          1                     0                     0   \n",
       "24710                         1                     0                     0   \n",
       "1464                          1                     0                     0   \n",
       "44355                         1                     0                     0   \n",
       "\n",
       "       waterpoint_type_group_cattle trough  \\\n",
       "6191                                     0   \n",
       "7705                                     0   \n",
       "24710                                    0   \n",
       "1464                                     0   \n",
       "44355                                    0   \n",
       "\n",
       "       waterpoint_type_group_communal standpipe  waterpoint_type_group_dam  \\\n",
       "6191                                          0                          0   \n",
       "7705                                          1                          0   \n",
       "24710                                         0                          0   \n",
       "1464                                          1                          0   \n",
       "44355                                         0                          0   \n",
       "\n",
       "       waterpoint_type_group_hand pump  waterpoint_type_group_improved spring  \\\n",
       "6191                                 1                                      0   \n",
       "7705                                 0                                      0   \n",
       "24710                                1                                      0   \n",
       "1464                                 0                                      0   \n",
       "44355                                1                                      0   \n",
       "\n",
       "       waterpoint_type_group_other  \n",
       "6191                             0  \n",
       "7705                             0  \n",
       "24710                            0  \n",
       "1464                             0  \n",
       "44355                            0  \n",
       "\n",
       "[5 rows x 108 columns]"
      ]
     },
     "execution_count": 41,
     "metadata": {},
     "output_type": "execute_result"
    }
   ],
   "source": [
    "X_train[:5]"
   ]
  },
  {
   "cell_type": "code",
   "execution_count": 42,
   "metadata": {},
   "outputs": [
    {
     "data": {
      "text/plain": [
       "6191     functional\n",
       "7705     functional\n",
       "24710    functional\n",
       "1464     functional\n",
       "44355    functional\n",
       "Name: status_group, dtype: object"
      ]
     },
     "execution_count": 42,
     "metadata": {},
     "output_type": "execute_result"
    }
   ],
   "source": [
    "y_train[:5]"
   ]
  },
  {
   "cell_type": "markdown",
   "metadata": {},
   "source": [
    "### 1. Random Forest"
   ]
  },
  {
   "cell_type": "markdown",
   "metadata": {},
   "source": [
    "- Train and Score models(Validation)"
   ]
  },
  {
   "cell_type": "code",
   "execution_count": 26,
   "metadata": {},
   "outputs": [
    {
     "data": {
      "text/plain": [
       "id               20.000000\n",
       "existing year    -2.000000\n",
       "gps_height      -55.000000\n",
       "longitude         0.000000\n",
       "latitude        -11.564324\n",
       "dtype: float64"
      ]
     },
     "execution_count": 26,
     "metadata": {},
     "output_type": "execute_result"
    }
   ],
   "source": [
    "X_test.min()[:5]"
   ]
  },
  {
   "cell_type": "code",
   "execution_count": 27,
   "metadata": {},
   "outputs": [
    {
     "data": {
      "text/plain": [
       "id               7.422700e+04\n",
       "existing year    5.300000e+01\n",
       "gps_height       2.585000e+03\n",
       "longitude        4.032340e+01\n",
       "latitude        -2.000000e-08\n",
       "dtype: float64"
      ]
     },
     "execution_count": 27,
     "metadata": {},
     "output_type": "execute_result"
    }
   ],
   "source": [
    "X_test.max()[:5]"
   ]
  },
  {
   "cell_type": "code",
   "execution_count": 28,
   "metadata": {},
   "outputs": [
    {
     "data": {
      "text/html": [
       "<div>\n",
       "<style scoped>\n",
       "    .dataframe tbody tr th:only-of-type {\n",
       "        vertical-align: middle;\n",
       "    }\n",
       "\n",
       "    .dataframe tbody tr th {\n",
       "        vertical-align: top;\n",
       "    }\n",
       "\n",
       "    .dataframe thead th {\n",
       "        text-align: right;\n",
       "    }\n",
       "</style>\n",
       "<table border=\"1\" class=\"dataframe\">\n",
       "  <thead>\n",
       "    <tr style=\"text-align: right;\">\n",
       "      <th></th>\n",
       "      <th>id</th>\n",
       "      <th>existing year</th>\n",
       "      <th>gps_height</th>\n",
       "      <th>longitude</th>\n",
       "      <th>latitude</th>\n",
       "      <th>num_private</th>\n",
       "      <th>population</th>\n",
       "      <th>installer_ces</th>\n",
       "      <th>installer_community</th>\n",
       "      <th>installer_danida</th>\n",
       "      <th>...</th>\n",
       "      <th>quantity_unknown</th>\n",
       "      <th>source_class_groundwater</th>\n",
       "      <th>source_class_surface</th>\n",
       "      <th>source_class_unknown</th>\n",
       "      <th>waterpoint_type_group_cattle trough</th>\n",
       "      <th>waterpoint_type_group_communal standpipe</th>\n",
       "      <th>waterpoint_type_group_dam</th>\n",
       "      <th>waterpoint_type_group_hand pump</th>\n",
       "      <th>waterpoint_type_group_improved spring</th>\n",
       "      <th>waterpoint_type_group_other</th>\n",
       "    </tr>\n",
       "  </thead>\n",
       "  <tbody>\n",
       "    <tr>\n",
       "      <th>6191</th>\n",
       "      <td>32154.0</td>\n",
       "      <td>32.0</td>\n",
       "      <td>237.0</td>\n",
       "      <td>37.798787</td>\n",
       "      <td>4.271429</td>\n",
       "      <td>0.0</td>\n",
       "      <td>2000.0</td>\n",
       "      <td>0.0</td>\n",
       "      <td>0.0</td>\n",
       "      <td>0.0</td>\n",
       "      <td>...</td>\n",
       "      <td>0.0</td>\n",
       "      <td>1.0</td>\n",
       "      <td>0.0</td>\n",
       "      <td>0.0</td>\n",
       "      <td>0.0</td>\n",
       "      <td>0.0</td>\n",
       "      <td>0.0</td>\n",
       "      <td>1.0</td>\n",
       "      <td>0.0</td>\n",
       "      <td>0.0</td>\n",
       "    </tr>\n",
       "    <tr>\n",
       "      <th>7705</th>\n",
       "      <td>6131.0</td>\n",
       "      <td>7.0</td>\n",
       "      <td>90.0</td>\n",
       "      <td>36.361102</td>\n",
       "      <td>5.524355</td>\n",
       "      <td>0.0</td>\n",
       "      <td>0.0</td>\n",
       "      <td>0.0</td>\n",
       "      <td>0.0</td>\n",
       "      <td>0.0</td>\n",
       "      <td>...</td>\n",
       "      <td>0.0</td>\n",
       "      <td>1.0</td>\n",
       "      <td>0.0</td>\n",
       "      <td>0.0</td>\n",
       "      <td>0.0</td>\n",
       "      <td>1.0</td>\n",
       "      <td>0.0</td>\n",
       "      <td>0.0</td>\n",
       "      <td>0.0</td>\n",
       "      <td>0.0</td>\n",
       "    </tr>\n",
       "    <tr>\n",
       "      <th>24710</th>\n",
       "      <td>34216.0</td>\n",
       "      <td>9.0</td>\n",
       "      <td>1896.0</td>\n",
       "      <td>35.581231</td>\n",
       "      <td>7.892195</td>\n",
       "      <td>0.0</td>\n",
       "      <td>255.0</td>\n",
       "      <td>0.0</td>\n",
       "      <td>0.0</td>\n",
       "      <td>0.0</td>\n",
       "      <td>...</td>\n",
       "      <td>0.0</td>\n",
       "      <td>1.0</td>\n",
       "      <td>0.0</td>\n",
       "      <td>0.0</td>\n",
       "      <td>0.0</td>\n",
       "      <td>0.0</td>\n",
       "      <td>0.0</td>\n",
       "      <td>1.0</td>\n",
       "      <td>0.0</td>\n",
       "      <td>0.0</td>\n",
       "    </tr>\n",
       "    <tr>\n",
       "      <th>1464</th>\n",
       "      <td>2744.0</td>\n",
       "      <td>9.0</td>\n",
       "      <td>1359.0</td>\n",
       "      <td>37.886287</td>\n",
       "      <td>7.258558</td>\n",
       "      <td>0.0</td>\n",
       "      <td>80.0</td>\n",
       "      <td>0.0</td>\n",
       "      <td>0.0</td>\n",
       "      <td>0.0</td>\n",
       "      <td>...</td>\n",
       "      <td>0.0</td>\n",
       "      <td>1.0</td>\n",
       "      <td>0.0</td>\n",
       "      <td>0.0</td>\n",
       "      <td>0.0</td>\n",
       "      <td>1.0</td>\n",
       "      <td>0.0</td>\n",
       "      <td>0.0</td>\n",
       "      <td>0.0</td>\n",
       "      <td>0.0</td>\n",
       "    </tr>\n",
       "    <tr>\n",
       "      <th>44355</th>\n",
       "      <td>36293.0</td>\n",
       "      <td>7.0</td>\n",
       "      <td>90.0</td>\n",
       "      <td>33.412691</td>\n",
       "      <td>8.663386</td>\n",
       "      <td>0.0</td>\n",
       "      <td>0.0</td>\n",
       "      <td>0.0</td>\n",
       "      <td>0.0</td>\n",
       "      <td>0.0</td>\n",
       "      <td>...</td>\n",
       "      <td>0.0</td>\n",
       "      <td>1.0</td>\n",
       "      <td>0.0</td>\n",
       "      <td>0.0</td>\n",
       "      <td>0.0</td>\n",
       "      <td>0.0</td>\n",
       "      <td>0.0</td>\n",
       "      <td>1.0</td>\n",
       "      <td>0.0</td>\n",
       "      <td>0.0</td>\n",
       "    </tr>\n",
       "  </tbody>\n",
       "</table>\n",
       "<p>5 rows × 108 columns</p>\n",
       "</div>"
      ],
      "text/plain": [
       "            id  existing year  gps_height  longitude  latitude  num_private  \\\n",
       "6191   32154.0           32.0       237.0  37.798787  4.271429          0.0   \n",
       "7705    6131.0            7.0        90.0  36.361102  5.524355          0.0   \n",
       "24710  34216.0            9.0      1896.0  35.581231  7.892195          0.0   \n",
       "1464    2744.0            9.0      1359.0  37.886287  7.258558          0.0   \n",
       "44355  36293.0            7.0        90.0  33.412691  8.663386          0.0   \n",
       "\n",
       "       population  installer_ces  installer_community  installer_danida  \\\n",
       "6191       2000.0            0.0                  0.0               0.0   \n",
       "7705          0.0            0.0                  0.0               0.0   \n",
       "24710       255.0            0.0                  0.0               0.0   \n",
       "1464         80.0            0.0                  0.0               0.0   \n",
       "44355         0.0            0.0                  0.0               0.0   \n",
       "\n",
       "                  ...               quantity_unknown  \\\n",
       "6191              ...                            0.0   \n",
       "7705              ...                            0.0   \n",
       "24710             ...                            0.0   \n",
       "1464              ...                            0.0   \n",
       "44355             ...                            0.0   \n",
       "\n",
       "       source_class_groundwater  source_class_surface  source_class_unknown  \\\n",
       "6191                        1.0                   0.0                   0.0   \n",
       "7705                        1.0                   0.0                   0.0   \n",
       "24710                       1.0                   0.0                   0.0   \n",
       "1464                        1.0                   0.0                   0.0   \n",
       "44355                       1.0                   0.0                   0.0   \n",
       "\n",
       "       waterpoint_type_group_cattle trough  \\\n",
       "6191                                   0.0   \n",
       "7705                                   0.0   \n",
       "24710                                  0.0   \n",
       "1464                                   0.0   \n",
       "44355                                  0.0   \n",
       "\n",
       "       waterpoint_type_group_communal standpipe  waterpoint_type_group_dam  \\\n",
       "6191                                        0.0                        0.0   \n",
       "7705                                        1.0                        0.0   \n",
       "24710                                       0.0                        0.0   \n",
       "1464                                        1.0                        0.0   \n",
       "44355                                       0.0                        0.0   \n",
       "\n",
       "       waterpoint_type_group_hand pump  waterpoint_type_group_improved spring  \\\n",
       "6191                               1.0                                    0.0   \n",
       "7705                               0.0                                    0.0   \n",
       "24710                              1.0                                    0.0   \n",
       "1464                               0.0                                    0.0   \n",
       "44355                              1.0                                    0.0   \n",
       "\n",
       "       waterpoint_type_group_other  \n",
       "6191                           0.0  \n",
       "7705                           0.0  \n",
       "24710                          0.0  \n",
       "1464                           0.0  \n",
       "44355                          0.0  \n",
       "\n",
       "[5 rows x 108 columns]"
      ]
     },
     "execution_count": 28,
     "metadata": {},
     "output_type": "execute_result"
    }
   ],
   "source": [
    "(X_train - X_train.min())[:5]"
   ]
  },
  {
   "cell_type": "markdown",
   "metadata": {},
   "source": [
    "- Find Optimal Parameters"
   ]
  },
  {
   "cell_type": "code",
   "execution_count": 50,
   "metadata": {},
   "outputs": [
    {
     "name": "stdout",
     "output_type": "stream",
     "text": [
      "2 auto 0.7946128909463207 0.0014547621915275302\n",
      "2 5 0.7931538687418161 0.00212818249056516\n",
      "2 10 0.7946128909463207 0.0014547621915275302\n",
      "2 20 0.7954546512411634 0.002610920582232642\n",
      "5 auto 0.7979799478720078 0.0022330161383764583\n",
      "5 5 0.7984289100004726 0.0025979201246178153\n",
      "5 10 0.7979799478720078 0.0022330161383764583\n",
      "5 20 0.7985036934570738 0.0033398292935128584\n",
      "10 auto 0.7976993705548502 0.0035314989990659277\n",
      "10 5 0.7961468005331165 0.0038145353849168956\n",
      "10 10 0.7976993705548502 0.0035314989990659277\n",
      "10 20 0.7981856913443508 0.0034313870585746596\n",
      "20 auto 0.7919940905879338 0.0025694746813783058\n",
      "20 5 0.7898804100215715 0.0026180894372407194\n",
      "20 10 0.7919940905879338 0.0025694746813783058\n",
      "20 20 0.7941452211439683 0.0030475265796200456\n"
     ]
    }
   ],
   "source": [
    "from sklearn.cross_validation import cross_val_score\n",
    "for i in [2,5,10,20]:\n",
    "    for j in ['auto',5,10,20]:        \n",
    "        model = RandomForestClassifier(n_estimators=1000,min_samples_split=i,  max_features=j, random_state=3134)\n",
    "        X_train_nom=(X_train - X_train.min())/(X_train.max() - X_train.min())\n",
    "        s=cross_val_score(model, X_train_nom, y_train, scoring=None, cv=None, pre_dispatch='2*n_jobs')\n",
    "        print(i,j,s.mean(), s.std())"
   ]
  },
  {
   "cell_type": "code",
   "execution_count": 44,
   "metadata": {},
   "outputs": [],
   "source": [
    "# Nomilisation\n",
    "X_test_nom=(X_test - X_test.min())/(X_test.max() - X_test.min())\n",
    "X_train_nom=(X_train - X_train.min())/(X_train.max() - X_train.min())"
   ]
  },
  {
   "cell_type": "code",
   "execution_count": 38,
   "metadata": {},
   "outputs": [],
   "source": [
    "modelRFC = RandomForestClassifier(n_estimators=1000,min_samples_split=20,max_features=20,criterion='gini',random_state=3134)"
   ]
  },
  {
   "cell_type": "code",
   "execution_count": 39,
   "metadata": {},
   "outputs": [
    {
     "name": "stdout",
     "output_type": "stream",
     "text": [
      "Execution time:  189.0629050731659\n"
     ]
    }
   ],
   "source": [
    "rfc_time_start=time.time()\n",
    "modelRFC.fit(X_train_nom, y_train)\n",
    "rfc_time_end=time.time()\n",
    "print('Execution time: ',(rfc_time_end-rfc_time_start))"
   ]
  },
  {
   "cell_type": "code",
   "execution_count": 45,
   "metadata": {},
   "outputs": [],
   "source": [
    "scoreRFC= modelRFC.score(X_test_nom,y_test)"
   ]
  },
  {
   "cell_type": "code",
   "execution_count": 46,
   "metadata": {},
   "outputs": [
    {
     "name": "stdout",
     "output_type": "stream",
     "text": [
      "0.7966329966329966 0.0\n"
     ]
    }
   ],
   "source": [
    "print(scoreRFC.mean(), scoreRFC.std())"
   ]
  },
  {
   "cell_type": "code",
   "execution_count": 51,
   "metadata": {},
   "outputs": [],
   "source": [
    "modelRFC2 = RandomForestClassifier(n_estimators=1000,min_samples_split=2,max_features='auto',criterion='gini',random_state=3134)"
   ]
  },
  {
   "cell_type": "code",
   "execution_count": 53,
   "metadata": {},
   "outputs": [
    {
     "name": "stdout",
     "output_type": "stream",
     "text": [
      "Execution time:  147.59668254852295\n"
     ]
    }
   ],
   "source": [
    "rfc_time_start2=time.time()\n",
    "modelRFC2.fit(X_train_nom, y_train)\n",
    "rfc_time_end2=time.time()\n",
    "print('Execution time: ',(rfc_time_end2-rfc_time_start2))"
   ]
  },
  {
   "cell_type": "code",
   "execution_count": 54,
   "metadata": {},
   "outputs": [
    {
     "name": "stdout",
     "output_type": "stream",
     "text": [
      "0.7925925925925926 0.0\n"
     ]
    }
   ],
   "source": [
    "scoreRFC2= modelRFC2.score(X_test_nom,y_test)\n",
    "print(scoreRFC2.mean(), scoreRFC2.std())"
   ]
  },
  {
   "cell_type": "code",
   "execution_count": 55,
   "metadata": {},
   "outputs": [
    {
     "name": "stdout",
     "output_type": "stream",
     "text": [
      "Execution time:  148.51483297348022\n"
     ]
    }
   ],
   "source": [
    "modelRFC3 = RandomForestClassifier(n_estimators=1000,min_samples_split=2,max_features=10,criterion='gini',random_state=3134)\n",
    "rfc_time_start3=time.time()\n",
    "modelRFC3.fit(X_train_nom, y_train)\n",
    "rfc_time_end3=time.time()\n",
    "print('Execution time: ',(rfc_time_end3-rfc_time_start3))"
   ]
  },
  {
   "cell_type": "code",
   "execution_count": 56,
   "metadata": {},
   "outputs": [
    {
     "name": "stdout",
     "output_type": "stream",
     "text": [
      "0.7925925925925926 0.0\n"
     ]
    }
   ],
   "source": [
    "scoreRFC3= modelRFC3.score(X_test_nom,y_test)\n",
    "print(scoreRFC3.mean(), scoreRFC3.std())"
   ]
  },
  {
   "cell_type": "markdown",
   "metadata": {},
   "source": [
    "- Decision Trees"
   ]
  },
  {
   "cell_type": "code",
   "execution_count": 140,
   "metadata": {},
   "outputs": [
    {
     "name": "stdout",
     "output_type": "stream",
     "text": [
      "Excution time:  1.6924090385437012\n"
     ]
    }
   ],
   "source": [
    "modelDTC = DecisionTreeClassifier()\n",
    "dtc_time_start=time.time()\n",
    "modelDTC.fit(X_train, y_train)\n",
    "dtc_time_end=time.time()\n",
    "print('Execution time: ',(dtc_time_end-dtc_time_start))"
   ]
  },
  {
   "cell_type": "code",
   "execution_count": null,
   "metadata": {},
   "outputs": [],
   "source": [
    "scoreDTC= modelDTC.score(X_test,y_test)"
   ]
  },
  {
   "cell_type": "markdown",
   "metadata": {},
   "source": [
    "- Extra Trees"
   ]
  },
  {
   "cell_type": "code",
   "execution_count": 142,
   "metadata": {},
   "outputs": [
    {
     "name": "stdout",
     "output_type": "stream",
     "text": [
      "Excution time:  154.04592323303223\n"
     ]
    }
   ],
   "source": [
    "modelETC = ExtraTreesClassifier(n_estimators=1000,min_samples_split=10,max_features=10)\n",
    "etc_time_start=time.time()\n",
    "modelETC.fit(X_train, y_train)\n",
    "etc_time_end=time.time()\n",
    "print('Execution time: ',(etc_time_end-etc_time_start))"
   ]
  },
  {
   "cell_type": "code",
   "execution_count": 143,
   "metadata": {},
   "outputs": [],
   "source": [
    "scoreETC= modelETC.score(X_test,y_test)"
   ]
  },
  {
   "cell_type": "code",
   "execution_count": 144,
   "metadata": {},
   "outputs": [
    {
     "name": "stdout",
     "output_type": "stream",
     "text": [
      "Random Forest 0.8154882154882155\n",
      "Decision Tree 0.7427609427609427\n",
      "Extra Trees Classifiers 0.8079124579124579\n"
     ]
    }
   ],
   "source": [
    "print('Random Forest' ,scoreRFC)\n",
    "print('Decision Tree', scoreDTC)\n",
    "print('Extra Trees Classifiers', scoreETC)"
   ]
  },
  {
   "cell_type": "markdown",
   "metadata": {},
   "source": [
    "- Confusion Matrix"
   ]
  },
  {
   "cell_type": "code",
   "execution_count": 145,
   "metadata": {},
   "outputs": [],
   "source": [
    "from sklearn.metrics import confusion_matrix\n",
    "\n",
    "plt.rcParams['figure.figsize'] = (6.0, 6.0)\n",
    "labels=['functional','functional needs repair','non functional']\n",
    "\n",
    "def plot_confusion_matrix(cm, title='Confusion matrix', cmap=plt.cm.Blues):\n",
    "    plt.imshow(cm, interpolation='nearest', cmap=cmap)\n",
    "    plt.title(title)\n",
    "    plt.colorbar(shrink=0.7)\n",
    "    tick_marks = np.arange(len(labels))\n",
    "    plt.xticks(tick_marks, labels, rotation=45, ha='right', fontsize=12)\n",
    "    plt.yticks(tick_marks, labels , fontsize=12)\n",
    "    plt.tight_layout()\n",
    "    plt.ylabel('True label', fontsize=12)\n",
    "    plt.xlabel('Predicted label', fontsize=12)"
   ]
  },
  {
   "cell_type": "code",
   "execution_count": 146,
   "metadata": {},
   "outputs": [
    {
     "name": "stdout",
     "output_type": "stream",
     "text": [
      "Confusion matrix, without normalization\n",
      "[[2979   43  246]\n",
      " [ 229  119   64]\n",
      " [ 486   28 1746]]\n"
     ]
    },
    {
     "data": {
      "image/png": "[encoded data removed]",
      "text/plain": [
       "<Figure size 432x432 with 2 Axes>"
      ]
     },
     "metadata": {
      "needs_background": "light"
     },
     "output_type": "display_data"
    }
   ],
   "source": [
    "# Compute confusion matrix\n",
    "predict=modelRFC3.predict(X_test_norm)\n",
    "cm = confusion_matrix(y_test, predict)\n",
    "np.set_printoptions(precision=2)\n",
    "print('Confusion matrix, without normalization')\n",
    "print(cm)\n",
    "plt.figure()\n",
    "plot_confusion_matrix(cm)"
   ]
  },
  {
   "cell_type": "code",
   "execution_count": 147,
   "metadata": {},
   "outputs": [
    {
     "name": "stdout",
     "output_type": "stream",
     "text": [
      "Normalized confusion matrix\n",
      "[[0.91 0.01 0.08]\n",
      " [0.56 0.29 0.16]\n",
      " [0.22 0.01 0.77]]\n"
     ]
    },
    {
     "data": {
      "image/png": "[encoded data removed]",
      "text/plain": [
       "<Figure size 432x432 with 2 Axes>"
      ]
     },
     "metadata": {
      "needs_background": "light"
     },
     "output_type": "display_data"
    },
    {
     "name": "stdout",
     "output_type": "stream",
     "text": [
      "Test Score 0.8154882154882155\n"
     ]
    }
   ],
   "source": [
    "# Normalize the confusion matrix by row (i.e by the number of samples\n",
    "# in each class)\n",
    "cm_normalized = cm.astype('float') / cm.sum(axis=1)[:, np.newaxis]\n",
    "print('Normalized confusion matrix')\n",
    "print(cm_normalized)\n",
    "plt.figure()\n",
    "plot_confusion_matrix(cm_normalized, title='Normalized confusion matrix')\n",
    "\n",
    "plt.show()\n",
    "print('Test Score', cm.diagonal().sum()/float(cm.sum()))"
   ]
  },
  {
   "cell_type": "markdown",
   "metadata": {},
   "source": [
    "#### The result shows the 'functional needs repair' does not have a good prediction. Most of the real ones end up in 'functional'."
   ]
  },
  {
   "cell_type": "markdown",
   "metadata": {},
   "source": [
    "- Fit Model"
   ]
  },
  {
   "cell_type": "code",
   "execution_count": 78,
   "metadata": {},
   "outputs": [],
   "source": [
    "df_test=pd.read_csv('new_data/testset_clean_dummy.csv')"
   ]
  },
  {
   "cell_type": "code",
   "execution_count": 79,
   "metadata": {},
   "outputs": [
    {
     "data": {
      "text/plain": [
       "(14850, 108)"
      ]
     },
     "execution_count": 79,
     "metadata": {},
     "output_type": "execute_result"
    }
   ],
   "source": [
    "df_test.shape"
   ]
  },
  {
   "cell_type": "code",
   "execution_count": 80,
   "metadata": {},
   "outputs": [
    {
     "data": {
      "text/html": [
       "<div>\n",
       "<style scoped>\n",
       "    .dataframe tbody tr th:only-of-type {\n",
       "        vertical-align: middle;\n",
       "    }\n",
       "\n",
       "    .dataframe tbody tr th {\n",
       "        vertical-align: top;\n",
       "    }\n",
       "\n",
       "    .dataframe thead th {\n",
       "        text-align: right;\n",
       "    }\n",
       "</style>\n",
       "<table border=\"1\" class=\"dataframe\">\n",
       "  <thead>\n",
       "    <tr style=\"text-align: right;\">\n",
       "      <th></th>\n",
       "      <th>id</th>\n",
       "      <th>existing year</th>\n",
       "      <th>gps_height</th>\n",
       "      <th>longitude</th>\n",
       "      <th>latitude</th>\n",
       "      <th>num_private</th>\n",
       "      <th>population</th>\n",
       "      <th>installer_ces</th>\n",
       "      <th>installer_community</th>\n",
       "      <th>installer_danida</th>\n",
       "      <th>...</th>\n",
       "      <th>quantity_unknown</th>\n",
       "      <th>source_class_groundwater</th>\n",
       "      <th>source_class_surface</th>\n",
       "      <th>source_class_unknown</th>\n",
       "      <th>waterpoint_type_group_cattle trough</th>\n",
       "      <th>waterpoint_type_group_communal standpipe</th>\n",
       "      <th>waterpoint_type_group_dam</th>\n",
       "      <th>waterpoint_type_group_hand pump</th>\n",
       "      <th>waterpoint_type_group_improved spring</th>\n",
       "      <th>waterpoint_type_group_other</th>\n",
       "    </tr>\n",
       "  </thead>\n",
       "  <tbody>\n",
       "    <tr>\n",
       "      <th>0</th>\n",
       "      <td>50785</td>\n",
       "      <td>1.0</td>\n",
       "      <td>1996</td>\n",
       "      <td>35.290799</td>\n",
       "      <td>-4.059696</td>\n",
       "      <td>0</td>\n",
       "      <td>321</td>\n",
       "      <td>0</td>\n",
       "      <td>0</td>\n",
       "      <td>0</td>\n",
       "      <td>...</td>\n",
       "      <td>0</td>\n",
       "      <td>0</td>\n",
       "      <td>1</td>\n",
       "      <td>0</td>\n",
       "      <td>0</td>\n",
       "      <td>0</td>\n",
       "      <td>0</td>\n",
       "      <td>0</td>\n",
       "      <td>0</td>\n",
       "      <td>1</td>\n",
       "    </tr>\n",
       "    <tr>\n",
       "      <th>1</th>\n",
       "      <td>51630</td>\n",
       "      <td>13.0</td>\n",
       "      <td>1569</td>\n",
       "      <td>36.656709</td>\n",
       "      <td>-3.309214</td>\n",
       "      <td>0</td>\n",
       "      <td>300</td>\n",
       "      <td>0</td>\n",
       "      <td>0</td>\n",
       "      <td>0</td>\n",
       "      <td>...</td>\n",
       "      <td>0</td>\n",
       "      <td>1</td>\n",
       "      <td>0</td>\n",
       "      <td>0</td>\n",
       "      <td>0</td>\n",
       "      <td>1</td>\n",
       "      <td>0</td>\n",
       "      <td>0</td>\n",
       "      <td>0</td>\n",
       "      <td>0</td>\n",
       "    </tr>\n",
       "    <tr>\n",
       "      <th>2</th>\n",
       "      <td>17168</td>\n",
       "      <td>3.0</td>\n",
       "      <td>1567</td>\n",
       "      <td>34.767863</td>\n",
       "      <td>-5.004344</td>\n",
       "      <td>0</td>\n",
       "      <td>500</td>\n",
       "      <td>0</td>\n",
       "      <td>0</td>\n",
       "      <td>0</td>\n",
       "      <td>...</td>\n",
       "      <td>0</td>\n",
       "      <td>0</td>\n",
       "      <td>1</td>\n",
       "      <td>0</td>\n",
       "      <td>0</td>\n",
       "      <td>0</td>\n",
       "      <td>0</td>\n",
       "      <td>0</td>\n",
       "      <td>0</td>\n",
       "      <td>1</td>\n",
       "    </tr>\n",
       "    <tr>\n",
       "      <th>3</th>\n",
       "      <td>45559</td>\n",
       "      <td>26.0</td>\n",
       "      <td>267</td>\n",
       "      <td>38.058046</td>\n",
       "      <td>-9.418672</td>\n",
       "      <td>0</td>\n",
       "      <td>250</td>\n",
       "      <td>0</td>\n",
       "      <td>1</td>\n",
       "      <td>0</td>\n",
       "      <td>...</td>\n",
       "      <td>0</td>\n",
       "      <td>1</td>\n",
       "      <td>0</td>\n",
       "      <td>0</td>\n",
       "      <td>0</td>\n",
       "      <td>0</td>\n",
       "      <td>0</td>\n",
       "      <td>0</td>\n",
       "      <td>0</td>\n",
       "      <td>1</td>\n",
       "    </tr>\n",
       "    <tr>\n",
       "      <th>4</th>\n",
       "      <td>49871</td>\n",
       "      <td>13.0</td>\n",
       "      <td>1260</td>\n",
       "      <td>35.006123</td>\n",
       "      <td>-10.950412</td>\n",
       "      <td>0</td>\n",
       "      <td>60</td>\n",
       "      <td>0</td>\n",
       "      <td>0</td>\n",
       "      <td>0</td>\n",
       "      <td>...</td>\n",
       "      <td>0</td>\n",
       "      <td>1</td>\n",
       "      <td>0</td>\n",
       "      <td>0</td>\n",
       "      <td>0</td>\n",
       "      <td>1</td>\n",
       "      <td>0</td>\n",
       "      <td>0</td>\n",
       "      <td>0</td>\n",
       "      <td>0</td>\n",
       "    </tr>\n",
       "  </tbody>\n",
       "</table>\n",
       "<p>5 rows × 108 columns</p>\n",
       "</div>"
      ],
      "text/plain": [
       "      id existing year  gps_height  longitude   latitude  num_private  \\\n",
       "0  50785           1.0        1996  35.290799  -4.059696            0   \n",
       "1  51630          13.0        1569  36.656709  -3.309214            0   \n",
       "2  17168           3.0        1567  34.767863  -5.004344            0   \n",
       "3  45559          26.0         267  38.058046  -9.418672            0   \n",
       "4  49871          13.0        1260  35.006123 -10.950412            0   \n",
       "\n",
       "   population  installer_ces  installer_community  installer_danida  \\\n",
       "0         321              0                    0                 0   \n",
       "1         300              0                    0                 0   \n",
       "2         500              0                    0                 0   \n",
       "3         250              0                    1                 0   \n",
       "4          60              0                    0                 0   \n",
       "\n",
       "              ...               quantity_unknown  source_class_groundwater  \\\n",
       "0             ...                              0                         0   \n",
       "1             ...                              0                         1   \n",
       "2             ...                              0                         0   \n",
       "3             ...                              0                         1   \n",
       "4             ...                              0                         1   \n",
       "\n",
       "   source_class_surface  source_class_unknown  \\\n",
       "0                     1                     0   \n",
       "1                     0                     0   \n",
       "2                     1                     0   \n",
       "3                     0                     0   \n",
       "4                     0                     0   \n",
       "\n",
       "   waterpoint_type_group_cattle trough  \\\n",
       "0                                    0   \n",
       "1                                    0   \n",
       "2                                    0   \n",
       "3                                    0   \n",
       "4                                    0   \n",
       "\n",
       "   waterpoint_type_group_communal standpipe  waterpoint_type_group_dam  \\\n",
       "0                                         0                          0   \n",
       "1                                         1                          0   \n",
       "2                                         0                          0   \n",
       "3                                         0                          0   \n",
       "4                                         1                          0   \n",
       "\n",
       "   waterpoint_type_group_hand pump  waterpoint_type_group_improved spring  \\\n",
       "0                                0                                      0   \n",
       "1                                0                                      0   \n",
       "2                                0                                      0   \n",
       "3                                0                                      0   \n",
       "4                                0                                      0   \n",
       "\n",
       "   waterpoint_type_group_other  \n",
       "0                            1  \n",
       "1                            0  \n",
       "2                            1  \n",
       "3                            1  \n",
       "4                            0  \n",
       "\n",
       "[5 rows x 108 columns]"
      ]
     },
     "execution_count": 80,
     "metadata": {},
     "output_type": "execute_result"
    }
   ],
   "source": [
    "df_test.head(5)"
   ]
  },
  {
   "cell_type": "code",
   "execution_count": 81,
   "metadata": {},
   "outputs": [],
   "source": [
    "# df_test.dtypes"
   ]
  },
  {
   "cell_type": "code",
   "execution_count": 82,
   "metadata": {},
   "outputs": [],
   "source": [
    "df_test['existing year'] = df_test['existing year'].replace({'unknown':0})\n",
    "df_test['existing year'] = df_test['existing year'].apply(pd.to_numeric)"
   ]
  },
  {
   "cell_type": "code",
   "execution_count": 83,
   "metadata": {},
   "outputs": [
    {
     "data": {
      "text/plain": [
       "dtype('float64')"
      ]
     },
     "execution_count": 83,
     "metadata": {},
     "output_type": "execute_result"
    }
   ],
   "source": [
    "df_test['existing year'].dtypes"
   ]
  },
  {
   "cell_type": "code",
   "execution_count": 84,
   "metadata": {},
   "outputs": [],
   "source": [
    "df_test_nom=(df_test - df_test.min())/(df_test.max() - df_test.min())"
   ]
  },
  {
   "cell_type": "code",
   "execution_count": 85,
   "metadata": {},
   "outputs": [],
   "source": [
    "predict_rfc=modelRFC3.predict(df_test_nom)"
   ]
  },
  {
   "cell_type": "code",
   "execution_count": 86,
   "metadata": {},
   "outputs": [
    {
     "data": {
      "text/plain": [
       "array(['functional', 'functional', 'functional', 'non functional',\n",
       "       'functional'], dtype=object)"
      ]
     },
     "execution_count": 86,
     "metadata": {},
     "output_type": "execute_result"
    }
   ],
   "source": [
    "predict_rfc[:5]"
   ]
  },
  {
   "cell_type": "code",
   "execution_count": 87,
   "metadata": {},
   "outputs": [],
   "source": [
    "df_test['status_group']=predict_rfc"
   ]
  },
  {
   "cell_type": "code",
   "execution_count": 88,
   "metadata": {},
   "outputs": [
    {
     "data": {
      "text/html": [
       "<div>\n",
       "<style scoped>\n",
       "    .dataframe tbody tr th:only-of-type {\n",
       "        vertical-align: middle;\n",
       "    }\n",
       "\n",
       "    .dataframe tbody tr th {\n",
       "        vertical-align: top;\n",
       "    }\n",
       "\n",
       "    .dataframe thead th {\n",
       "        text-align: right;\n",
       "    }\n",
       "</style>\n",
       "<table border=\"1\" class=\"dataframe\">\n",
       "  <thead>\n",
       "    <tr style=\"text-align: right;\">\n",
       "      <th></th>\n",
       "      <th>id</th>\n",
       "      <th>status_group</th>\n",
       "    </tr>\n",
       "  </thead>\n",
       "  <tbody>\n",
       "    <tr>\n",
       "      <th>0</th>\n",
       "      <td>50785</td>\n",
       "      <td>functional</td>\n",
       "    </tr>\n",
       "    <tr>\n",
       "      <th>1</th>\n",
       "      <td>51630</td>\n",
       "      <td>functional</td>\n",
       "    </tr>\n",
       "    <tr>\n",
       "      <th>2</th>\n",
       "      <td>17168</td>\n",
       "      <td>functional</td>\n",
       "    </tr>\n",
       "    <tr>\n",
       "      <th>3</th>\n",
       "      <td>45559</td>\n",
       "      <td>non functional</td>\n",
       "    </tr>\n",
       "    <tr>\n",
       "      <th>4</th>\n",
       "      <td>49871</td>\n",
       "      <td>functional</td>\n",
       "    </tr>\n",
       "  </tbody>\n",
       "</table>\n",
       "</div>"
      ],
      "text/plain": [
       "      id    status_group\n",
       "0  50785      functional\n",
       "1  51630      functional\n",
       "2  17168      functional\n",
       "3  45559  non functional\n",
       "4  49871      functional"
      ]
     },
     "execution_count": 88,
     "metadata": {},
     "output_type": "execute_result"
    }
   ],
   "source": [
    "df_test[['id','status_group']].head()"
   ]
  },
  {
   "cell_type": "code",
   "execution_count": 89,
   "metadata": {},
   "outputs": [],
   "source": [
    "df_test[['id','status_group']].to_csv('result/outputRFC2.csv',index=False)"
   ]
  },
  {
   "cell_type": "markdown",
   "metadata": {},
   "source": [
    "### Xgboost"
   ]
  },
  {
   "cell_type": "markdown",
   "metadata": {},
   "source": [
    "- Train and Score Models(Validation)"
   ]
  },
  {
   "cell_type": "code",
   "execution_count": 163,
   "metadata": {},
   "outputs": [],
   "source": [
    "import xgboost as xgb\n",
    "from xgboost import plot_importance\n",
    "from sklearn.metrics import accuracy_score"
   ]
  },
  {
   "cell_type": "code",
   "execution_count": 194,
   "metadata": {},
   "outputs": [],
   "source": [
    "# df_train_xg=pd.read_csv('new_data/trainset_clean_dummy.csv')"
   ]
  },
  {
   "cell_type": "code",
   "execution_count": 195,
   "metadata": {},
   "outputs": [],
   "source": [
    "# df_train_xg.shape"
   ]
  },
  {
   "cell_type": "code",
   "execution_count": 164,
   "metadata": {},
   "outputs": [
    {
     "data": {
      "text/plain": [
       "functional                 28991\n",
       "non functional             20564\n",
       "functional needs repair     3905\n",
       "Name: status_group, dtype: int64"
      ]
     },
     "execution_count": 164,
     "metadata": {},
     "output_type": "execute_result"
    }
   ],
   "source": [
    "y_train.value_counts()"
   ]
  },
  {
   "cell_type": "code",
   "execution_count": 196,
   "metadata": {},
   "outputs": [],
   "source": [
    "y_train1=y_train.replace({'functional':2,'non functional':0,'functional needs repair':1})"
   ]
  },
  {
   "cell_type": "code",
   "execution_count": 197,
   "metadata": {},
   "outputs": [
    {
     "name": "stdout",
     "output_type": "stream",
     "text": [
      "2    28991\n",
      "0    20564\n",
      "1     3905\n",
      "Name: status_group, dtype: int64\n",
      "53460\n",
      "<class 'numpy.int64'>\n"
     ]
    }
   ],
   "source": [
    "# type(y_train)\n",
    "# y_train.dtypes\n",
    "print(y_train1.value_counts())\n",
    "y_train1.apply(pd.to_numeric)\n",
    "print(len(y_train1))\n",
    "print(type(y_train1[1]))"
   ]
  },
  {
   "cell_type": "code",
   "execution_count": 198,
   "metadata": {},
   "outputs": [],
   "source": [
    "for col in df_train.columns:\n",
    "    if col not in df_test.columns:\n",
    "        print(col)"
   ]
  },
  {
   "cell_type": "code",
   "execution_count": 199,
   "metadata": {},
   "outputs": [
    {
     "name": "stderr",
     "output_type": "stream",
     "text": [
      "D:\\ProgramData\\Anaconda3\\lib\\site-packages\\xgboost\\core.py:587: FutureWarning: Series.base is deprecated and will be removed in a future version\n",
      "  if getattr(data, 'base', None) is not None and \\\n",
      "D:\\ProgramData\\Anaconda3\\lib\\site-packages\\xgboost\\core.py:588: FutureWarning: Series.base is deprecated and will be removed in a future version\n",
      "  data.base is not None and isinstance(data, np.ndarray) \\\n"
     ]
    }
   ],
   "source": [
    "dtrain = xgb.DMatrix(X_train, label=y_train1, missing = -999.0)"
   ]
  },
  {
   "cell_type": "code",
   "execution_count": 200,
   "metadata": {},
   "outputs": [],
   "source": [
    "params = {\n",
    "    'booster': 'gbtree',\n",
    "    'objective': 'multi:softmax',  # 多分类的问题\n",
    "    'num_class': 3,               # 类别数，与 multisoftmax 并用\n",
    "    'gamma': 0.1,                  # 用于控制是否后剪枝的参数,越大越保守，一般0.1、0.2这样子。\n",
    "    'max_depth': 12,               # 构建树的深度，越大越容易过拟合\n",
    "    'lambda': 2,                   # 控制模型复杂度的权重值的L2正则化项参数，参数越大，模型越不容易过拟合。\n",
    "    'subsample': 0.7,              # 随机采样训练样本\n",
    "    'colsample_bytree': 0.5,       # 生成树时进行的列采样\n",
    "    'min_child_weight': 2,\n",
    "    'eval_metric': 'merror',\n",
    "    'n_monte_carlo':1,\n",
    "    'silent': 1,                   # 设置成1则没有运行信息输出，最好是设置为0.\n",
    "    'eta': 0.010,                  # 如同学习率\n",
    "    'seed': 1000,\n",
    "    'nthread': 4,                  # cpu 线程数\n",
    "}\n",
    "plst = params.items()\n",
    "num_rounds = 500"
   ]
  },
  {
   "cell_type": "code",
   "execution_count": 201,
   "metadata": {},
   "outputs": [
    {
     "name": "stdout",
     "output_type": "stream",
     "text": [
      "Executation time:  351.0343027114868\n"
     ]
    }
   ],
   "source": [
    "xg_start = time.time()\n",
    "xgclassifier = xgb.train(plst, dtrain, num_rounds)\n",
    "xg_end = time.time()\n",
    "print('Executation time: ',(xg_end-xg_start))"
   ]
  },
  {
   "cell_type": "code",
   "execution_count": 202,
   "metadata": {},
   "outputs": [
    {
     "data": {
      "image/png": "[encoded data removed]",
      "text/plain": [
       "<Figure size 432x432 with 1 Axes>"
      ]
     },
     "metadata": {
      "needs_background": "light"
     },
     "output_type": "display_data"
    }
   ],
   "source": [
    "plot_importance(xgclassifier,max_num_features=10)\n",
    "plt.show()"
   ]
  },
  {
   "cell_type": "code",
   "execution_count": 203,
   "metadata": {},
   "outputs": [],
   "source": [
    "dtest = xgb.DMatrix(X_test)\n",
    "predict_xg = xgclassifier.predict(dtest)"
   ]
  },
  {
   "cell_type": "code",
   "execution_count": 204,
   "metadata": {},
   "outputs": [
    {
     "data": {
      "text/plain": [
       "array([2., 2., 0., ..., 0., 2., 2.], dtype=float32)"
      ]
     },
     "execution_count": 204,
     "metadata": {},
     "output_type": "execute_result"
    }
   ],
   "source": [
    "predict_xg"
   ]
  },
  {
   "cell_type": "code",
   "execution_count": 205,
   "metadata": {},
   "outputs": [],
   "source": [
    "y_test1=y_test.replace({'functional':2,'non functional':0,'functional needs repair':1})"
   ]
  },
  {
   "cell_type": "code",
   "execution_count": 206,
   "metadata": {},
   "outputs": [
    {
     "data": {
      "text/plain": [
       "46949    2\n",
       "51178    2\n",
       "38686    0\n",
       "54767    0\n",
       "34402    0\n",
       "35199    0\n",
       "50131    2\n",
       "55026    2\n",
       "51204    2\n",
       "19475    0\n",
       "Name: status_group, dtype: int64"
      ]
     },
     "execution_count": 206,
     "metadata": {},
     "output_type": "execute_result"
    }
   ],
   "source": [
    "y_test1[:10]"
   ]
  },
  {
   "cell_type": "code",
   "execution_count": 207,
   "metadata": {},
   "outputs": [
    {
     "data": {
      "text/plain": [
       "0.8094276094276094"
      ]
     },
     "execution_count": 207,
     "metadata": {},
     "output_type": "execute_result"
    }
   ],
   "source": [
    "accuracy_score(y_test1,predict_xg)"
   ]
  },
  {
   "cell_type": "markdown",
   "metadata": {},
   "source": [
    "- Fit Model"
   ]
  },
  {
   "cell_type": "code",
   "execution_count": 208,
   "metadata": {},
   "outputs": [],
   "source": [
    "df_test_xg=pd.read_csv('new_data/testset_clean_dummy.csv')"
   ]
  },
  {
   "cell_type": "code",
   "execution_count": 209,
   "metadata": {},
   "outputs": [
    {
     "data": {
      "text/html": [
       "<div>\n",
       "<style scoped>\n",
       "    .dataframe tbody tr th:only-of-type {\n",
       "        vertical-align: middle;\n",
       "    }\n",
       "\n",
       "    .dataframe tbody tr th {\n",
       "        vertical-align: top;\n",
       "    }\n",
       "\n",
       "    .dataframe thead th {\n",
       "        text-align: right;\n",
       "    }\n",
       "</style>\n",
       "<table border=\"1\" class=\"dataframe\">\n",
       "  <thead>\n",
       "    <tr style=\"text-align: right;\">\n",
       "      <th></th>\n",
       "      <th>id</th>\n",
       "      <th>existing year</th>\n",
       "      <th>gps_height</th>\n",
       "      <th>longitude</th>\n",
       "      <th>latitude</th>\n",
       "      <th>num_private</th>\n",
       "      <th>population</th>\n",
       "      <th>installer_ces</th>\n",
       "      <th>installer_community</th>\n",
       "      <th>installer_danida</th>\n",
       "      <th>...</th>\n",
       "      <th>quantity_unknown</th>\n",
       "      <th>source_class_groundwater</th>\n",
       "      <th>source_class_surface</th>\n",
       "      <th>source_class_unknown</th>\n",
       "      <th>waterpoint_type_group_cattle trough</th>\n",
       "      <th>waterpoint_type_group_communal standpipe</th>\n",
       "      <th>waterpoint_type_group_dam</th>\n",
       "      <th>waterpoint_type_group_hand pump</th>\n",
       "      <th>waterpoint_type_group_improved spring</th>\n",
       "      <th>waterpoint_type_group_other</th>\n",
       "    </tr>\n",
       "  </thead>\n",
       "  <tbody>\n",
       "    <tr>\n",
       "      <th>0</th>\n",
       "      <td>50785</td>\n",
       "      <td>1.0</td>\n",
       "      <td>1996</td>\n",
       "      <td>35.290799</td>\n",
       "      <td>-4.059696</td>\n",
       "      <td>0</td>\n",
       "      <td>321</td>\n",
       "      <td>0</td>\n",
       "      <td>0</td>\n",
       "      <td>0</td>\n",
       "      <td>...</td>\n",
       "      <td>0</td>\n",
       "      <td>0</td>\n",
       "      <td>1</td>\n",
       "      <td>0</td>\n",
       "      <td>0</td>\n",
       "      <td>0</td>\n",
       "      <td>0</td>\n",
       "      <td>0</td>\n",
       "      <td>0</td>\n",
       "      <td>1</td>\n",
       "    </tr>\n",
       "    <tr>\n",
       "      <th>1</th>\n",
       "      <td>51630</td>\n",
       "      <td>13.0</td>\n",
       "      <td>1569</td>\n",
       "      <td>36.656709</td>\n",
       "      <td>-3.309214</td>\n",
       "      <td>0</td>\n",
       "      <td>300</td>\n",
       "      <td>0</td>\n",
       "      <td>0</td>\n",
       "      <td>0</td>\n",
       "      <td>...</td>\n",
       "      <td>0</td>\n",
       "      <td>1</td>\n",
       "      <td>0</td>\n",
       "      <td>0</td>\n",
       "      <td>0</td>\n",
       "      <td>1</td>\n",
       "      <td>0</td>\n",
       "      <td>0</td>\n",
       "      <td>0</td>\n",
       "      <td>0</td>\n",
       "    </tr>\n",
       "    <tr>\n",
       "      <th>2</th>\n",
       "      <td>17168</td>\n",
       "      <td>3.0</td>\n",
       "      <td>1567</td>\n",
       "      <td>34.767863</td>\n",
       "      <td>-5.004344</td>\n",
       "      <td>0</td>\n",
       "      <td>500</td>\n",
       "      <td>0</td>\n",
       "      <td>0</td>\n",
       "      <td>0</td>\n",
       "      <td>...</td>\n",
       "      <td>0</td>\n",
       "      <td>0</td>\n",
       "      <td>1</td>\n",
       "      <td>0</td>\n",
       "      <td>0</td>\n",
       "      <td>0</td>\n",
       "      <td>0</td>\n",
       "      <td>0</td>\n",
       "      <td>0</td>\n",
       "      <td>1</td>\n",
       "    </tr>\n",
       "    <tr>\n",
       "      <th>3</th>\n",
       "      <td>45559</td>\n",
       "      <td>26.0</td>\n",
       "      <td>267</td>\n",
       "      <td>38.058046</td>\n",
       "      <td>-9.418672</td>\n",
       "      <td>0</td>\n",
       "      <td>250</td>\n",
       "      <td>0</td>\n",
       "      <td>1</td>\n",
       "      <td>0</td>\n",
       "      <td>...</td>\n",
       "      <td>0</td>\n",
       "      <td>1</td>\n",
       "      <td>0</td>\n",
       "      <td>0</td>\n",
       "      <td>0</td>\n",
       "      <td>0</td>\n",
       "      <td>0</td>\n",
       "      <td>0</td>\n",
       "      <td>0</td>\n",
       "      <td>1</td>\n",
       "    </tr>\n",
       "    <tr>\n",
       "      <th>4</th>\n",
       "      <td>49871</td>\n",
       "      <td>13.0</td>\n",
       "      <td>1260</td>\n",
       "      <td>35.006123</td>\n",
       "      <td>-10.950412</td>\n",
       "      <td>0</td>\n",
       "      <td>60</td>\n",
       "      <td>0</td>\n",
       "      <td>0</td>\n",
       "      <td>0</td>\n",
       "      <td>...</td>\n",
       "      <td>0</td>\n",
       "      <td>1</td>\n",
       "      <td>0</td>\n",
       "      <td>0</td>\n",
       "      <td>0</td>\n",
       "      <td>1</td>\n",
       "      <td>0</td>\n",
       "      <td>0</td>\n",
       "      <td>0</td>\n",
       "      <td>0</td>\n",
       "    </tr>\n",
       "  </tbody>\n",
       "</table>\n",
       "<p>5 rows × 108 columns</p>\n",
       "</div>"
      ],
      "text/plain": [
       "      id existing year  gps_height  longitude   latitude  num_private  \\\n",
       "0  50785           1.0        1996  35.290799  -4.059696            0   \n",
       "1  51630          13.0        1569  36.656709  -3.309214            0   \n",
       "2  17168           3.0        1567  34.767863  -5.004344            0   \n",
       "3  45559          26.0         267  38.058046  -9.418672            0   \n",
       "4  49871          13.0        1260  35.006123 -10.950412            0   \n",
       "\n",
       "   population  installer_ces  installer_community  installer_danida  \\\n",
       "0         321              0                    0                 0   \n",
       "1         300              0                    0                 0   \n",
       "2         500              0                    0                 0   \n",
       "3         250              0                    1                 0   \n",
       "4          60              0                    0                 0   \n",
       "\n",
       "              ...               quantity_unknown  source_class_groundwater  \\\n",
       "0             ...                              0                         0   \n",
       "1             ...                              0                         1   \n",
       "2             ...                              0                         0   \n",
       "3             ...                              0                         1   \n",
       "4             ...                              0                         1   \n",
       "\n",
       "   source_class_surface  source_class_unknown  \\\n",
       "0                     1                     0   \n",
       "1                     0                     0   \n",
       "2                     1                     0   \n",
       "3                     0                     0   \n",
       "4                     0                     0   \n",
       "\n",
       "   waterpoint_type_group_cattle trough  \\\n",
       "0                                    0   \n",
       "1                                    0   \n",
       "2                                    0   \n",
       "3                                    0   \n",
       "4                                    0   \n",
       "\n",
       "   waterpoint_type_group_communal standpipe  waterpoint_type_group_dam  \\\n",
       "0                                         0                          0   \n",
       "1                                         1                          0   \n",
       "2                                         0                          0   \n",
       "3                                         0                          0   \n",
       "4                                         1                          0   \n",
       "\n",
       "   waterpoint_type_group_hand pump  waterpoint_type_group_improved spring  \\\n",
       "0                                0                                      0   \n",
       "1                                0                                      0   \n",
       "2                                0                                      0   \n",
       "3                                0                                      0   \n",
       "4                                0                                      0   \n",
       "\n",
       "   waterpoint_type_group_other  \n",
       "0                            1  \n",
       "1                            0  \n",
       "2                            1  \n",
       "3                            1  \n",
       "4                            0  \n",
       "\n",
       "[5 rows x 108 columns]"
      ]
     },
     "execution_count": 209,
     "metadata": {},
     "output_type": "execute_result"
    }
   ],
   "source": [
    "df_test_xg[:5]"
   ]
  },
  {
   "cell_type": "code",
   "execution_count": 210,
   "metadata": {},
   "outputs": [
    {
     "data": {
      "text/plain": [
       "id                                            int64\n",
       "existing year                                object\n",
       "gps_height                                    int64\n",
       "longitude                                   float64\n",
       "latitude                                    float64\n",
       "num_private                                   int64\n",
       "population                                    int64\n",
       "installer_ces                                 int64\n",
       "installer_community                           int64\n",
       "installer_danida                              int64\n",
       "installer_dwe                                 int64\n",
       "installer_government                          int64\n",
       "installer_hesawa                              int64\n",
       "installer_individual                          int64\n",
       "installer_kkkt                                int64\n",
       "installer_other                               int64\n",
       "installer_rwe                                 int64\n",
       "installer_tcrs                                int64\n",
       "installer_unknown                             int64\n",
       "basin_Internal                                int64\n",
       "basin_Lake Nyasa                              int64\n",
       "basin_Lake Rukwa                              int64\n",
       "basin_Lake Tanganyika                         int64\n",
       "basin_Lake Victoria                           int64\n",
       "basin_Pangani                                 int64\n",
       "basin_Rufiji                                  int64\n",
       "basin_Ruvuma / Southern Coast                 int64\n",
       "basin_Wami / Ruvu                             int64\n",
       "region_Arusha                                 int64\n",
       "region_Dar es Salaam                          int64\n",
       "                                             ...   \n",
       "management_group_user-group                   int64\n",
       "payment_type_annually                         int64\n",
       "payment_type_monthly                          int64\n",
       "payment_type_never pay                        int64\n",
       "payment_type_on failure                       int64\n",
       "payment_type_other                            int64\n",
       "payment_type_per bucket                       int64\n",
       "payment_type_unknown                          int64\n",
       "water_quality_coloured                        int64\n",
       "water_quality_fluoride                        int64\n",
       "water_quality_fluoride abandoned              int64\n",
       "water_quality_milky                           int64\n",
       "water_quality_salty                           int64\n",
       "water_quality_salty abandoned                 int64\n",
       "water_quality_soft                            int64\n",
       "water_quality_unknown                         int64\n",
       "quantity_dry                                  int64\n",
       "quantity_enough                               int64\n",
       "quantity_insufficient                         int64\n",
       "quantity_seasonal                             int64\n",
       "quantity_unknown                              int64\n",
       "source_class_groundwater                      int64\n",
       "source_class_surface                          int64\n",
       "source_class_unknown                          int64\n",
       "waterpoint_type_group_cattle trough           int64\n",
       "waterpoint_type_group_communal standpipe      int64\n",
       "waterpoint_type_group_dam                     int64\n",
       "waterpoint_type_group_hand pump               int64\n",
       "waterpoint_type_group_improved spring         int64\n",
       "waterpoint_type_group_other                   int64\n",
       "Length: 108, dtype: object"
      ]
     },
     "execution_count": 210,
     "metadata": {},
     "output_type": "execute_result"
    }
   ],
   "source": [
    "df_test_xg.dtypes"
   ]
  },
  {
   "cell_type": "code",
   "execution_count": 211,
   "metadata": {},
   "outputs": [],
   "source": [
    "df_test_xg['existing year'] = df_test_xg['existing year'].replace({'unknown':0})\n",
    "df_test_xg['existing year'] = df_test_xg['existing year'].apply(pd.to_numeric)"
   ]
  },
  {
   "cell_type": "code",
   "execution_count": 212,
   "metadata": {},
   "outputs": [
    {
     "data": {
      "text/plain": [
       "dtype('float64')"
      ]
     },
     "execution_count": 212,
     "metadata": {},
     "output_type": "execute_result"
    }
   ],
   "source": [
    "df_test_xg['existing year'].dtypes"
   ]
  },
  {
   "cell_type": "code",
   "execution_count": 213,
   "metadata": {},
   "outputs": [],
   "source": [
    "dtest1 = xgb.DMatrix(df_test_xg,missing = -999.0)\n",
    "type(dtest1)\n",
    "predict_xg_test = xgclassifier.predict(dtest1)"
   ]
  },
  {
   "cell_type": "code",
   "execution_count": 214,
   "metadata": {},
   "outputs": [
    {
     "data": {
      "text/plain": [
       "array([2., 2., 2., 0., 2., 2., 2., 0., 0., 2.], dtype=float32)"
      ]
     },
     "execution_count": 214,
     "metadata": {},
     "output_type": "execute_result"
    }
   ],
   "source": [
    "predict_xg_test[:10]"
   ]
  },
  {
   "cell_type": "code",
   "execution_count": 220,
   "metadata": {},
   "outputs": [],
   "source": [
    "# predict_xg_test[2]='functional'\n",
    "# predict_xg_test[0]='non functional'\n",
    "# predict_xg_test[1]='functional needs repair'\n",
    "predict_xg_test2=pd.DataFrame(predict_xg_test)\n",
    "predict_xg_test3=predict_xg_test2.replace({2:'functional',0:'non functional',1:'functional needs repair'})"
   ]
  },
  {
   "cell_type": "code",
   "execution_count": 223,
   "metadata": {},
   "outputs": [
    {
     "data": {
      "text/plain": [
       "0        functional\n",
       "1        functional\n",
       "2        functional\n",
       "3    non functional\n",
       "4        functional\n",
       "5        functional\n",
       "6        functional\n",
       "7    non functional\n",
       "8    non functional\n",
       "9        functional\n",
       "Name: 0, dtype: object"
      ]
     },
     "execution_count": 223,
     "metadata": {},
     "output_type": "execute_result"
    }
   ],
   "source": [
    "predict_xg_test3[0][:10]"
   ]
  },
  {
   "cell_type": "code",
   "execution_count": 224,
   "metadata": {},
   "outputs": [
    {
     "name": "stdout",
     "output_type": "stream",
     "text": [
      "      ID    status_group\n",
      "0  50785      functional\n",
      "1  51630      functional\n",
      "2  17168      functional\n",
      "3  45559  non functional\n",
      "4  49871      functional\n",
      "5  52449      functional\n",
      "6  24806      functional\n",
      "7  28965  non functional\n",
      "8  36301  non functional\n",
      "9  54122      functional\n"
     ]
    }
   ],
   "source": [
    "data_xg={'ID':df_test_xg['id'], 'status_group': predict_xg_test3[0]}\n",
    "submit_xg=pd.DataFrame(data=data_xg)\n",
    "print(submit_xg[:10])\n",
    "submit_xg.to_csv('result/outputXG.csv', index=False)"
   ]
  },
  {
   "cell_type": "markdown",
   "metadata": {},
   "source": [
    "### Gradient Boosting"
   ]
  },
  {
   "cell_type": "code",
   "execution_count": 90,
   "metadata": {},
   "outputs": [
    {
     "name": "stderr",
     "output_type": "stream",
     "text": [
      "D:\\ProgramData\\Anaconda3\\lib\\site-packages\\sklearn\\grid_search.py:42: DeprecationWarning: This module was deprecated in version 0.18 in favor of the model_selection module into which all the refactored classes and functions are moved. This module will be removed in 0.20.\n",
      "  DeprecationWarning)\n"
     ]
    }
   ],
   "source": [
    "from sklearn.grid_search import GridSearchCV\n",
    "from sklearn.ensemble import GradientBoostingClassifier"
   ]
  },
  {
   "cell_type": "code",
   "execution_count": 91,
   "metadata": {},
   "outputs": [],
   "source": [
    "df_train_gb=pd.read_csv('new_data/trainset_clean_dummy.csv')"
   ]
  },
  {
   "cell_type": "code",
   "execution_count": 92,
   "metadata": {},
   "outputs": [
    {
     "data": {
      "text/plain": [
       "(59400, 109)"
      ]
     },
     "execution_count": 92,
     "metadata": {},
     "output_type": "execute_result"
    }
   ],
   "source": [
    "df_train_gb.shape"
   ]
  },
  {
   "cell_type": "code",
   "execution_count": 93,
   "metadata": {},
   "outputs": [
    {
     "name": "stdout",
     "output_type": "stream",
     "text": [
      "<class 'pandas.core.frame.DataFrame'>\n",
      "RangeIndex: 59400 entries, 0 to 59399\n",
      "Columns: 109 entries, id to waterpoint_type_group_other\n",
      "dtypes: float64(2), int64(104), object(3)\n",
      "memory usage: 49.4+ MB\n"
     ]
    }
   ],
   "source": [
    "df_train_gb.info()"
   ]
  },
  {
   "cell_type": "code",
   "execution_count": 113,
   "metadata": {},
   "outputs": [],
   "source": [
    "df_test_gb=pd.read_csv('new_data/testset_clean_dummy.csv')"
   ]
  },
  {
   "cell_type": "code",
   "execution_count": 114,
   "metadata": {},
   "outputs": [
    {
     "data": {
      "text/plain": [
       "(14850, 108)"
      ]
     },
     "execution_count": 114,
     "metadata": {},
     "output_type": "execute_result"
    }
   ],
   "source": [
    "df_test_gb.shape"
   ]
  },
  {
   "cell_type": "code",
   "execution_count": 115,
   "metadata": {},
   "outputs": [
    {
     "name": "stdout",
     "output_type": "stream",
     "text": [
      "<class 'pandas.core.frame.DataFrame'>\n",
      "RangeIndex: 14850 entries, 0 to 14849\n",
      "Columns: 108 entries, id to waterpoint_type_group_other\n",
      "dtypes: float64(2), int64(105), object(1)\n",
      "memory usage: 12.2+ MB\n"
     ]
    }
   ],
   "source": [
    "df_test_gb.info()"
   ]
  },
  {
   "cell_type": "code",
   "execution_count": 97,
   "metadata": {},
   "outputs": [],
   "source": [
    "# df_test_gb.dtypes"
   ]
  },
  {
   "cell_type": "code",
   "execution_count": 98,
   "metadata": {},
   "outputs": [
    {
     "name": "stdout",
     "output_type": "stream",
     "text": [
      "status_group\n"
     ]
    }
   ],
   "source": [
    "for col in df_train_gb.columns:\n",
    "    if col not in df_test_gb.columns:\n",
    "        print(col)"
   ]
  },
  {
   "cell_type": "code",
   "execution_count": 99,
   "metadata": {},
   "outputs": [],
   "source": [
    "import types"
   ]
  },
  {
   "cell_type": "code",
   "execution_count": 100,
   "metadata": {},
   "outputs": [],
   "source": [
    "for col in df_train_gb.columns:\n",
    "    if type(col)==object:\n",
    "        print(col)"
   ]
  },
  {
   "cell_type": "code",
   "execution_count": 101,
   "metadata": {},
   "outputs": [
    {
     "name": "stdout",
     "output_type": "stream",
     "text": [
      "existing year\n",
      "population\n",
      "status_group\n"
     ]
    }
   ],
   "source": [
    "for col in df_train_gb.columns:\n",
    "    if df_train_gb[col].dtypes==object:\n",
    "        print(col)"
   ]
  },
  {
   "cell_type": "code",
   "execution_count": 102,
   "metadata": {},
   "outputs": [
    {
     "name": "stdout",
     "output_type": "stream",
     "text": [
      "existing year\n"
     ]
    }
   ],
   "source": [
    "for col in df_test_gb.columns:\n",
    "    if df_test_gb[col].dtypes==object:\n",
    "        print(col)"
   ]
  },
  {
   "cell_type": "code",
   "execution_count": 103,
   "metadata": {},
   "outputs": [],
   "source": [
    "df_train_gb['existing year'] = df_train_gb['existing year'].replace({'unknown':0})"
   ]
  },
  {
   "cell_type": "code",
   "execution_count": 104,
   "metadata": {},
   "outputs": [
    {
     "data": {
      "text/plain": [
       "dtype('int64')"
      ]
     },
     "execution_count": 104,
     "metadata": {},
     "output_type": "execute_result"
    }
   ],
   "source": [
    "df_train_gb['existing year'] = df_train_gb['existing year'].apply(pd.to_numeric)\n",
    "df_train_gb['existing year'].dtypes"
   ]
  },
  {
   "cell_type": "code",
   "execution_count": 105,
   "metadata": {},
   "outputs": [],
   "source": [
    "df_train_gb['population']=df_train_gb['population'].replace({'<built-in function zeros>':0.0})"
   ]
  },
  {
   "cell_type": "code",
   "execution_count": 106,
   "metadata": {},
   "outputs": [
    {
     "data": {
      "text/plain": [
       "dtype('float64')"
      ]
     },
     "execution_count": 106,
     "metadata": {},
     "output_type": "execute_result"
    }
   ],
   "source": [
    "df_train_gb['population'] = df_train_gb['population'].apply(pd.to_numeric)\n",
    "df_train_gb['population'].dtypes"
   ]
  },
  {
   "cell_type": "code",
   "execution_count": 116,
   "metadata": {},
   "outputs": [
    {
     "data": {
      "text/plain": [
       "dtype('float64')"
      ]
     },
     "execution_count": 116,
     "metadata": {},
     "output_type": "execute_result"
    }
   ],
   "source": [
    "df_test_gb['existing year'] = df_test_gb['existing year'].replace({'unknown':0})\n",
    "df_test_gb['existing year'] = df_test_gb['existing year'].apply(pd.to_numeric)\n",
    "df_test_gb['existing year'].dtypes"
   ]
  },
  {
   "cell_type": "markdown",
   "metadata": {},
   "source": [
    "- Split training datasets to training and validation sets"
   ]
  },
  {
   "cell_type": "code",
   "execution_count": 109,
   "metadata": {},
   "outputs": [
    {
     "name": "stdout",
     "output_type": "stream",
     "text": [
      "53460 5940\n"
     ]
    }
   ],
   "source": [
    "X_train_gb, X_val_gb, y_train_gb, y_val_gb = train_test_split(df_train_gb.loc[:, df_train_gb.columns != 'status_group'], df_train_gb['status_group'], test_size=0.1, random_state=10)\n",
    "print(len(X_train_gb), len(X_val_gb))"
   ]
  },
  {
   "cell_type": "markdown",
   "metadata": {},
   "source": [
    "- Train and Score Models(Validation)"
   ]
  },
  {
   "cell_type": "code",
   "execution_count": 110,
   "metadata": {},
   "outputs": [],
   "source": [
    "def gb_model(X_train, X_val, y_train, y_val):\n",
    "#     param_grid = {'learning_rate': [0.075, 0.7],\n",
    "#                   'max_depth': [13, 14],\n",
    "#                   'min_samples_leaf': [15, 16],\n",
    "#                   'max_features': [1.0],\n",
    "#                   'n_estimators': [100, 200]} \n",
    "\n",
    "    params= {'learning_rate': 0.075,\n",
    "                  'max_depth': 14,\n",
    "                  'min_samples_leaf': 16,\n",
    "                  'max_features': 1.0,\n",
    "                  'n_estimators': 100}  \n",
    "\n",
    "#     gb_classifier = GridSearchCV(estimator=GradientBoostingClassifier(),\n",
    "#                              param_grid=param_grid,\n",
    "#                              n_jobs=-1)\n",
    "\n",
    "#     best_params = gb_classifier.best_params_\n",
    "#     print(best_params)\n",
    "    \n",
    "    gb_classifier=GradientBoostingClassifier(**params)\n",
    "    gb_classifier.fit(X_train, y_train)\n",
    "\n",
    "    validation_accuracy = gb_classifier.score(X_val, y_val)\n",
    "    print('Validation accuracy: ', validation_accuracy)\n",
    "    return gb_classifier"
   ]
  },
  {
   "cell_type": "code",
   "execution_count": 111,
   "metadata": {},
   "outputs": [
    {
     "name": "stdout",
     "output_type": "stream",
     "text": [
      "Validation accuracy:  0.8104377104377104\n",
      "Execution time:  894.3791055679321\n"
     ]
    }
   ],
   "source": [
    "gb_start = time.time()\n",
    "gb_classifier=gb_model(X_train_gb, X_val_gb, y_train_gb, y_val_gb)\n",
    "gb_end = time.time()\n",
    "print('Execution time: ',(gb_end-gb_start))"
   ]
  },
  {
   "cell_type": "markdown",
   "metadata": {},
   "source": [
    "- Fit model"
   ]
  },
  {
   "cell_type": "code",
   "execution_count": 117,
   "metadata": {},
   "outputs": [],
   "source": [
    "#          best_params = {'learning_rate': [0.075],\n",
    "#                         'max_depth': [14],\n",
    "#                         'min_samples_leaf': [16],\n",
    "#                         'max_features': [1.0],\n",
    "#                         'n_estimators': [100]}                      \n",
    "\n",
    "#          estimator = GridSearchCV(estimator=GradientBoostingClassifier(),\n",
    "#                                  param_grid=best_params,\n",
    "#                                  n_jobs=-1)  \n",
    "predictions = gb_classifier.predict(df_test_gb)"
   ]
  },
  {
   "cell_type": "code",
   "execution_count": 118,
   "metadata": {},
   "outputs": [
    {
     "name": "stdout",
     "output_type": "stream",
     "text": [
      "['functional' 'functional' 'functional' 'non functional' 'functional'\n",
      " 'functional' 'functional' 'non functional' 'non functional' 'functional']\n"
     ]
    }
   ],
   "source": [
    "print(predictions[:10])"
   ]
  },
  {
   "cell_type": "code",
   "execution_count": 122,
   "metadata": {},
   "outputs": [
    {
     "name": "stdout",
     "output_type": "stream",
     "text": [
      "['functional' 'functional' 'functional' 'non functional' 'functional'\n",
      " 'functional' 'functional' 'non functional' 'non functional' 'functional']\n",
      "      id    status_group\n",
      "0  50785      functional\n",
      "1  51630      functional\n",
      "2  17168      functional\n",
      "3  45559  non functional\n",
      "4  49871      functional\n",
      "5  52449      functional\n",
      "6  24806      functional\n",
      "7  28965  non functional\n",
      "8  36301  non functional\n",
      "9  54122      functional\n"
     ]
    }
   ],
   "source": [
    "df_test_gb['status_group']=predictions\n",
    "print(df_test_gb.status_group[:10])\n",
    "print(df_test_gb[['id','status_group']][:10])\n",
    "# data={'ID':df_test_gb['id'], 'status_group': predictions}\n",
    "# submit_gb=pd.DataFrame(data=data)\n",
    "# print(submit_gb[:10])\n",
    "# # vals_to_replace = {2:'functional', 1:'functional needs repair',\n",
    "# #                0:'non functional'}\n",
    "# # df_test_gb.status_group = df_test_gb.status_group.replace(vals_to_replace)        \n",
    "# submit_gb.to_csv('result/outputGB.csv', index=False)\n",
    "df_test_gb[['id','status_group']].to_csv('result/outputGB2.csv', index=False)"
   ]
  },
  {
   "cell_type": "code",
   "execution_count": null,
   "metadata": {},
   "outputs": [],
   "source": []
  }
 ],
 "metadata": {
  "kernelspec": {
   "display_name": "Python 3",
   "language": "python",
   "name": "python3"
  },
  "language_info": {
   "codemirror_mode": {
    "name": "ipython",
    "version": 3
   },
   "file_extension": ".py",
   "mimetype": "text/x-python",
   "name": "python",
   "nbconvert_exporter": "python",
   "pygments_lexer": "ipython3",
   "version": "3.7.3"
  }
 },
 "nbformat": 4,
 "nbformat_minor": 2
}
